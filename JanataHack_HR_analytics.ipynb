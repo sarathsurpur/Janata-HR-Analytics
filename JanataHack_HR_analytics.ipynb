{
  "nbformat": 4,
  "nbformat_minor": 0,
  "metadata": {
    "colab": {
      "name": "JanataHack_HR analytics.ipynb",
      "provenance": []
    },
    "kernelspec": {
      "name": "python3",
      "display_name": "Python 3"
    }
  },
  "cells": [
    {
      "cell_type": "markdown",
      "metadata": {
        "id": "wUtAaEroCT7E",
        "colab_type": "text"
      },
      "source": [
        "# PROBLEM STATEMENT\n",
        "\n",
        "A training institute which conducts training for analytics/ data science wants to expand their business to manpower recruitment (data science only) as well. \n",
        " \n",
        "Company gets large number of signups for their trainings. Now, company wants to connect these enrollees with their clients who are looking to hire employees working in the same domain. Before that, it is important to know which of these candidates are really looking for a new employment. They have student information related to demographics, education, experience and features related to training as well.\n",
        " \n",
        "To understand the factors that lead a person to look for a job change, the agency wants you to design a model that uses the current credentials/demographics/experience to predict the probability of an enrollee to look for a new job.\n",
        "\n",
        "## Data Dictionary \n",
        "\n",
        "| Variable | Description |\n",
        "|----------|-------------|\n",
        "|enrollee_id| Unique ID for enrollee|\n",
        "|city|City code|\n",
        "|city_development_index|Developement index of the city (scaled)|\n",
        "|gender|Gender|\n",
        "|relevent_experience|Relevent experience|\n",
        "|enrolled_university|Type of University course enrolled if any|\n",
        "|education_level|Education level|\n",
        "|major_discipline|Major discipline|\n",
        "|experience|Total experience in years|\n",
        "|company_size|No of employees in current employer's company|\n",
        "|company_type|Type of current employer|\n",
        "|last_new_job|Difference in years between previous job and current job|\n",
        "|training_hours|training hours completed|\n",
        "\n",
        "target\n",
        "\n",
        "0 – Not looking for job change, 1 – Looking for a job change\n",
        "\n",
        " \n",
        "\n",
        "Note that the dataset has a number of missing values and must be treated accordingly before fitting any model. You can refer to this article for a primer on how to deal with missing values.\n",
        "\n",
        "sample_submission.csv <br>\n",
        "\n",
        "|Column Name|\tDescription|\n",
        "|-----------|------------|\n",
        "|enrollee_id|Unique ID for enrollee|\n",
        "|target|probability of an enrollee looking for a job change|"
      ]
    },
    {
      "cell_type": "code",
      "metadata": {
        "id": "Vmq0g7eFCaKS",
        "colab_type": "code",
        "outputId": "da6b9101-2eee-40e1-8057-1b2a12fd3d46",
        "colab": {
          "base_uri": "https://localhost:8080/",
          "height": 188
        }
      },
      "source": [
        "!pip install pyforest"
      ],
      "execution_count": 0,
      "outputs": [
        {
          "output_type": "stream",
          "text": [
            "Collecting pyforest\n",
            "  Downloading https://files.pythonhosted.org/packages/8f/85/77a9d2d9ff240822039f3dfd7a3b374d0621a0df5feb5d270a2151f6bb6d/pyforest-1.0.3.tar.gz\n",
            "Building wheels for collected packages: pyforest\n",
            "  Building wheel for pyforest (setup.py) ... \u001b[?25l\u001b[?25hdone\n",
            "  Created wheel for pyforest: filename=pyforest-1.0.3-py2.py3-none-any.whl size=13715 sha256=9d8c06e9eedbbdba3d9d342443116f80cfe5043658b5e56deefd74155ba49a81\n",
            "  Stored in directory: /root/.cache/pip/wheels/af/0b/39/340a7f15fc8d4ff5ab50847b28789afea04452a9d51b9721b5\n",
            "Successfully built pyforest\n",
            "Installing collected packages: pyforest\n",
            "Successfully installed pyforest-1.0.3\n"
          ],
          "name": "stdout"
        }
      ]
    },
    {
      "cell_type": "code",
      "metadata": {
        "id": "ODGrbTB1D0dW",
        "colab_type": "code",
        "colab": {}
      },
      "source": [
        "import pyforest"
      ],
      "execution_count": 0,
      "outputs": []
    },
    {
      "cell_type": "code",
      "metadata": {
        "id": "xkm2bplJDl39",
        "colab_type": "code",
        "outputId": "eec60813-c1fd-4f14-92b6-e64758fca9dd",
        "colab": {
          "base_uri": "https://localhost:8080/",
          "height": 17
        }
      },
      "source": [
        "PATH = '/content/drive/My Drive/Janatahack_HR_ANALYTICS/'\n",
        "\n",
        "train = pd.read_csv(PATH + 'train.csv')\n",
        "test = pd.read_csv(PATH + 'test.csv')"
      ],
      "execution_count": 0,
      "outputs": [
        {
          "output_type": "display_data",
          "data": {
            "application/javascript": [
              "\n",
              "        if (window._pyforest_update_imports_cell) { window._pyforest_update_imports_cell('import numpy as np\\nfrom sklearn.model_selection import train_test_split\\nimport lightgbm as lgb\\nimport pandas as pd\\nimport xgboost as xgb'); }\n",
              "    "
            ],
            "text/plain": [
              "<IPython.core.display.Javascript object>"
            ]
          },
          "metadata": {
            "tags": []
          }
        },
        {
          "output_type": "display_data",
          "data": {
            "application/javascript": [
              "\n",
              "        if (window._pyforest_update_imports_cell) { window._pyforest_update_imports_cell('import numpy as np\\nfrom sklearn.model_selection import train_test_split\\nimport lightgbm as lgb\\nimport pandas as pd\\nimport xgboost as xgb'); }\n",
              "    "
            ],
            "text/plain": [
              "<IPython.core.display.Javascript object>"
            ]
          },
          "metadata": {
            "tags": []
          }
        }
      ]
    },
    {
      "cell_type": "code",
      "metadata": {
        "id": "O3aREL298Sln",
        "colab_type": "code",
        "colab": {}
      },
      "source": [
        "CATEGORICAL_COL = ['city','gender','enrolled_university',\\\n",
        "                   'major_discipline', 'company_type','relevent_experience']\n",
        "\n",
        "ORDINAL = ['education_level', 'experience','company_size','last_new_job']"
      ],
      "execution_count": 0,
      "outputs": []
    },
    {
      "cell_type": "markdown",
      "metadata": {
        "id": "1d7oX4J-4g1d",
        "colab_type": "text"
      },
      "source": [
        "# DATA description"
      ]
    },
    {
      "cell_type": "code",
      "metadata": {
        "id": "I8hWZAK9DymA",
        "colab_type": "code",
        "outputId": "e6c99a3b-def2-48d6-dd73-3a3e0123031b",
        "colab": {
          "base_uri": "https://localhost:8080/",
          "height": 282
        }
      },
      "source": [
        "train.head()"
      ],
      "execution_count": 0,
      "outputs": [
        {
          "output_type": "execute_result",
          "data": {
            "text/html": [
              "<div>\n",
              "<style scoped>\n",
              "    .dataframe tbody tr th:only-of-type {\n",
              "        vertical-align: middle;\n",
              "    }\n",
              "\n",
              "    .dataframe tbody tr th {\n",
              "        vertical-align: top;\n",
              "    }\n",
              "\n",
              "    .dataframe thead th {\n",
              "        text-align: right;\n",
              "    }\n",
              "</style>\n",
              "<table border=\"1\" class=\"dataframe\">\n",
              "  <thead>\n",
              "    <tr style=\"text-align: right;\">\n",
              "      <th></th>\n",
              "      <th>enrollee_id</th>\n",
              "      <th>city</th>\n",
              "      <th>city_development_index</th>\n",
              "      <th>gender</th>\n",
              "      <th>relevent_experience</th>\n",
              "      <th>enrolled_university</th>\n",
              "      <th>education_level</th>\n",
              "      <th>major_discipline</th>\n",
              "      <th>experience</th>\n",
              "      <th>company_size</th>\n",
              "      <th>company_type</th>\n",
              "      <th>last_new_job</th>\n",
              "      <th>training_hours</th>\n",
              "      <th>target</th>\n",
              "    </tr>\n",
              "  </thead>\n",
              "  <tbody>\n",
              "    <tr>\n",
              "      <th>0</th>\n",
              "      <td>23798</td>\n",
              "      <td>city_149</td>\n",
              "      <td>0.689</td>\n",
              "      <td>Male</td>\n",
              "      <td>Has relevent experience</td>\n",
              "      <td>no_enrollment</td>\n",
              "      <td>Graduate</td>\n",
              "      <td>STEM</td>\n",
              "      <td>3</td>\n",
              "      <td>100-500</td>\n",
              "      <td>Pvt Ltd</td>\n",
              "      <td>1</td>\n",
              "      <td>106</td>\n",
              "      <td>0</td>\n",
              "    </tr>\n",
              "    <tr>\n",
              "      <th>1</th>\n",
              "      <td>29166</td>\n",
              "      <td>city_83</td>\n",
              "      <td>0.923</td>\n",
              "      <td>Male</td>\n",
              "      <td>Has relevent experience</td>\n",
              "      <td>no_enrollment</td>\n",
              "      <td>Graduate</td>\n",
              "      <td>STEM</td>\n",
              "      <td>14</td>\n",
              "      <td>&lt;10</td>\n",
              "      <td>Funded Startup</td>\n",
              "      <td>1</td>\n",
              "      <td>69</td>\n",
              "      <td>0</td>\n",
              "    </tr>\n",
              "    <tr>\n",
              "      <th>2</th>\n",
              "      <td>46</td>\n",
              "      <td>city_16</td>\n",
              "      <td>0.910</td>\n",
              "      <td>NaN</td>\n",
              "      <td>Has relevent experience</td>\n",
              "      <td>no_enrollment</td>\n",
              "      <td>Graduate</td>\n",
              "      <td>STEM</td>\n",
              "      <td>6</td>\n",
              "      <td>50-99</td>\n",
              "      <td>Public Sector</td>\n",
              "      <td>2</td>\n",
              "      <td>4</td>\n",
              "      <td>0</td>\n",
              "    </tr>\n",
              "    <tr>\n",
              "      <th>3</th>\n",
              "      <td>18527</td>\n",
              "      <td>city_64</td>\n",
              "      <td>0.666</td>\n",
              "      <td>Male</td>\n",
              "      <td>Has relevent experience</td>\n",
              "      <td>no_enrollment</td>\n",
              "      <td>Graduate</td>\n",
              "      <td>STEM</td>\n",
              "      <td>14</td>\n",
              "      <td>50-99</td>\n",
              "      <td>Pvt Ltd</td>\n",
              "      <td>1</td>\n",
              "      <td>26</td>\n",
              "      <td>0</td>\n",
              "    </tr>\n",
              "    <tr>\n",
              "      <th>4</th>\n",
              "      <td>21751</td>\n",
              "      <td>city_100</td>\n",
              "      <td>0.887</td>\n",
              "      <td>NaN</td>\n",
              "      <td>No relevent experience</td>\n",
              "      <td>no_enrollment</td>\n",
              "      <td>Masters</td>\n",
              "      <td>STEM</td>\n",
              "      <td>8</td>\n",
              "      <td>NaN</td>\n",
              "      <td>NaN</td>\n",
              "      <td>2</td>\n",
              "      <td>88</td>\n",
              "      <td>1</td>\n",
              "    </tr>\n",
              "  </tbody>\n",
              "</table>\n",
              "</div>"
            ],
            "text/plain": [
              "   enrollee_id      city  ...  training_hours target\n",
              "0        23798  city_149  ...             106      0\n",
              "1        29166   city_83  ...              69      0\n",
              "2           46   city_16  ...               4      0\n",
              "3        18527   city_64  ...              26      0\n",
              "4        21751  city_100  ...              88      1\n",
              "\n",
              "[5 rows x 14 columns]"
            ]
          },
          "metadata": {
            "tags": []
          },
          "execution_count": 73
        }
      ]
    },
    {
      "cell_type": "code",
      "metadata": {
        "id": "rf9-GhatD4pd",
        "colab_type": "code",
        "outputId": "8dd48793-5eeb-4695-ef33-4b0deba5ace0",
        "colab": {
          "base_uri": "https://localhost:8080/",
          "height": 50
        }
      },
      "source": [
        "print('Number of records in train set', train.shape[0])\n",
        "print('Number of records in test set', test.shape[0])"
      ],
      "execution_count": 0,
      "outputs": [
        {
          "output_type": "stream",
          "text": [
            "Number of records in train set 18359\n",
            "Number of records in test set 15021\n"
          ],
          "name": "stdout"
        }
      ]
    },
    {
      "cell_type": "code",
      "metadata": {
        "id": "R09hUs9XEG65",
        "colab_type": "code",
        "outputId": "8747118e-3183-42c5-ec7c-fdd74875c34c",
        "colab": {
          "base_uri": "https://localhost:8080/",
          "height": 67
        }
      },
      "source": [
        "train['target'].value_counts(normalize=True)"
      ],
      "execution_count": 0,
      "outputs": [
        {
          "output_type": "execute_result",
          "data": {
            "text/plain": [
              "0    0.867912\n",
              "1    0.132088\n",
              "Name: target, dtype: float64"
            ]
          },
          "metadata": {
            "tags": []
          },
          "execution_count": 6
        }
      ]
    },
    {
      "cell_type": "markdown",
      "metadata": {
        "id": "Xe9N65U9ETvT",
        "colab_type": "text"
      },
      "source": [
        "It is highly Imbalanced dataset\n",
        "with 86% class as not looking for change and 14% looking for change"
      ]
    },
    {
      "cell_type": "code",
      "metadata": {
        "id": "vYIVjElWESF2",
        "colab_type": "code",
        "colab": {}
      },
      "source": [
        "def miss_data(df):\n",
        "    x = ['column_name','missing_data', 'missing_in_percentage']\n",
        "    missing_data = pd.DataFrame(columns=x)\n",
        "    columns = df.columns\n",
        "    for col in columns:\n",
        "        icolumn_name = col\n",
        "        imissing_data = df[col].isnull().sum()\n",
        "        imissing_in_percentage = (df[col].isnull().sum()/df[col].shape[0])*100\n",
        "\n",
        "        missing_data.loc[len(missing_data)] = [icolumn_name, imissing_data, imissing_in_percentage]\n",
        "    print(missing_data)"
      ],
      "execution_count": 0,
      "outputs": []
    },
    {
      "cell_type": "code",
      "metadata": {
        "id": "njSiaDxoE1YE",
        "colab_type": "code",
        "outputId": "8b2d81bc-2c5a-4295-aad6-f3ab192a7288",
        "colab": {
          "base_uri": "https://localhost:8080/",
          "height": 269
        }
      },
      "source": [
        "miss_data(train)"
      ],
      "execution_count": 0,
      "outputs": [
        {
          "output_type": "display_data",
          "data": {
            "application/javascript": [
              "\n",
              "        if (window._pyforest_update_imports_cell) { window._pyforest_update_imports_cell('import pandas as pd'); }\n",
              "    "
            ],
            "text/plain": [
              "<IPython.core.display.Javascript object>"
            ]
          },
          "metadata": {
            "tags": []
          }
        },
        {
          "output_type": "stream",
          "text": [
            "               column_name missing_data  missing_in_percentage\n",
            "0              enrollee_id            0               0.000000\n",
            "1                     city            0               0.000000\n",
            "2   city_development_index            0               0.000000\n",
            "3                   gender         4098              22.321477\n",
            "4      relevent_experience            0               0.000000\n",
            "5      enrolled_university          342               1.862847\n",
            "6          education_level          457               2.489242\n",
            "7         major_discipline         2838              15.458358\n",
            "8               experience           59               0.321368\n",
            "9             company_size         4779              26.030830\n",
            "10            company_type         5039              27.447029\n",
            "11            last_new_job          367               1.999020\n",
            "12          training_hours            0               0.000000\n",
            "13                  target            0               0.000000\n"
          ],
          "name": "stdout"
        }
      ]
    },
    {
      "cell_type": "markdown",
      "metadata": {
        "id": "f7efOGF8FKm2",
        "colab_type": "text"
      },
      "source": [
        "From the above table we can see that three columns gender, company_size and company_type has 27% missing values highest among the othre columns"
      ]
    },
    {
      "cell_type": "code",
      "metadata": {
        "id": "sJYFlefGFHam",
        "colab_type": "code",
        "outputId": "34b9ed3f-376e-49a3-9f92-71bcdf9981ac",
        "colab": {
          "base_uri": "https://localhost:8080/",
          "height": 252
        }
      },
      "source": [
        "miss_data(test)"
      ],
      "execution_count": 0,
      "outputs": [
        {
          "output_type": "display_data",
          "data": {
            "application/javascript": [
              "\n",
              "        if (window._pyforest_update_imports_cell) { window._pyforest_update_imports_cell('import pandas as pd'); }\n",
              "    "
            ],
            "text/plain": [
              "<IPython.core.display.Javascript object>"
            ]
          },
          "metadata": {
            "tags": []
          }
        },
        {
          "output_type": "stream",
          "text": [
            "               column_name missing_data  missing_in_percentage\n",
            "0              enrollee_id            0               0.000000\n",
            "1                     city            0               0.000000\n",
            "2   city_development_index            0               0.000000\n",
            "3                   gender         3388              22.555090\n",
            "4      relevent_experience            0               0.000000\n",
            "5      enrolled_university          279               1.857400\n",
            "6          education_level          395               2.629652\n",
            "7         major_discipline         2393              15.931030\n",
            "8               experience           44               0.292923\n",
            "9             company_size         4051              26.968910\n",
            "10            company_type         4330              28.826310\n",
            "11            last_new_job          304               2.023833\n",
            "12          training_hours            0               0.000000\n"
          ],
          "name": "stdout"
        }
      ]
    },
    {
      "cell_type": "markdown",
      "metadata": {
        "id": "QDcWTEIGFajr",
        "colab_type": "text"
      },
      "source": [
        "Test set follows the similar distribution for missing data as training set"
      ]
    },
    {
      "cell_type": "code",
      "metadata": {
        "id": "wW7umF-wFkfI",
        "colab_type": "code",
        "outputId": "438cc228-35e7-4c4d-b859-1d74a4131839",
        "colab": {
          "base_uri": "https://localhost:8080/",
          "height": 370
        }
      },
      "source": [
        "train.info()"
      ],
      "execution_count": 0,
      "outputs": [
        {
          "output_type": "stream",
          "text": [
            "<class 'pandas.core.frame.DataFrame'>\n",
            "RangeIndex: 18359 entries, 0 to 18358\n",
            "Data columns (total 14 columns):\n",
            " #   Column                  Non-Null Count  Dtype  \n",
            "---  ------                  --------------  -----  \n",
            " 0   enrollee_id             18359 non-null  int64  \n",
            " 1   city                    18359 non-null  object \n",
            " 2   city_development_index  18359 non-null  float64\n",
            " 3   gender                  14261 non-null  object \n",
            " 4   relevent_experience     18359 non-null  object \n",
            " 5   enrolled_university     18017 non-null  object \n",
            " 6   education_level         17902 non-null  object \n",
            " 7   major_discipline        15521 non-null  object \n",
            " 8   experience              18300 non-null  object \n",
            " 9   company_size            13580 non-null  object \n",
            " 10  company_type            13320 non-null  object \n",
            " 11  last_new_job            17992 non-null  object \n",
            " 12  training_hours          18359 non-null  int64  \n",
            " 13  target                  18359 non-null  int64  \n",
            "dtypes: float64(1), int64(3), object(10)\n",
            "memory usage: 2.0+ MB\n"
          ],
          "name": "stdout"
        }
      ]
    },
    {
      "cell_type": "markdown",
      "metadata": {
        "id": "sfssw9A-If-z",
        "colab_type": "text"
      },
      "source": [
        "we have two continuous attributes city development index and training hours rest all are categorical columns"
      ]
    },
    {
      "cell_type": "code",
      "metadata": {
        "id": "9Gw3HsNsFq3K",
        "colab_type": "code",
        "outputId": "2cab5a80-b0ca-4ffd-ea04-8f4377794a3f",
        "colab": {
          "base_uri": "https://localhost:8080/",
          "height": 286
        }
      },
      "source": [
        "print('Number of unique elements in each column')\n",
        "print('******************************************')\n",
        "for i in train.columns:\n",
        "  uniq = train[i].nunique()\n",
        "  print(f'{i}: {uniq}')"
      ],
      "execution_count": 0,
      "outputs": [
        {
          "output_type": "stream",
          "text": [
            "Number of unique elements in each column\n",
            "******************************************\n",
            "enrollee_id: 18359\n",
            "city: 123\n",
            "city_development_index: 93\n",
            "gender: 3\n",
            "relevent_experience: 2\n",
            "enrolled_university: 3\n",
            "education_level: 5\n",
            "major_discipline: 6\n",
            "experience: 22\n",
            "company_size: 8\n",
            "company_type: 6\n",
            "last_new_job: 6\n",
            "training_hours: 241\n",
            "target: 2\n"
          ],
          "name": "stdout"
        }
      ]
    },
    {
      "cell_type": "code",
      "metadata": {
        "id": "XH5g4XQcIzDE",
        "colab_type": "code",
        "colab": {}
      },
      "source": [
        "CATEGORICAL_COL = ['city','gender', 'relevent_experience','enrolled_university',\\\n",
        "                   'education_level','major_discipline','experience',\\\n",
        "                   'company_size','company_type','last_new_job']"
      ],
      "execution_count": 0,
      "outputs": []
    },
    {
      "cell_type": "code",
      "metadata": {
        "id": "PDXsiN4hihcm",
        "colab_type": "code",
        "outputId": "fc222794-19e7-4573-83a0-edda02e38878",
        "colab": {
          "base_uri": "https://localhost:8080/",
          "height": 521
        }
      },
      "source": [
        "for i in CATEGORICAL_COL:\n",
        "  print(f'{i}:{test[i].unique()}')"
      ],
      "execution_count": 0,
      "outputs": [
        {
          "output_type": "stream",
          "text": [
            "city:['city_33' 'city_28' 'city_103' 'city_104' 'city_77' 'city_160' 'city_21'\n",
            " 'city_114' 'city_16' 'city_67' 'city_50' 'city_71' 'city_136' 'city_59'\n",
            " 'city_102' 'city_57' 'city_100' 'city_173' 'city_65' 'city_36' 'city_97'\n",
            " 'city_1' 'city_24' 'city_61' 'city_117' 'city_101' 'city_13' 'city_10'\n",
            " 'city_75' 'city_180' 'city_140' 'city_131' 'city_138' 'city_45' 'city_74'\n",
            " 'city_142' 'city_46' 'city_73' 'city_141' 'city_157' 'city_11' 'city_116'\n",
            " 'city_109' 'city_89' 'city_80' 'city_39' 'city_98' 'city_41' 'city_152'\n",
            " 'city_99' 'city_42' 'city_143' 'city_105' 'city_83' 'city_91' 'city_149'\n",
            " 'city_134' 'city_93' 'city_20' 'city_165' 'city_23' 'city_146' 'city_128'\n",
            " 'city_19' 'city_84' 'city_76' 'city_94' 'city_127' 'city_162' 'city_90'\n",
            " 'city_30' 'city_53' 'city_40' 'city_120' 'city_62' 'city_123' 'city_82'\n",
            " 'city_158' 'city_167' 'city_54' 'city_118' 'city_64' 'city_121'\n",
            " 'city_176' 'city_70' 'city_150' 'city_159' 'city_27' 'city_133'\n",
            " 'city_115' 'city_18' 'city_171' 'city_145' 'city_44' 'city_78' 'city_144'\n",
            " 'city_55' 'city_9' 'city_26' 'city_126' 'city_8' 'city_179' 'city_175'\n",
            " 'city_155' 'city_43' 'city_129' 'city_12' 'city_72' 'city_37' 'city_14'\n",
            " 'city_79' 'city_2' 'city_106' 'city_31' 'city_81' 'city_25' 'city_69'\n",
            " 'city_7' 'city_107' 'city_48' 'city_111' 'city_166' 'city_139']\n",
            "gender:[nan 'Male' 'Female' 'Other']\n",
            "relevent_experience:['No relevent experience' 'Has relevent experience']\n",
            "enrolled_university:['Full time course' 'no_enrollment' 'Part time course' nan]\n",
            "education_level:['Graduate' 'Phd' 'High School' 'Masters' nan 'Primary School']\n",
            "major_discipline:['STEM' nan 'Arts' 'Humanities' 'Other' 'No Major' 'Business Degree']\n",
            "experience:['<1' '>20' '3' '6' '7' '9' '18' '2' '10' '14' '16' '5' '19' '17' '4' '8'\n",
            " '12' '13' '20' '15' '1' '11' nan]\n",
            "company_size:['1000-4999' '50-99' nan '<10' '100-500' '10000+' '10/49' '5000-9999'\n",
            " '500-999']\n",
            "company_type:['Public Sector' 'Pvt Ltd' nan 'NGO' 'Funded Startup'\n",
            " 'Early Stage Startup' 'Other']\n",
            "last_new_job:[nan '1' '2' '>4' 'never' '4' '3']\n"
          ],
          "name": "stdout"
        }
      ]
    },
    {
      "cell_type": "code",
      "metadata": {
        "id": "Sg78cb7lH4zE",
        "colab_type": "code",
        "outputId": "2929c188-4965-4f5d-c529-6231b3a07afc",
        "colab": {
          "base_uri": "https://localhost:8080/",
          "height": 521
        }
      },
      "source": [
        "for i in CATEGORICAL_COL:\n",
        "  print(f'{i}:{train[i].unique()}')"
      ],
      "execution_count": 0,
      "outputs": [
        {
          "output_type": "stream",
          "text": [
            "city:['city_149' 'city_83' 'city_16' 'city_64' 'city_100' 'city_21' 'city_114'\n",
            " 'city_103' 'city_97' 'city_160' 'city_65' 'city_90' 'city_75' 'city_136'\n",
            " 'city_159' 'city_67' 'city_28' 'city_10' 'city_73' 'city_76' 'city_104'\n",
            " 'city_27' 'city_30' 'city_61' 'city_99' 'city_41' 'city_142' 'city_9'\n",
            " 'city_116' 'city_128' 'city_74' 'city_69' 'city_1' 'city_176' 'city_40'\n",
            " 'city_123' 'city_152' 'city_165' 'city_89' 'city_36' 'city_44' 'city_46'\n",
            " 'city_45' 'city_134' 'city_93' 'city_180' 'city_162' 'city_84' 'city_138'\n",
            " 'city_173' 'city_19' 'city_71' 'city_158' 'city_23' 'city_102' 'city_105'\n",
            " 'city_91' 'city_11' 'city_13' 'city_57' 'city_20' 'city_14' 'city_37'\n",
            " 'city_115' 'city_50' 'city_167' 'city_12' 'city_143' 'city_126' 'city_77'\n",
            " 'city_101' 'city_150' 'city_179' 'city_107' 'city_175' 'city_146'\n",
            " 'city_98' 'city_166' 'city_118' 'city_129' 'city_127' 'city_24' 'city_81'\n",
            " 'city_26' 'city_139' 'city_94' 'city_70' 'city_145' 'city_157' 'city_111'\n",
            " 'city_78' 'city_80' 'city_33' 'city_7' 'city_72' 'city_43' 'city_144'\n",
            " 'city_39' 'city_59' 'city_48' 'city_131' 'city_121' 'city_141' 'city_42'\n",
            " 'city_117' 'city_55' 'city_54' 'city_8' 'city_62' 'city_53' 'city_106'\n",
            " 'city_155' 'city_133' 'city_171' 'city_2' 'city_120' 'city_18' 'city_79'\n",
            " 'city_31' 'city_109' 'city_25' 'city_82' 'city_140']\n",
            "gender:['Male' nan 'Female' 'Other']\n",
            "relevent_experience:['Has relevent experience' 'No relevent experience']\n",
            "enrolled_university:['no_enrollment' 'Full time course' 'Part time course' nan]\n",
            "education_level:['Graduate' 'Masters' 'High School' 'Phd' nan 'Primary School']\n",
            "major_discipline:['STEM' 'Other' 'No Major' nan 'Business Degree' 'Arts' 'Humanities']\n",
            "experience:['3' '14' '6' '8' '>20' '4' '9' '15' '10' '1' '5' '16' '11' '12' '7' '2'\n",
            " '13' '<1' '19' '18' '17' nan '20']\n",
            "company_size:['100-500' '<10' '50-99' nan '5000-9999' '10000+' '1000-4999' '500-999'\n",
            " '10/49']\n",
            "company_type:['Pvt Ltd' 'Funded Startup' 'Public Sector' nan 'Early Stage Startup'\n",
            " 'NGO' 'Other']\n",
            "last_new_job:['1' '2' '3' '>4' 'never' '4' nan]\n"
          ],
          "name": "stdout"
        }
      ]
    },
    {
      "cell_type": "markdown",
      "metadata": {
        "id": "6a-hFAHXlwH7",
        "colab_type": "text"
      },
      "source": [
        "# EDA"
      ]
    },
    {
      "cell_type": "code",
      "metadata": {
        "id": "kGn3LkF_mGAS",
        "colab_type": "code",
        "colab": {}
      },
      "source": [
        "def col_plot(train, col):\n",
        "  fig, ax = plt.subplots(1, 2, figsize=(14, 4))\n",
        "  train[train['target'] == 0][col].value_counts(normalize=True).plot(kind='bar',ax=ax[0]).set_title('STAY')\n",
        "  train[train['target'] == 1][col].value_counts(normalize=True).plot(kind='bar',ax=ax[1]).set_title('LEAVE')\n",
        "  plt.show()"
      ],
      "execution_count": 0,
      "outputs": []
    },
    {
      "cell_type": "code",
      "metadata": {
        "id": "ysQrsi8So2aD",
        "colab_type": "code",
        "outputId": "8757a6a5-dc9b-4f32-dc0b-cd85830d3f1b",
        "colab": {
          "base_uri": "https://localhost:8080/",
          "height": 307
        }
      },
      "source": [
        "col_plot(train, 'gender')"
      ],
      "execution_count": 0,
      "outputs": [
        {
          "output_type": "display_data",
          "data": {
            "image/png": "[encoded data removed]",
            "text/plain": [
              "<Figure size 1008x288 with 2 Axes>"
            ]
          },
          "metadata": {
            "tags": [],
            "needs_background": "light"
          }
        }
      ]
    },
    {
      "cell_type": "code",
      "metadata": {
        "id": "sFDTTE5jo9cD",
        "colab_type": "code",
        "outputId": "ce992b9c-2a22-48ac-ffab-5b1be3d71d69",
        "colab": {
          "base_uri": "https://localhost:8080/",
          "height": 393
        }
      },
      "source": [
        "col_plot(train,'relevent_experience')"
      ],
      "execution_count": 0,
      "outputs": [
        {
          "output_type": "display_data",
          "data": {
            "image/png": "[encoded data removed]",
            "text/plain": [
              "<Figure size 1008x288 with 2 Axes>"
            ]
          },
          "metadata": {
            "tags": [],
            "needs_background": "light"
          }
        }
      ]
    },
    {
      "cell_type": "code",
      "metadata": {
        "id": "s_-WZPigpHoH",
        "colab_type": "code",
        "outputId": "a0d07a94-077a-46ec-aa89-af8fc675656f",
        "colab": {
          "base_uri": "https://localhost:8080/",
          "height": 353
        }
      },
      "source": [
        "col_plot(train,'enrolled_university')"
      ],
      "execution_count": 0,
      "outputs": [
        {
          "output_type": "display_data",
          "data": {
            "image/png": "[encoded data removed]",
            "text/plain": [
              "<Figure size 1008x288 with 2 Axes>"
            ]
          },
          "metadata": {
            "tags": [],
            "needs_background": "light"
          }
        }
      ]
    },
    {
      "cell_type": "code",
      "metadata": {
        "id": "INHElCeqpPN1",
        "colab_type": "code",
        "outputId": "4246ae06-d34f-4bd2-efcf-e4657715984a",
        "colab": {
          "base_uri": "https://localhost:8080/",
          "height": 346
        }
      },
      "source": [
        "col_plot(train,'education_level')"
      ],
      "execution_count": 0,
      "outputs": [
        {
          "output_type": "display_data",
          "data": {
            "image/png": "[encoded data removed]",
            "text/plain": [
              "<Figure size 1008x288 with 2 Axes>"
            ]
          },
          "metadata": {
            "tags": [],
            "needs_background": "light"
          }
        }
      ]
    },
    {
      "cell_type": "code",
      "metadata": {
        "id": "HKDMCdJft28B",
        "colab_type": "code",
        "outputId": "33db2b97-947c-4f04-eedf-42840b67a4cf",
        "colab": {
          "base_uri": "https://localhost:8080/",
          "height": 355
        }
      },
      "source": [
        "col_plot(train, 'major_discipline')"
      ],
      "execution_count": 0,
      "outputs": [
        {
          "output_type": "display_data",
          "data": {
            "image/png": "[encoded data removed]",
            "text/plain": [
              "<Figure size 1008x288 with 2 Axes>"
            ]
          },
          "metadata": {
            "tags": [],
            "needs_background": "light"
          }
        }
      ]
    },
    {
      "cell_type": "code",
      "metadata": {
        "id": "NrM9wOcbpUOt",
        "colab_type": "code",
        "outputId": "7b3b2818-96c7-462c-f6b4-f6fb758f06b9",
        "colab": {
          "base_uri": "https://localhost:8080/",
          "height": 368
        }
      },
      "source": [
        "col_plot(train,'company_type')"
      ],
      "execution_count": 0,
      "outputs": [
        {
          "output_type": "display_data",
          "data": {
            "image/png": "[encoded data removed]",
            "text/plain": [
              "<Figure size 1008x288 with 2 Axes>"
            ]
          },
          "metadata": {
            "tags": [],
            "needs_background": "light"
          }
        }
      ]
    },
    {
      "cell_type": "code",
      "metadata": {
        "id": "oiyknqs3sPcl",
        "colab_type": "code",
        "outputId": "94ef9030-a7d5-49b4-cdf6-9dd1143c0ad7",
        "colab": {
          "base_uri": "https://localhost:8080/",
          "height": 326
        }
      },
      "source": [
        "col_plot(train,'company_size')"
      ],
      "execution_count": 0,
      "outputs": [
        {
          "output_type": "display_data",
          "data": {
            "image/png": "[encoded data removed]",
            "text/plain": [
              "<Figure size 1008x288 with 2 Axes>"
            ]
          },
          "metadata": {
            "tags": [],
            "needs_background": "light"
          }
        }
      ]
    },
    {
      "cell_type": "code",
      "metadata": {
        "id": "CH2oNPKapXGB",
        "colab_type": "code",
        "outputId": "8d61a6e0-3e2c-40ad-b1ff-3e0924e5aa35",
        "colab": {
          "base_uri": "https://localhost:8080/",
          "height": 300
        }
      },
      "source": [
        "col_plot(train,'last_new_job')"
      ],
      "execution_count": 0,
      "outputs": [
        {
          "output_type": "display_data",
          "data": {
            "image/png": "[encoded data removed]",
            "text/plain": [
              "<Figure size 1008x288 with 2 Axes>"
            ]
          },
          "metadata": {
            "tags": [],
            "needs_background": "light"
          }
        }
      ]
    },
    {
      "cell_type": "markdown",
      "metadata": {
        "id": "o8OG-VlPvTyv",
        "colab_type": "text"
      },
      "source": [
        "From the charts, distribution is pretty much is similar between the two class"
      ]
    },
    {
      "cell_type": "markdown",
      "metadata": {
        "id": "lgbNsZRgg1J3",
        "colab_type": "text"
      },
      "source": [
        "# ENCODING THE CATEGORICAL VARIABLE"
      ]
    },
    {
      "cell_type": "code",
      "metadata": {
        "id": "w2BQbnsNOmHc",
        "colab_type": "code",
        "colab": {}
      },
      "source": [
        "\n",
        "class LabelEncoderExt(object):\n",
        "    def __init__(self):\n",
        "        \"\"\"\n",
        "        It differs from LabelEncoder by handling new classes and providing a value for it [Unknown]\n",
        "        Unknown will be added in fit and transform will take care of new item. It gives unknown class id\n",
        "        \"\"\"\n",
        "        self.label_encoder = LabelEncoder()\n",
        "        # self.classes_ = self.label_encoder.classes_\n",
        "\n",
        "    def fit(self, data_list):\n",
        "        \"\"\"\n",
        "        This will fit the encoder for all the unique values and introduce unknown value\n",
        "        :param data_list: A list of string\n",
        "        :return: self\n",
        "        \"\"\"\n",
        "        self.label_encoder = self.label_encoder.fit(list(data_list) + ['Unknown'])\n",
        "        self.classes_ = self.label_encoder.classes_\n",
        "\n",
        "        return self\n",
        "\n",
        "    def transform(self, data_list):\n",
        "        \"\"\"\n",
        "        This will transform the data_list to id list where the new values get assigned to Unknown class\n",
        "        :param data_list:\n",
        "        :return:\n",
        "        \"\"\"\n",
        "        new_data_list = list(data_list)\n",
        "        for unique_item in np.unique(data_list):\n",
        "            if unique_item not in self.label_encoder.classes_:\n",
        "                new_data_list = ['Unknown' if x==unique_item else x for x in new_data_list]\n",
        "\n",
        "\n",
        "        return self.label_encoder.transform(new_data_list)"
      ],
      "execution_count": 0,
      "outputs": []
    },
    {
      "cell_type": "code",
      "metadata": {
        "id": "d7Vk1rboPCgw",
        "colab_type": "code",
        "colab": {}
      },
      "source": [
        "\n",
        "from sklearn.preprocessing import LabelEncoder\n",
        "label_encoder = LabelEncoderExt()"
      ],
      "execution_count": 0,
      "outputs": []
    },
    {
      "cell_type": "code",
      "metadata": {
        "id": "3yc8BLTfPN1y",
        "colab_type": "code",
        "outputId": "2d9b43cf-a89d-4635-893e-fc8716d5edea",
        "colab": {
          "base_uri": "https://localhost:8080/",
          "height": 554
        }
      },
      "source": [
        "for i in CATEGORICAL_COL:\n",
        "  # saving the index of null value in column\n",
        "  org = train[i]\n",
        "  idx = org.isna()\n",
        "  # creating the encoded value\n",
        "  label_encoder.fit(train[i].astype(str))\n",
        "  print(i)\n",
        "  print('encoding classes', label_encoder.classes_)\n",
        "  # transforming the train set value\n",
        "  train[i] = label_encoder.transform(train[i].astype(str))\n",
        "  # replacing the null values using the idx\n",
        "  train[i] = train[i].where(~idx, org)\n",
        "  org2 = test[i]\n",
        "  idx2 = org2.isna()\n",
        "  # transforming the test set value\n",
        "  test[i] = label_encoder.transform(test[i].astype(str))\n",
        "  # replacing the null values using the idx\n",
        "  test[i] = test[i].where(~idx2, org2)"
      ],
      "execution_count": 0,
      "outputs": [
        {
          "output_type": "stream",
          "text": [
            "city\n",
            "encoding classes ['Unknown' 'city_1' 'city_10' 'city_100' 'city_101' 'city_102' 'city_103'\n",
            " 'city_104' 'city_105' 'city_106' 'city_107' 'city_109' 'city_11'\n",
            " 'city_111' 'city_114' 'city_115' 'city_116' 'city_117' 'city_118'\n",
            " 'city_12' 'city_120' 'city_121' 'city_123' 'city_126' 'city_127'\n",
            " 'city_128' 'city_129' 'city_13' 'city_131' 'city_133' 'city_134'\n",
            " 'city_136' 'city_138' 'city_139' 'city_14' 'city_140' 'city_141'\n",
            " 'city_142' 'city_143' 'city_144' 'city_145' 'city_146' 'city_149'\n",
            " 'city_150' 'city_152' 'city_155' 'city_157' 'city_158' 'city_159'\n",
            " 'city_16' 'city_160' 'city_162' 'city_165' 'city_166' 'city_167'\n",
            " 'city_171' 'city_173' 'city_175' 'city_176' 'city_179' 'city_18'\n",
            " 'city_180' 'city_19' 'city_2' 'city_20' 'city_21' 'city_23' 'city_24'\n",
            " 'city_25' 'city_26' 'city_27' 'city_28' 'city_30' 'city_31' 'city_33'\n",
            " 'city_36' 'city_37' 'city_39' 'city_40' 'city_41' 'city_42' 'city_43'\n",
            " 'city_44' 'city_45' 'city_46' 'city_48' 'city_50' 'city_53' 'city_54'\n",
            " 'city_55' 'city_57' 'city_59' 'city_61' 'city_62' 'city_64' 'city_65'\n",
            " 'city_67' 'city_69' 'city_7' 'city_70' 'city_71' 'city_72' 'city_73'\n",
            " 'city_74' 'city_75' 'city_76' 'city_77' 'city_78' 'city_79' 'city_8'\n",
            " 'city_80' 'city_81' 'city_82' 'city_83' 'city_84' 'city_89' 'city_9'\n",
            " 'city_90' 'city_91' 'city_93' 'city_94' 'city_97' 'city_98' 'city_99']\n"
          ],
          "name": "stdout"
        },
        {
          "output_type": "display_data",
          "data": {
            "application/javascript": [
              "\n",
              "        if (window._pyforest_update_imports_cell) { window._pyforest_update_imports_cell('import numpy as np\\nfrom sklearn.model_selection import train_test_split\\nimport lightgbm as lgb\\nimport pandas as pd\\nimport xgboost as xgb'); }\n",
              "    "
            ],
            "text/plain": [
              "<IPython.core.display.Javascript object>"
            ]
          },
          "metadata": {
            "tags": []
          }
        },
        {
          "output_type": "display_data",
          "data": {
            "application/javascript": [
              "\n",
              "        if (window._pyforest_update_imports_cell) { window._pyforest_update_imports_cell('import numpy as np\\nfrom sklearn.model_selection import train_test_split\\nimport lightgbm as lgb\\nimport pandas as pd\\nimport xgboost as xgb'); }\n",
              "    "
            ],
            "text/plain": [
              "<IPython.core.display.Javascript object>"
            ]
          },
          "metadata": {
            "tags": []
          }
        },
        {
          "output_type": "stream",
          "text": [
            "gender\n",
            "encoding classes ['Female' 'Male' 'Other' 'Unknown' 'nan']\n"
          ],
          "name": "stdout"
        },
        {
          "output_type": "display_data",
          "data": {
            "application/javascript": [
              "\n",
              "        if (window._pyforest_update_imports_cell) { window._pyforest_update_imports_cell('import numpy as np\\nfrom sklearn.model_selection import train_test_split\\nimport lightgbm as lgb\\nimport pandas as pd\\nimport xgboost as xgb'); }\n",
              "    "
            ],
            "text/plain": [
              "<IPython.core.display.Javascript object>"
            ]
          },
          "metadata": {
            "tags": []
          }
        },
        {
          "output_type": "display_data",
          "data": {
            "application/javascript": [
              "\n",
              "        if (window._pyforest_update_imports_cell) { window._pyforest_update_imports_cell('import numpy as np\\nfrom sklearn.model_selection import train_test_split\\nimport lightgbm as lgb\\nimport pandas as pd\\nimport xgboost as xgb'); }\n",
              "    "
            ],
            "text/plain": [
              "<IPython.core.display.Javascript object>"
            ]
          },
          "metadata": {
            "tags": []
          }
        },
        {
          "output_type": "stream",
          "text": [
            "enrolled_university\n",
            "encoding classes ['Full time course' 'Part time course' 'Unknown' 'nan' 'no_enrollment']\n"
          ],
          "name": "stdout"
        },
        {
          "output_type": "display_data",
          "data": {
            "application/javascript": [
              "\n",
              "        if (window._pyforest_update_imports_cell) { window._pyforest_update_imports_cell('import numpy as np\\nfrom sklearn.model_selection import train_test_split\\nimport lightgbm as lgb\\nimport pandas as pd\\nimport xgboost as xgb'); }\n",
              "    "
            ],
            "text/plain": [
              "<IPython.core.display.Javascript object>"
            ]
          },
          "metadata": {
            "tags": []
          }
        },
        {
          "output_type": "display_data",
          "data": {
            "application/javascript": [
              "\n",
              "        if (window._pyforest_update_imports_cell) { window._pyforest_update_imports_cell('import numpy as np\\nfrom sklearn.model_selection import train_test_split\\nimport lightgbm as lgb\\nimport pandas as pd\\nimport xgboost as xgb'); }\n",
              "    "
            ],
            "text/plain": [
              "<IPython.core.display.Javascript object>"
            ]
          },
          "metadata": {
            "tags": []
          }
        },
        {
          "output_type": "stream",
          "text": [
            "major_discipline\n",
            "encoding classes ['Arts' 'Business Degree' 'Humanities' 'No Major' 'Other' 'STEM' 'Unknown'\n",
            " 'nan']\n"
          ],
          "name": "stdout"
        },
        {
          "output_type": "display_data",
          "data": {
            "application/javascript": [
              "\n",
              "        if (window._pyforest_update_imports_cell) { window._pyforest_update_imports_cell('import numpy as np\\nfrom sklearn.model_selection import train_test_split\\nimport lightgbm as lgb\\nimport pandas as pd\\nimport xgboost as xgb'); }\n",
              "    "
            ],
            "text/plain": [
              "<IPython.core.display.Javascript object>"
            ]
          },
          "metadata": {
            "tags": []
          }
        },
        {
          "output_type": "display_data",
          "data": {
            "application/javascript": [
              "\n",
              "        if (window._pyforest_update_imports_cell) { window._pyforest_update_imports_cell('import numpy as np\\nfrom sklearn.model_selection import train_test_split\\nimport lightgbm as lgb\\nimport pandas as pd\\nimport xgboost as xgb'); }\n",
              "    "
            ],
            "text/plain": [
              "<IPython.core.display.Javascript object>"
            ]
          },
          "metadata": {
            "tags": []
          }
        },
        {
          "output_type": "stream",
          "text": [
            "company_type\n",
            "encoding classes ['Early Stage Startup' 'Funded Startup' 'NGO' 'Other' 'Public Sector'\n",
            " 'Pvt Ltd' 'Unknown' 'nan']\n"
          ],
          "name": "stdout"
        },
        {
          "output_type": "display_data",
          "data": {
            "application/javascript": [
              "\n",
              "        if (window._pyforest_update_imports_cell) { window._pyforest_update_imports_cell('import numpy as np\\nfrom sklearn.model_selection import train_test_split\\nimport lightgbm as lgb\\nimport pandas as pd\\nimport xgboost as xgb'); }\n",
              "    "
            ],
            "text/plain": [
              "<IPython.core.display.Javascript object>"
            ]
          },
          "metadata": {
            "tags": []
          }
        },
        {
          "output_type": "display_data",
          "data": {
            "application/javascript": [
              "\n",
              "        if (window._pyforest_update_imports_cell) { window._pyforest_update_imports_cell('import numpy as np\\nfrom sklearn.model_selection import train_test_split\\nimport lightgbm as lgb\\nimport pandas as pd\\nimport xgboost as xgb'); }\n",
              "    "
            ],
            "text/plain": [
              "<IPython.core.display.Javascript object>"
            ]
          },
          "metadata": {
            "tags": []
          }
        },
        {
          "output_type": "stream",
          "text": [
            "relevent_experience\n",
            "encoding classes ['Has relevent experience' 'No relevent experience' 'Unknown']\n"
          ],
          "name": "stdout"
        },
        {
          "output_type": "display_data",
          "data": {
            "application/javascript": [
              "\n",
              "        if (window._pyforest_update_imports_cell) { window._pyforest_update_imports_cell('import numpy as np\\nfrom sklearn.model_selection import train_test_split\\nimport lightgbm as lgb\\nimport pandas as pd\\nimport xgboost as xgb'); }\n",
              "    "
            ],
            "text/plain": [
              "<IPython.core.display.Javascript object>"
            ]
          },
          "metadata": {
            "tags": []
          }
        },
        {
          "output_type": "display_data",
          "data": {
            "application/javascript": [
              "\n",
              "        if (window._pyforest_update_imports_cell) { window._pyforest_update_imports_cell('import numpy as np\\nfrom sklearn.model_selection import train_test_split\\nimport lightgbm as lgb\\nimport pandas as pd\\nimport xgboost as xgb'); }\n",
              "    "
            ],
            "text/plain": [
              "<IPython.core.display.Javascript object>"
            ]
          },
          "metadata": {
            "tags": []
          }
        }
      ]
    },
    {
      "cell_type": "code",
      "metadata": {
        "id": "2RG8ASfseVlg",
        "colab_type": "code",
        "outputId": "803e60ec-db1d-44d1-d890-6a5e1bed1330",
        "colab": {
          "base_uri": "https://localhost:8080/",
          "height": 215
        }
      },
      "source": [
        "train.head()"
      ],
      "execution_count": 0,
      "outputs": [
        {
          "output_type": "execute_result",
          "data": {
            "text/html": [
              "<div>\n",
              "<style scoped>\n",
              "    .dataframe tbody tr th:only-of-type {\n",
              "        vertical-align: middle;\n",
              "    }\n",
              "\n",
              "    .dataframe tbody tr th {\n",
              "        vertical-align: top;\n",
              "    }\n",
              "\n",
              "    .dataframe thead th {\n",
              "        text-align: right;\n",
              "    }\n",
              "</style>\n",
              "<table border=\"1\" class=\"dataframe\">\n",
              "  <thead>\n",
              "    <tr style=\"text-align: right;\">\n",
              "      <th></th>\n",
              "      <th>enrollee_id</th>\n",
              "      <th>city</th>\n",
              "      <th>city_development_index</th>\n",
              "      <th>gender</th>\n",
              "      <th>relevent_experience</th>\n",
              "      <th>enrolled_university</th>\n",
              "      <th>education_level</th>\n",
              "      <th>major_discipline</th>\n",
              "      <th>experience</th>\n",
              "      <th>company_size</th>\n",
              "      <th>company_type</th>\n",
              "      <th>last_new_job</th>\n",
              "      <th>training_hours</th>\n",
              "      <th>target</th>\n",
              "    </tr>\n",
              "  </thead>\n",
              "  <tbody>\n",
              "    <tr>\n",
              "      <th>0</th>\n",
              "      <td>23798</td>\n",
              "      <td>42</td>\n",
              "      <td>0.689</td>\n",
              "      <td>1</td>\n",
              "      <td>0</td>\n",
              "      <td>4</td>\n",
              "      <td>Graduate</td>\n",
              "      <td>5</td>\n",
              "      <td>3</td>\n",
              "      <td>100-500</td>\n",
              "      <td>5</td>\n",
              "      <td>1</td>\n",
              "      <td>106</td>\n",
              "      <td>0</td>\n",
              "    </tr>\n",
              "    <tr>\n",
              "      <th>1</th>\n",
              "      <td>29166</td>\n",
              "      <td>113</td>\n",
              "      <td>0.923</td>\n",
              "      <td>1</td>\n",
              "      <td>0</td>\n",
              "      <td>4</td>\n",
              "      <td>Graduate</td>\n",
              "      <td>5</td>\n",
              "      <td>14</td>\n",
              "      <td>&lt;10</td>\n",
              "      <td>1</td>\n",
              "      <td>1</td>\n",
              "      <td>69</td>\n",
              "      <td>0</td>\n",
              "    </tr>\n",
              "    <tr>\n",
              "      <th>2</th>\n",
              "      <td>46</td>\n",
              "      <td>49</td>\n",
              "      <td>0.910</td>\n",
              "      <td>NaN</td>\n",
              "      <td>0</td>\n",
              "      <td>4</td>\n",
              "      <td>Graduate</td>\n",
              "      <td>5</td>\n",
              "      <td>6</td>\n",
              "      <td>50-99</td>\n",
              "      <td>4</td>\n",
              "      <td>2</td>\n",
              "      <td>4</td>\n",
              "      <td>0</td>\n",
              "    </tr>\n",
              "    <tr>\n",
              "      <th>3</th>\n",
              "      <td>18527</td>\n",
              "      <td>94</td>\n",
              "      <td>0.666</td>\n",
              "      <td>1</td>\n",
              "      <td>0</td>\n",
              "      <td>4</td>\n",
              "      <td>Graduate</td>\n",
              "      <td>5</td>\n",
              "      <td>14</td>\n",
              "      <td>50-99</td>\n",
              "      <td>5</td>\n",
              "      <td>1</td>\n",
              "      <td>26</td>\n",
              "      <td>0</td>\n",
              "    </tr>\n",
              "    <tr>\n",
              "      <th>4</th>\n",
              "      <td>21751</td>\n",
              "      <td>3</td>\n",
              "      <td>0.887</td>\n",
              "      <td>NaN</td>\n",
              "      <td>1</td>\n",
              "      <td>4</td>\n",
              "      <td>Masters</td>\n",
              "      <td>5</td>\n",
              "      <td>8</td>\n",
              "      <td>NaN</td>\n",
              "      <td>NaN</td>\n",
              "      <td>2</td>\n",
              "      <td>88</td>\n",
              "      <td>1</td>\n",
              "    </tr>\n",
              "  </tbody>\n",
              "</table>\n",
              "</div>"
            ],
            "text/plain": [
              "   enrollee_id  city  ...  training_hours target\n",
              "0        23798    42  ...             106      0\n",
              "1        29166   113  ...              69      0\n",
              "2           46    49  ...               4      0\n",
              "3        18527    94  ...              26      0\n",
              "4        21751     3  ...              88      1\n",
              "\n",
              "[5 rows x 14 columns]"
            ]
          },
          "metadata": {
            "tags": []
          },
          "execution_count": 185
        }
      ]
    },
    {
      "cell_type": "code",
      "metadata": {
        "id": "AKIuZvWOhFVE",
        "colab_type": "code",
        "colab": {}
      },
      "source": [
        "comp_siz_mean = {'<10': 5, '10/49':30, '50-99':75, '100-500':300, \\\n",
        "            '500-999':750, '1000-4999':3000, '5000-9999':7500, '10000+':10000}"
      ],
      "execution_count": 0,
      "outputs": []
    },
    {
      "cell_type": "code",
      "metadata": {
        "id": "Ch5UvHTfei9V",
        "colab_type": "code",
        "colab": {}
      },
      "source": [
        "edu_level = {'Primary School':0,'High School':1,\n",
        "             'Graduate':2, 'Masters':3, 'Phd':4}\n",
        "exp = {'>20': '21', '<1':'0'}\n",
        "comp_siz = {'<10': 0, '10/49':1, '50-99':2, '100-500':3, \\\n",
        "            '500-999':4, '1000-4999':5, '5000-9999':6, '10000+':7}\n",
        "last_new = {'>4':'5', 'never':'0'}"
      ],
      "execution_count": 0,
      "outputs": []
    },
    {
      "cell_type": "code",
      "metadata": {
        "id": "lV6VSwjGhKGu",
        "colab_type": "code",
        "colab": {}
      },
      "source": [
        "train['comp_size_mean'] = train['company_size'].replace(comp_siz_mean)\n",
        "test['comp_size_mean'] = test['company_size'].replace(comp_siz_mean)"
      ],
      "execution_count": 0,
      "outputs": []
    },
    {
      "cell_type": "code",
      "metadata": {
        "id": "5KvATcw4lf87",
        "colab_type": "code",
        "colab": {}
      },
      "source": [
        "train['education_level'].replace(edu_level, inplace=True)\n",
        "train['experience'].replace(exp, inplace=True)\n",
        "train['company_size'].replace(comp_siz, inplace=True)\n",
        "train['last_new_job'].replace(last_new, inplace=True)"
      ],
      "execution_count": 0,
      "outputs": []
    },
    {
      "cell_type": "code",
      "metadata": {
        "id": "CLVgugWJgNZJ",
        "colab_type": "code",
        "colab": {}
      },
      "source": [
        "test['education_level'].replace(edu_level, inplace=True)\n",
        "test['experience'].replace(exp, inplace=True)\n",
        "test['company_size'].replace(comp_siz, inplace=True)\n",
        "test['last_new_job'].replace(last_new, inplace=True)"
      ],
      "execution_count": 0,
      "outputs": []
    },
    {
      "cell_type": "markdown",
      "metadata": {
        "id": "WnA8lzzqlpYt",
        "colab_type": "text"
      },
      "source": [
        "# IMPUTING THE MISSING VALUES"
      ]
    },
    {
      "cell_type": "code",
      "metadata": {
        "id": "SUDj7QjcvihI",
        "colab_type": "code",
        "colab": {}
      },
      "source": [
        " from sklearn.impute import KNNImputer\n",
        "imputer = KNNImputer(n_neighbors=20)"
      ],
      "execution_count": 0,
      "outputs": []
    },
    {
      "cell_type": "code",
      "metadata": {
        "id": "dNYt-K4Q6EfQ",
        "colab_type": "code",
        "colab": {}
      },
      "source": [
        "col = ['enrollee_id', 'city', 'city_development_index', 'gender',\n",
        "       'relevent_experience', 'enrolled_university', 'education_level',\n",
        "       'major_discipline', 'experience', 'company_size', 'company_type',\n",
        "       'last_new_job', 'training_hours',\n",
        "       'comp_size_mean']"
      ],
      "execution_count": 0,
      "outputs": []
    },
    {
      "cell_type": "code",
      "metadata": {
        "id": "jgxF__ZdvzsB",
        "colab_type": "code",
        "outputId": "4a260240-3f15-4098-f50d-bbb589b40723",
        "colab": {
          "base_uri": "https://localhost:8080/",
          "height": 17
        }
      },
      "source": [
        "new_train = pd.DataFrame(imputer.fit_transform(train.drop(['target'], axis=1)), columns=col)\n",
        "new_train[CATEGORICAL_COL] = round(new_train[CATEGORICAL_COL])\n",
        "new_train[ORDINAL] = round(new_train[ORDINAL])"
      ],
      "execution_count": 0,
      "outputs": [
        {
          "output_type": "display_data",
          "data": {
            "application/javascript": [
              "\n",
              "        if (window._pyforest_update_imports_cell) { window._pyforest_update_imports_cell('import numpy as np\\nfrom sklearn.model_selection import train_test_split\\nimport lightgbm as lgb\\nimport pandas as pd\\nimport xgboost as xgb'); }\n",
              "    "
            ],
            "text/plain": [
              "<IPython.core.display.Javascript object>"
            ]
          },
          "metadata": {
            "tags": []
          }
        }
      ]
    },
    {
      "cell_type": "code",
      "metadata": {
        "id": "aoA0e3qr7P5X",
        "colab_type": "code",
        "colab": {}
      },
      "source": [
        "new_train['target'] = train['target']"
      ],
      "execution_count": 0,
      "outputs": []
    },
    {
      "cell_type": "code",
      "metadata": {
        "id": "h8b4dKNav65H",
        "colab_type": "code",
        "outputId": "91d8f887-9cfd-4e4e-a293-80b8e4abd929",
        "colab": {
          "base_uri": "https://localhost:8080/",
          "height": 17
        }
      },
      "source": [
        "new_test = pd.DataFrame(imputer.transform(test), columns=test.columns)\n",
        "new_test[CATEGORICAL_COL] = round(new_test[CATEGORICAL_COL])\n",
        "new_test[ORDINAL] = round(new_test[ORDINAL])"
      ],
      "execution_count": 0,
      "outputs": [
        {
          "output_type": "display_data",
          "data": {
            "application/javascript": [
              "\n",
              "        if (window._pyforest_update_imports_cell) { window._pyforest_update_imports_cell('import numpy as np\\nfrom sklearn.model_selection import train_test_split\\nimport lightgbm as lgb\\nimport pandas as pd\\nimport xgboost as xgb'); }\n",
              "    "
            ],
            "text/plain": [
              "<IPython.core.display.Javascript object>"
            ]
          },
          "metadata": {
            "tags": []
          }
        }
      ]
    },
    {
      "cell_type": "markdown",
      "metadata": {
        "id": "J3h_-uen2-zs",
        "colab_type": "text"
      },
      "source": [
        "# CATEGORICAL CORRELATION\n",
        "\n",
        "Using crammer's V"
      ]
    },
    {
      "cell_type": "code",
      "metadata": {
        "id": "JtVzVUev3Beg",
        "colab_type": "code",
        "outputId": "634b758c-7c9f-48a2-cbcb-28924bdc6144",
        "colab": {
          "base_uri": "https://localhost:8080/",
          "height": 272
        }
      },
      "source": [
        "!pip install dython"
      ],
      "execution_count": 0,
      "outputs": [
        {
          "output_type": "stream",
          "text": [
            "Requirement already satisfied: dython in /usr/local/lib/python3.6/dist-packages (0.5.1)\n",
            "Requirement already satisfied: scikit-learn in /usr/local/lib/python3.6/dist-packages (from dython) (0.22)\n",
            "Requirement already satisfied: matplotlib in /usr/local/lib/python3.6/dist-packages (from dython) (3.2.1)\n",
            "Requirement already satisfied: pandas in /usr/local/lib/python3.6/dist-packages (from dython) (1.0.3)\n",
            "Requirement already satisfied: scipy in /usr/local/lib/python3.6/dist-packages (from dython) (1.4.1)\n",
            "Requirement already satisfied: numpy in /usr/local/lib/python3.6/dist-packages (from dython) (1.18.4)\n",
            "Requirement already satisfied: seaborn in /usr/local/lib/python3.6/dist-packages (from dython) (0.10.1)\n",
            "Requirement already satisfied: joblib>=0.11 in /usr/local/lib/python3.6/dist-packages (from scikit-learn->dython) (0.14.1)\n",
            "Requirement already satisfied: cycler>=0.10 in /usr/local/lib/python3.6/dist-packages (from matplotlib->dython) (0.10.0)\n",
            "Requirement already satisfied: pyparsing!=2.0.4,!=2.1.2,!=2.1.6,>=2.0.1 in /usr/local/lib/python3.6/dist-packages (from matplotlib->dython) (2.4.7)\n",
            "Requirement already satisfied: kiwisolver>=1.0.1 in /usr/local/lib/python3.6/dist-packages (from matplotlib->dython) (1.2.0)\n",
            "Requirement already satisfied: python-dateutil>=2.1 in /usr/local/lib/python3.6/dist-packages (from matplotlib->dython) (2.8.1)\n",
            "Requirement already satisfied: pytz>=2017.2 in /usr/local/lib/python3.6/dist-packages (from pandas->dython) (2018.9)\n",
            "Requirement already satisfied: six in /usr/local/lib/python3.6/dist-packages (from cycler>=0.10->matplotlib->dython) (1.12.0)\n"
          ],
          "name": "stdout"
        }
      ]
    },
    {
      "cell_type": "code",
      "metadata": {
        "id": "XLrXlG9j3Tac",
        "colab_type": "code",
        "colab": {}
      },
      "source": [
        "from dython.model_utils import roc_graph\n",
        "from dython.nominal import associations\n"
      ],
      "execution_count": 0,
      "outputs": []
    },
    {
      "cell_type": "code",
      "metadata": {
        "id": "KS6eXo4D4yef",
        "colab_type": "code",
        "colab": {}
      },
      "source": [
        "cat_df = train[CATEGORICAL_COL + ['target']].astype(str)"
      ],
      "execution_count": 0,
      "outputs": []
    },
    {
      "cell_type": "code",
      "metadata": {
        "id": "5TIfAUXv3VQK",
        "colab_type": "code",
        "outputId": "d72884c4-40a8-4d72-c8c2-d09a6c58d9d9",
        "colab": {
          "base_uri": "https://localhost:8080/",
          "height": 1000
        }
      },
      "source": [
        "associations(cat_df, figsize=(15, 15))"
      ],
      "execution_count": 0,
      "outputs": [
        {
          "output_type": "display_data",
          "data": {
            "image/png": "[encoded data removed]",
            "text/plain": [
              "<Figure size 1080x1080 with 2 Axes>"
            ]
          },
          "metadata": {
            "tags": [],
            "needs_background": "light"
          }
        },
        {
          "output_type": "execute_result",
          "data": {
            "text/plain": [
              "{'ax': <matplotlib.axes._subplots.AxesSubplot at 0x7fa11d091ac8>,\n",
              " 'corr':                          city    gender  ...  last_new_job    target\n",
              " city                 1.000000  0.111095  ...      0.098076  0.161292\n",
              " gender               0.111095  1.000000  ...      0.135214  0.041770\n",
              " relevent_experience  0.129723  0.122680  ...      0.390410  0.073537\n",
              " enrolled_university  0.169716  0.073732  ...      0.168509  0.083287\n",
              " education_level      0.165826  0.063267  ...      0.171119  0.036276\n",
              " major_discipline     0.094134  0.072901  ...      0.142679  0.019885\n",
              " experience           0.074361  0.113042  ...      0.223458  0.098080\n",
              " company_size         0.086121  0.043376  ...      0.163508  0.103908\n",
              " company_type         0.088280  0.060508  ...      0.145491  0.096019\n",
              " last_new_job         0.098076  0.135214  ...      1.000000  0.037407\n",
              " target               0.161292  0.041770  ...      0.037407  1.000000\n",
              " \n",
              " [11 rows x 11 columns]}"
            ]
          },
          "metadata": {
            "tags": []
          },
          "execution_count": 102
        }
      ]
    },
    {
      "cell_type": "markdown",
      "metadata": {
        "id": "NGmraFal5iwg",
        "colab_type": "text"
      },
      "source": [
        "From crammer's V test, city has good correlation with target variable (0.16), and from the test we see good correlation exist between education level and discipline quite obviously followed by relevant experience has consistent correlation with different features like experience and company size\n"
      ]
    },
    {
      "cell_type": "markdown",
      "metadata": {
        "id": "jcCU6F0a6u63",
        "colab_type": "text"
      },
      "source": [
        "# BASELINE MODEL"
      ]
    },
    {
      "cell_type": "markdown",
      "metadata": {
        "id": "MOvi5wgntlwS",
        "colab_type": "text"
      },
      "source": [
        "## LGBM"
      ]
    },
    {
      "cell_type": "code",
      "metadata": {
        "id": "yTfvmXQdFTfs",
        "colab_type": "code",
        "outputId": "b05406b9-5842-46fc-b3f6-9d68886133f5",
        "colab": {
          "base_uri": "https://localhost:8080/",
          "height": 17
        }
      },
      "source": [
        "x_train,  x_val, y_train, y_val = split(new_train)"
      ],
      "execution_count": 0,
      "outputs": [
        {
          "output_type": "display_data",
          "data": {
            "application/javascript": [
              "\n",
              "        if (window._pyforest_update_imports_cell) { window._pyforest_update_imports_cell('import pandas as pd\\nimport lightgbm as lgb\\nfrom sklearn.model_selection import train_test_split\\nimport numpy as np'); }\n",
              "    "
            ],
            "text/plain": [
              "<IPython.core.display.Javascript object>"
            ]
          },
          "metadata": {
            "tags": []
          }
        }
      ]
    },
    {
      "cell_type": "code",
      "metadata": {
        "id": "ejWf5u6KFGhi",
        "colab_type": "code",
        "colab": {}
      },
      "source": [
        "import lightgbm as lgb\n",
        "lightgbm_params = {\n",
        "    'boosting_type': 'gbdt',\n",
        "    'objective': 'binary',\n",
        "    'metric': 'auc',\n",
        "    'class_weight':'balanced'\n",
        "}\n"
      ],
      "execution_count": 0,
      "outputs": []
    },
    {
      "cell_type": "code",
      "metadata": {
        "id": "VEUO6KNSIeJm",
        "colab_type": "code",
        "colab": {}
      },
      "source": [
        "d_train = lgb.Dataset(x_train, label=y_train)"
      ],
      "execution_count": 0,
      "outputs": []
    },
    {
      "cell_type": "code",
      "metadata": {
        "id": "AqGQzlD6OLar",
        "colab_type": "code",
        "colab": {}
      },
      "source": [
        "model_lgbm  = lgb.LGBMClassifier(class_weight='balanced',objective='binary')"
      ],
      "execution_count": 0,
      "outputs": []
    },
    {
      "cell_type": "code",
      "metadata": {
        "id": "DHprT7W1Fk0X",
        "colab_type": "code",
        "colab": {}
      },
      "source": [
        "CAT = CATEGORICAL_COL + ORDINAL"
      ],
      "execution_count": 0,
      "outputs": []
    },
    {
      "cell_type": "code",
      "metadata": {
        "id": "EdLnBdef8hMg",
        "colab_type": "code",
        "outputId": "531e6e85-878a-4ff4-cdc4-009db079be87",
        "colab": {
          "base_uri": "https://localhost:8080/",
          "height": 154
        }
      },
      "source": [
        "lg_cv = lgb.cv(lightgbm_params, d_train,nfold=5, categorical_feature=CAT, verbose_eval=20, early_stopping_rounds=40, shuffle=False)"
      ],
      "execution_count": 0,
      "outputs": [
        {
          "output_type": "stream",
          "text": [
            "/usr/local/lib/python3.6/dist-packages/lightgbm/basic.py:1295: UserWarning: categorical_feature in Dataset is overridden.\n",
            "New categorical_feature is ['city', 'company_size', 'company_type', 'education_level', 'enrolled_university', 'experience', 'gender', 'last_new_job', 'major_discipline', 'relevent_experience']\n",
            "  'New categorical_feature is {}'.format(sorted(list(categorical_feature))))\n",
            "/usr/local/lib/python3.6/dist-packages/sklearn/model_selection/_split.py:296: FutureWarning: Setting a random_state has no effect since shuffle is False. This will raise an error in 0.24. You should leave random_state to its default (None), or set shuffle=True.\n",
            "  FutureWarning\n"
          ],
          "name": "stderr"
        },
        {
          "output_type": "stream",
          "text": [
            "[20]\tcv_agg's auc: 0.652035 + 0.01664\n",
            "[40]\tcv_agg's auc: 0.649076 + 0.0130336\n"
          ],
          "name": "stdout"
        }
      ]
    },
    {
      "cell_type": "code",
      "metadata": {
        "id": "WC7jm_hAFsjx",
        "colab_type": "code",
        "outputId": "fe929115-7a52-4638-8c4d-46ae52069a1a",
        "colab": {
          "base_uri": "https://localhost:8080/",
          "height": 34
        }
      },
      "source": [
        "print('Best CV score:', np.mean(lg_cv['auc-mean']))"
      ],
      "execution_count": 0,
      "outputs": [
        {
          "output_type": "display_data",
          "data": {
            "application/javascript": [
              "\n",
              "        if (window._pyforest_update_imports_cell) { window._pyforest_update_imports_cell('import pandas as pd\\nimport lightgbm as lgb\\nfrom sklearn.model_selection import train_test_split\\nimport numpy as np'); }\n",
              "    "
            ],
            "text/plain": [
              "<IPython.core.display.Javascript object>"
            ]
          },
          "metadata": {
            "tags": []
          }
        },
        {
          "output_type": "stream",
          "text": [
            "Best CV score: 0.6440269929839343\n"
          ],
          "name": "stdout"
        }
      ]
    },
    {
      "cell_type": "markdown",
      "metadata": {
        "id": "2puX-PCYts_D",
        "colab_type": "text"
      },
      "source": [
        "## CATBOOST"
      ]
    },
    {
      "cell_type": "code",
      "metadata": {
        "id": "s9LOeIpNGppZ",
        "colab_type": "code",
        "colab": {}
      },
      "source": [
        "CAT_IND = x_train.columns.get_indexer(CAT)"
      ],
      "execution_count": 0,
      "outputs": []
    },
    {
      "cell_type": "code",
      "metadata": {
        "id": "OhVCl2HdHVyL",
        "colab_type": "code",
        "colab": {}
      },
      "source": [
        "x_train[CAT] = x_train[CAT].astype('int')"
      ],
      "execution_count": 0,
      "outputs": []
    },
    {
      "cell_type": "code",
      "metadata": {
        "id": "15GwWxIGGxMy",
        "colab_type": "code",
        "colab": {}
      },
      "source": [
        "# !pip install catboost\n",
        "from catboost import Pool, cv"
      ],
      "execution_count": 0,
      "outputs": []
    },
    {
      "cell_type": "code",
      "metadata": {
        "id": "P6yNC3R-G6yw",
        "colab_type": "code",
        "colab": {}
      },
      "source": [
        "params = {\"iterations\": 100,\n",
        "          \"loss_function\": \"Logloss\",\n",
        "          'custom_metric':'AUC',\n",
        "          'class_weights':[1,6],\n",
        "          \"verbose\": False}\n"
      ],
      "execution_count": 0,
      "outputs": []
    },
    {
      "cell_type": "code",
      "metadata": {
        "id": "fMjguz0WHOKg",
        "colab_type": "code",
        "colab": {}
      },
      "source": [
        "cv_data = Pool(data=x_train,\n",
        "                  label=y_train,\n",
        "                  cat_features=CAT_IND)"
      ],
      "execution_count": 0,
      "outputs": []
    },
    {
      "cell_type": "code",
      "metadata": {
        "id": "EFsvWRMBHesy",
        "colab_type": "code",
        "colab": {}
      },
      "source": [
        "scores = cv(cv_data,\n",
        "            params,\n",
        "            fold_count=5, shuffle=False)"
      ],
      "execution_count": 0,
      "outputs": []
    },
    {
      "cell_type": "code",
      "metadata": {
        "id": "xzH8dhJIHnXC",
        "colab_type": "code",
        "outputId": "f9943674-04c5-4953-d17a-97dfb7cf34b0",
        "colab": {
          "base_uri": "https://localhost:8080/",
          "height": 34
        }
      },
      "source": [
        "scores['test-AUC-mean'].max()"
      ],
      "execution_count": 0,
      "outputs": [
        {
          "output_type": "execute_result",
          "data": {
            "text/plain": [
              "0.6552740040902773"
            ]
          },
          "metadata": {
            "tags": []
          },
          "execution_count": 91
        }
      ]
    },
    {
      "cell_type": "markdown",
      "metadata": {
        "id": "7f_hRGsitwW2",
        "colab_type": "text"
      },
      "source": [
        "## XGBOOST and ADABOOST"
      ]
    },
    {
      "cell_type": "code",
      "metadata": {
        "id": "YfrvUGB_C8RA",
        "colab_type": "code",
        "outputId": "595a221c-86c9-4331-f77e-cac4451b96fe",
        "colab": {
          "base_uri": "https://localhost:8080/",
          "height": 17
        }
      },
      "source": [
        "new_train1 = pd.get_dummies(data=new_train, columns=['gender',\n",
        " 'enrolled_university',\n",
        " 'major_discipline',\n",
        " 'company_type',\n",
        " 'relevent_experience',\n",
        " 'education_level',\n",
        " 'company_size',\n",
        " 'last_new_job'])\n",
        "\n",
        "new_test1 = pd.get_dummies(data=new_test, columns=['gender',\n",
        " 'enrolled_university',\n",
        " 'major_discipline',\n",
        " 'company_type',\n",
        " 'relevent_experience',\n",
        " 'education_level',\n",
        " 'company_size',\n",
        " 'last_new_job'])"
      ],
      "execution_count": 0,
      "outputs": [
        {
          "output_type": "display_data",
          "data": {
            "application/javascript": [
              "\n",
              "        if (window._pyforest_update_imports_cell) { window._pyforest_update_imports_cell('import numpy as np\\nfrom sklearn.model_selection import train_test_split\\nimport lightgbm as lgb\\nimport pandas as pd\\nimport xgboost as xgb'); }\n",
              "    "
            ],
            "text/plain": [
              "<IPython.core.display.Javascript object>"
            ]
          },
          "metadata": {
            "tags": []
          }
        },
        {
          "output_type": "display_data",
          "data": {
            "application/javascript": [
              "\n",
              "        if (window._pyforest_update_imports_cell) { window._pyforest_update_imports_cell('import numpy as np\\nfrom sklearn.model_selection import train_test_split\\nimport lightgbm as lgb\\nimport pandas as pd\\nimport xgboost as xgb'); }\n",
              "    "
            ],
            "text/plain": [
              "<IPython.core.display.Javascript object>"
            ]
          },
          "metadata": {
            "tags": []
          }
        }
      ]
    },
    {
      "cell_type": "code",
      "metadata": {
        "id": "ANfcaYuWChse",
        "colab_type": "code",
        "outputId": "821d8d03-ac62-4987-b558-0e771a0755b0",
        "colab": {
          "base_uri": "https://localhost:8080/",
          "height": 17
        }
      },
      "source": [
        "x_train,  x_val, y_train, y_val = split(new_train1)"
      ],
      "execution_count": 0,
      "outputs": [
        {
          "output_type": "display_data",
          "data": {
            "application/javascript": [
              "\n",
              "        if (window._pyforest_update_imports_cell) { window._pyforest_update_imports_cell('import numpy as np\\nfrom sklearn.model_selection import train_test_split\\nimport lightgbm as lgb\\nimport pandas as pd\\nimport xgboost as xgb'); }\n",
              "    "
            ],
            "text/plain": [
              "<IPython.core.display.Javascript object>"
            ]
          },
          "metadata": {
            "tags": []
          }
        }
      ]
    },
    {
      "cell_type": "code",
      "metadata": {
        "id": "X78w0esEsJWh",
        "colab_type": "code",
        "outputId": "0e6b6ac4-99e2-453c-a3d9-1fb4adaac4e7",
        "colab": {
          "base_uri": "https://localhost:8080/",
          "height": 34
        }
      },
      "source": [
        "x_train.shape"
      ],
      "execution_count": 0,
      "outputs": [
        {
          "output_type": "execute_result",
          "data": {
            "text/plain": [
              "(14687, 46)"
            ]
          },
          "metadata": {
            "tags": []
          },
          "execution_count": 200
        }
      ]
    },
    {
      "cell_type": "markdown",
      "metadata": {
        "id": "AXrUDWmLt3U-",
        "colab_type": "text"
      },
      "source": [
        "## ADABOOST, RF and XG cv"
      ]
    },
    {
      "cell_type": "code",
      "metadata": {
        "id": "vXqTkixaKlqe",
        "colab_type": "code",
        "colab": {}
      },
      "source": [
        "from sklearn.ensemble import AdaBoostClassifier\n",
        "from sklearn.model_selection import cross_validate\n",
        "\n",
        "adb_model = AdaBoostClassifier()\n",
        "adb = cross_validate(adb_model, x_train, y_train, cv=5, scoring='roc_auc', n_jobs=-1)\n"
      ],
      "execution_count": 0,
      "outputs": []
    },
    {
      "cell_type": "code",
      "metadata": {
        "id": "ZyCH3_bhLwNO",
        "colab_type": "code",
        "outputId": "3827b338-5ee2-44ed-8a8b-c563363a034b",
        "colab": {
          "base_uri": "https://localhost:8080/",
          "height": 34
        }
      },
      "source": [
        "np.mean(adb['test_score'])"
      ],
      "execution_count": 0,
      "outputs": [
        {
          "output_type": "display_data",
          "data": {
            "application/javascript": [
              "\n",
              "        if (window._pyforest_update_imports_cell) { window._pyforest_update_imports_cell('import numpy as np\\nimport pandas as pd\\nfrom sklearn.model_selection import train_test_split'); }\n",
              "    "
            ],
            "text/plain": [
              "<IPython.core.display.Javascript object>"
            ]
          },
          "metadata": {
            "tags": []
          }
        },
        {
          "output_type": "execute_result",
          "data": {
            "text/plain": [
              "0.6429555394280193"
            ]
          },
          "metadata": {
            "tags": []
          },
          "execution_count": 26
        }
      ]
    },
    {
      "cell_type": "code",
      "metadata": {
        "id": "2ccTGerYBzhE",
        "colab_type": "code",
        "colab": {}
      },
      "source": [
        "import xgboost as xgb\n",
        "\n",
        "xgtrain = xgb.DMatrix(x_train, y_train )\n",
        "model_xg=xgb.XGBClassifier(random_state=0, scale_pos_weight=6)\n",
        "xgb_param = model_xg.get_xgb_params()"
      ],
      "execution_count": 0,
      "outputs": []
    },
    {
      "cell_type": "code",
      "metadata": {
        "id": "Ouw9YMg_MIzm",
        "colab_type": "code",
        "colab": {}
      },
      "source": [
        "xg_cv = xgb.cv(xgb_param, xgtrain, nfold=5, metrics='auc', seed=0)"
      ],
      "execution_count": 0,
      "outputs": []
    },
    {
      "cell_type": "code",
      "metadata": {
        "id": "N3dHD0acB7I0",
        "colab_type": "code",
        "outputId": "1f1e1a92-34e3-448e-a1ef-bef9fb5d1681",
        "colab": {
          "base_uri": "https://localhost:8080/",
          "height": 343
        }
      },
      "source": [
        "xg_cv"
      ],
      "execution_count": 0,
      "outputs": [
        {
          "output_type": "execute_result",
          "data": {
            "text/html": [
              "<div>\n",
              "<style scoped>\n",
              "    .dataframe tbody tr th:only-of-type {\n",
              "        vertical-align: middle;\n",
              "    }\n",
              "\n",
              "    .dataframe tbody tr th {\n",
              "        vertical-align: top;\n",
              "    }\n",
              "\n",
              "    .dataframe thead th {\n",
              "        text-align: right;\n",
              "    }\n",
              "</style>\n",
              "<table border=\"1\" class=\"dataframe\">\n",
              "  <thead>\n",
              "    <tr style=\"text-align: right;\">\n",
              "      <th></th>\n",
              "      <th>train-auc-mean</th>\n",
              "      <th>train-auc-std</th>\n",
              "      <th>test-auc-mean</th>\n",
              "      <th>test-auc-std</th>\n",
              "    </tr>\n",
              "  </thead>\n",
              "  <tbody>\n",
              "    <tr>\n",
              "      <th>0</th>\n",
              "      <td>0.634940</td>\n",
              "      <td>0.005584</td>\n",
              "      <td>0.619664</td>\n",
              "      <td>0.020765</td>\n",
              "    </tr>\n",
              "    <tr>\n",
              "      <th>1</th>\n",
              "      <td>0.643012</td>\n",
              "      <td>0.004374</td>\n",
              "      <td>0.629938</td>\n",
              "      <td>0.024673</td>\n",
              "    </tr>\n",
              "    <tr>\n",
              "      <th>2</th>\n",
              "      <td>0.648741</td>\n",
              "      <td>0.004228</td>\n",
              "      <td>0.636635</td>\n",
              "      <td>0.023637</td>\n",
              "    </tr>\n",
              "    <tr>\n",
              "      <th>3</th>\n",
              "      <td>0.652484</td>\n",
              "      <td>0.005428</td>\n",
              "      <td>0.639847</td>\n",
              "      <td>0.023829</td>\n",
              "    </tr>\n",
              "    <tr>\n",
              "      <th>4</th>\n",
              "      <td>0.655577</td>\n",
              "      <td>0.005803</td>\n",
              "      <td>0.641583</td>\n",
              "      <td>0.019232</td>\n",
              "    </tr>\n",
              "    <tr>\n",
              "      <th>5</th>\n",
              "      <td>0.658149</td>\n",
              "      <td>0.005143</td>\n",
              "      <td>0.644614</td>\n",
              "      <td>0.018492</td>\n",
              "    </tr>\n",
              "    <tr>\n",
              "      <th>6</th>\n",
              "      <td>0.660556</td>\n",
              "      <td>0.005118</td>\n",
              "      <td>0.648291</td>\n",
              "      <td>0.019816</td>\n",
              "    </tr>\n",
              "    <tr>\n",
              "      <th>7</th>\n",
              "      <td>0.663278</td>\n",
              "      <td>0.004258</td>\n",
              "      <td>0.649114</td>\n",
              "      <td>0.019316</td>\n",
              "    </tr>\n",
              "    <tr>\n",
              "      <th>8</th>\n",
              "      <td>0.664846</td>\n",
              "      <td>0.004764</td>\n",
              "      <td>0.650634</td>\n",
              "      <td>0.020331</td>\n",
              "    </tr>\n",
              "    <tr>\n",
              "      <th>9</th>\n",
              "      <td>0.666969</td>\n",
              "      <td>0.004652</td>\n",
              "      <td>0.652148</td>\n",
              "      <td>0.019450</td>\n",
              "    </tr>\n",
              "  </tbody>\n",
              "</table>\n",
              "</div>"
            ],
            "text/plain": [
              "   train-auc-mean  train-auc-std  test-auc-mean  test-auc-std\n",
              "0        0.634940       0.005584       0.619664      0.020765\n",
              "1        0.643012       0.004374       0.629938      0.024673\n",
              "2        0.648741       0.004228       0.636635      0.023637\n",
              "3        0.652484       0.005428       0.639847      0.023829\n",
              "4        0.655577       0.005803       0.641583      0.019232\n",
              "5        0.658149       0.005143       0.644614      0.018492\n",
              "6        0.660556       0.005118       0.648291      0.019816\n",
              "7        0.663278       0.004258       0.649114      0.019316\n",
              "8        0.664846       0.004764       0.650634      0.020331\n",
              "9        0.666969       0.004652       0.652148      0.019450"
            ]
          },
          "metadata": {
            "tags": []
          },
          "execution_count": 105
        }
      ]
    },
    {
      "cell_type": "code",
      "metadata": {
        "id": "CMITQrqqB_K5",
        "colab_type": "code",
        "colab": {}
      },
      "source": [
        "from sklearn.ensemble import AdaBoostClassifier, RandomForestClassifier\n",
        "from sklearn.model_selection import cross_validate\n",
        "\n",
        "rf_model = RandomForestClassifier(class_weight='balanced')\n",
        "rf = cross_validate(rf_model, x_train, y_train, cv=5, scoring='roc_auc', n_jobs=-1)\n"
      ],
      "execution_count": 0,
      "outputs": []
    },
    {
      "cell_type": "code",
      "metadata": {
        "id": "SiB9KhwiNPRs",
        "colab_type": "code",
        "outputId": "eb873454-a874-41ca-9834-2307c7edd983",
        "colab": {
          "base_uri": "https://localhost:8080/",
          "height": 34
        }
      },
      "source": [
        "\n",
        "np.mean(rf['test_score'])"
      ],
      "execution_count": 0,
      "outputs": [
        {
          "output_type": "display_data",
          "data": {
            "application/javascript": [
              "\n",
              "        if (window._pyforest_update_imports_cell) { window._pyforest_update_imports_cell('import pandas as pd\\nimport lightgbm as lgb\\nfrom sklearn.model_selection import train_test_split\\nimport numpy as np'); }\n",
              "    "
            ],
            "text/plain": [
              "<IPython.core.display.Javascript object>"
            ]
          },
          "metadata": {
            "tags": []
          }
        },
        {
          "output_type": "execute_result",
          "data": {
            "text/plain": [
              "0.6172363028486421"
            ]
          },
          "metadata": {
            "tags": []
          },
          "execution_count": 111
        }
      ]
    },
    {
      "cell_type": "code",
      "metadata": {
        "id": "Epq7yTu3uDuU",
        "colab_type": "code",
        "colab": {}
      },
      "source": [
        "from sklearn.linear_model import LogisticRegression\n",
        "\n",
        "LR = LogisticRegression(class_weight={0:1,1:6})\n",
        "lr_res = cross_validate(LR, x_train, y_train, cv=5, scoring='roc_auc', n_jobs=-1)"
      ],
      "execution_count": 0,
      "outputs": []
    },
    {
      "cell_type": "code",
      "metadata": {
        "id": "f1iDot0Zuaja",
        "colab_type": "code",
        "outputId": "f91d54bc-92db-4557-e4bb-33af3ff7a506",
        "colab": {
          "base_uri": "https://localhost:8080/",
          "height": 34
        }
      },
      "source": [
        "np.mean(lr_res['test_score'])"
      ],
      "execution_count": 0,
      "outputs": [
        {
          "output_type": "display_data",
          "data": {
            "application/javascript": [
              "\n",
              "        if (window._pyforest_update_imports_cell) { window._pyforest_update_imports_cell('import pandas as pd\\nimport numpy as np\\nfrom sklearn.model_selection import train_test_split'); }\n",
              "    "
            ],
            "text/plain": [
              "<IPython.core.display.Javascript object>"
            ]
          },
          "metadata": {
            "tags": []
          }
        },
        {
          "output_type": "execute_result",
          "data": {
            "text/plain": [
              "0.5960405000736326"
            ]
          },
          "metadata": {
            "tags": []
          },
          "execution_count": 57
        }
      ]
    },
    {
      "cell_type": "markdown",
      "metadata": {
        "id": "T8A8tEzruHP6",
        "colab_type": "text"
      },
      "source": [
        "From cross validation results we have obtained good results for the cat boost and xg boost model"
      ]
    },
    {
      "cell_type": "markdown",
      "metadata": {
        "id": "KJoXEbiyxi9r",
        "colab_type": "text"
      },
      "source": [
        "## BEST MODEL"
      ]
    },
    {
      "cell_type": "code",
      "metadata": {
        "id": "jPXS3knzDv0Z",
        "colab_type": "code",
        "outputId": "61e8e19c-42c1-4e3a-8be4-c804e2474064",
        "colab": {
          "base_uri": "https://localhost:8080/",
          "height": 17
        }
      },
      "source": [
        "# !pip install catboost\n",
        "x_train,  x_val, y_train, y_val = split(new_train1)\n",
        "\n",
        "from catboost import CatBoostClassifier\n",
        "\n",
        "cat = CatBoostClassifier(class_weights=[1,6], eval_metric='AUC', silent=True)\n"
      ],
      "execution_count": 0,
      "outputs": [
        {
          "output_type": "display_data",
          "data": {
            "application/javascript": [
              "\n",
              "        if (window._pyforest_update_imports_cell) { window._pyforest_update_imports_cell('import numpy as np\\nfrom sklearn.model_selection import train_test_split\\nimport lightgbm as lgb\\nimport pandas as pd\\nimport xgboost as xgb'); }\n",
              "    "
            ],
            "text/plain": [
              "<IPython.core.display.Javascript object>"
            ]
          },
          "metadata": {
            "tags": []
          }
        }
      ]
    },
    {
      "cell_type": "code",
      "metadata": {
        "id": "OiXcfeqEQI8C",
        "colab_type": "code",
        "outputId": "60225aa5-fec4-4717-de10-96984f0207da",
        "colab": {
          "base_uri": "https://localhost:8080/",
          "height": 34
        }
      },
      "source": [
        "CAT = CATEGORICAL_COL+ORDINAL\n",
        "CAT_IND = x_train.columns.get_indexer(CAT)\n",
        "# x_train[CAT]= x_train[CAT].astype('int')\n",
        "# x_val[CAT] = x_val[CAT].astype('int')\n",
        "cat.fit(x_train, y_train, eval_set=[(x_val,y_val)])"
      ],
      "execution_count": 0,
      "outputs": [
        {
          "output_type": "execute_result",
          "data": {
            "text/plain": [
              "<catboost.core.CatBoostClassifier at 0x7f5f37920cf8>"
            ]
          },
          "metadata": {
            "tags": []
          },
          "execution_count": 202
        }
      ]
    },
    {
      "cell_type": "code",
      "metadata": {
        "id": "gByNbGrwwYdJ",
        "colab_type": "code",
        "outputId": "3a14e28d-9bd2-4cfa-f244-240b9423b801",
        "colab": {
          "base_uri": "https://localhost:8080/",
          "height": 403
        }
      },
      "source": [
        "evaluate_model(y_val, cat.predict(x_val))"
      ],
      "execution_count": 0,
      "outputs": [
        {
          "output_type": "stream",
          "text": [
            "CLASSIFICATION REPORT\n",
            "***************************\n",
            "              precision    recall  f1-score   support\n",
            "\n",
            "           0       0.91      0.75      0.82      3187\n",
            "           1       0.23      0.50      0.31       485\n",
            "\n",
            "    accuracy                           0.71      3672\n",
            "   macro avg       0.57      0.62      0.57      3672\n",
            "weighted avg       0.82      0.71      0.75      3672\n",
            "\n",
            "CONFUSION MATRIX\n",
            "****************************\n"
          ],
          "name": "stdout"
        },
        {
          "output_type": "display_data",
          "data": {
            "application/javascript": [
              "\n",
              "        if (window._pyforest_update_imports_cell) { window._pyforest_update_imports_cell('import numpy as np\\nfrom sklearn.model_selection import train_test_split\\nimport lightgbm as lgb\\nimport pandas as pd\\nimport xgboost as xgb'); }\n",
              "    "
            ],
            "text/plain": [
              "<IPython.core.display.Javascript object>"
            ]
          },
          "metadata": {
            "tags": []
          }
        },
        {
          "output_type": "stream",
          "text": [
            "True          0    1\n",
            "Predicted           \n",
            "0          2382  244\n",
            "1           805  241\n",
            "MATHEW CORRELATION COEFF\n",
            "***************************\n",
            "0.18327582571673784\n",
            "ROC_AUC\n",
            "***************************\n",
            "0.6221592875696693\n"
          ],
          "name": "stdout"
        }
      ]
    },
    {
      "cell_type": "code",
      "metadata": {
        "id": "a1Jv1GK5325h",
        "colab_type": "code",
        "colab": {}
      },
      "source": [
        "new_test['target'] = p\n",
        "new_test[['target','enrollee_id']].to_csv('su.csv', index=False)"
      ],
      "execution_count": 0,
      "outputs": []
    },
    {
      "cell_type": "code",
      "metadata": {
        "id": "dRC2xS9nD1Vi",
        "colab_type": "code",
        "outputId": "ff14516b-7bc9-4ed0-b857-5528baf26881",
        "colab": {
          "base_uri": "https://localhost:8080/",
          "height": 1000
        }
      },
      "source": [
        "xg = xgb.XGBClassifier(random_state=0, scale_pos_weight=6)\n",
        "xg.fit(x_train, y_train, eval_set=[(x_val,y_val)], eval_metric='auc')"
      ],
      "execution_count": 0,
      "outputs": [
        {
          "output_type": "display_data",
          "data": {
            "application/javascript": [
              "\n",
              "        if (window._pyforest_update_imports_cell) { window._pyforest_update_imports_cell('import numpy as np\\nfrom sklearn.model_selection import train_test_split\\nimport lightgbm as lgb\\nimport pandas as pd\\nimport xgboost as xgb'); }\n",
              "    "
            ],
            "text/plain": [
              "<IPython.core.display.Javascript object>"
            ]
          },
          "metadata": {
            "tags": []
          }
        },
        {
          "output_type": "stream",
          "text": [
            "[0]\tvalidation_0-auc:0.635599\n",
            "[1]\tvalidation_0-auc:0.64166\n",
            "[2]\tvalidation_0-auc:0.647523\n",
            "[3]\tvalidation_0-auc:0.648339\n",
            "[4]\tvalidation_0-auc:0.651961\n",
            "[5]\tvalidation_0-auc:0.651683\n",
            "[6]\tvalidation_0-auc:0.651454\n",
            "[7]\tvalidation_0-auc:0.654296\n",
            "[8]\tvalidation_0-auc:0.652618\n",
            "[9]\tvalidation_0-auc:0.652919\n",
            "[10]\tvalidation_0-auc:0.653668\n",
            "[11]\tvalidation_0-auc:0.654258\n",
            "[12]\tvalidation_0-auc:0.654714\n",
            "[13]\tvalidation_0-auc:0.655968\n",
            "[14]\tvalidation_0-auc:0.657676\n",
            "[15]\tvalidation_0-auc:0.658484\n",
            "[16]\tvalidation_0-auc:0.659021\n",
            "[17]\tvalidation_0-auc:0.65927\n",
            "[18]\tvalidation_0-auc:0.660017\n",
            "[19]\tvalidation_0-auc:0.66106\n",
            "[20]\tvalidation_0-auc:0.661587\n",
            "[21]\tvalidation_0-auc:0.661899\n",
            "[22]\tvalidation_0-auc:0.662781\n",
            "[23]\tvalidation_0-auc:0.664037\n",
            "[24]\tvalidation_0-auc:0.664236\n",
            "[25]\tvalidation_0-auc:0.664174\n",
            "[26]\tvalidation_0-auc:0.663765\n",
            "[27]\tvalidation_0-auc:0.663874\n",
            "[28]\tvalidation_0-auc:0.663784\n",
            "[29]\tvalidation_0-auc:0.664382\n",
            "[30]\tvalidation_0-auc:0.664403\n",
            "[31]\tvalidation_0-auc:0.664511\n",
            "[32]\tvalidation_0-auc:0.664064\n",
            "[33]\tvalidation_0-auc:0.663872\n",
            "[34]\tvalidation_0-auc:0.664349\n",
            "[35]\tvalidation_0-auc:0.664332\n",
            "[36]\tvalidation_0-auc:0.664186\n",
            "[37]\tvalidation_0-auc:0.664288\n",
            "[38]\tvalidation_0-auc:0.664266\n",
            "[39]\tvalidation_0-auc:0.664289\n",
            "[40]\tvalidation_0-auc:0.664522\n",
            "[41]\tvalidation_0-auc:0.665155\n",
            "[42]\tvalidation_0-auc:0.665398\n",
            "[43]\tvalidation_0-auc:0.664886\n",
            "[44]\tvalidation_0-auc:0.664857\n",
            "[45]\tvalidation_0-auc:0.664539\n",
            "[46]\tvalidation_0-auc:0.665127\n",
            "[47]\tvalidation_0-auc:0.665315\n",
            "[48]\tvalidation_0-auc:0.665412\n",
            "[49]\tvalidation_0-auc:0.664985\n",
            "[50]\tvalidation_0-auc:0.664533\n",
            "[51]\tvalidation_0-auc:0.664404\n",
            "[52]\tvalidation_0-auc:0.664897\n",
            "[53]\tvalidation_0-auc:0.664853\n",
            "[54]\tvalidation_0-auc:0.664717\n",
            "[55]\tvalidation_0-auc:0.664522\n",
            "[56]\tvalidation_0-auc:0.664482\n",
            "[57]\tvalidation_0-auc:0.664316\n",
            "[58]\tvalidation_0-auc:0.66412\n",
            "[59]\tvalidation_0-auc:0.663855\n",
            "[60]\tvalidation_0-auc:0.663947\n",
            "[61]\tvalidation_0-auc:0.663941\n",
            "[62]\tvalidation_0-auc:0.663747\n",
            "[63]\tvalidation_0-auc:0.663642\n",
            "[64]\tvalidation_0-auc:0.663013\n",
            "[65]\tvalidation_0-auc:0.662809\n",
            "[66]\tvalidation_0-auc:0.662519\n",
            "[67]\tvalidation_0-auc:0.661785\n",
            "[68]\tvalidation_0-auc:0.66202\n",
            "[69]\tvalidation_0-auc:0.662156\n",
            "[70]\tvalidation_0-auc:0.662704\n",
            "[71]\tvalidation_0-auc:0.66262\n",
            "[72]\tvalidation_0-auc:0.662582\n",
            "[73]\tvalidation_0-auc:0.661956\n",
            "[74]\tvalidation_0-auc:0.66209\n",
            "[75]\tvalidation_0-auc:0.662225\n",
            "[76]\tvalidation_0-auc:0.662321\n",
            "[77]\tvalidation_0-auc:0.661788\n",
            "[78]\tvalidation_0-auc:0.661938\n",
            "[79]\tvalidation_0-auc:0.661582\n",
            "[80]\tvalidation_0-auc:0.661188\n",
            "[81]\tvalidation_0-auc:0.661366\n",
            "[82]\tvalidation_0-auc:0.661189\n",
            "[83]\tvalidation_0-auc:0.661343\n",
            "[84]\tvalidation_0-auc:0.66131\n",
            "[85]\tvalidation_0-auc:0.661383\n",
            "[86]\tvalidation_0-auc:0.661533\n",
            "[87]\tvalidation_0-auc:0.661626\n",
            "[88]\tvalidation_0-auc:0.662031\n",
            "[89]\tvalidation_0-auc:0.662044\n",
            "[90]\tvalidation_0-auc:0.661743\n",
            "[91]\tvalidation_0-auc:0.661622\n",
            "[92]\tvalidation_0-auc:0.66154\n",
            "[93]\tvalidation_0-auc:0.661727\n",
            "[94]\tvalidation_0-auc:0.661586\n",
            "[95]\tvalidation_0-auc:0.661856\n",
            "[96]\tvalidation_0-auc:0.661965\n",
            "[97]\tvalidation_0-auc:0.662167\n",
            "[98]\tvalidation_0-auc:0.662395\n",
            "[99]\tvalidation_0-auc:0.662445\n"
          ],
          "name": "stdout"
        },
        {
          "output_type": "execute_result",
          "data": {
            "text/plain": [
              "XGBClassifier(base_score=0.5, booster='gbtree', colsample_bylevel=1,\n",
              "              colsample_bynode=1, colsample_bytree=1, gamma=0,\n",
              "              learning_rate=0.1, max_delta_step=0, max_depth=3,\n",
              "              min_child_weight=1, missing=None, n_estimators=100, n_jobs=1,\n",
              "              nthread=None, objective='binary:logistic', random_state=0,\n",
              "              reg_alpha=0, reg_lambda=1, scale_pos_weight=6, seed=None,\n",
              "              silent=None, subsample=1, verbosity=1)"
            ]
          },
          "metadata": {
            "tags": []
          },
          "execution_count": 205
        }
      ]
    },
    {
      "cell_type": "code",
      "metadata": {
        "id": "Zrgvx8h-Qp2j",
        "colab_type": "code",
        "outputId": "1240e688-ce50-447c-ec1f-430d5dc519b7",
        "colab": {
          "base_uri": "https://localhost:8080/",
          "height": 403
        }
      },
      "source": [
        "evaluate_model(y_val, xg.predict(x_val))"
      ],
      "execution_count": 0,
      "outputs": [
        {
          "output_type": "stream",
          "text": [
            "CLASSIFICATION REPORT\n",
            "***************************\n",
            "              precision    recall  f1-score   support\n",
            "\n",
            "           0       0.91      0.74      0.81      3187\n",
            "           1       0.23      0.51      0.31       485\n",
            "\n",
            "    accuracy                           0.71      3672\n",
            "   macro avg       0.57      0.62      0.56      3672\n",
            "weighted avg       0.82      0.71      0.75      3672\n",
            "\n",
            "CONFUSION MATRIX\n",
            "****************************\n"
          ],
          "name": "stdout"
        },
        {
          "output_type": "display_data",
          "data": {
            "application/javascript": [
              "\n",
              "        if (window._pyforest_update_imports_cell) { window._pyforest_update_imports_cell('import numpy as np\\nfrom sklearn.model_selection import train_test_split\\nimport lightgbm as lgb\\nimport pandas as pd\\nimport xgboost as xgb'); }\n",
              "    "
            ],
            "text/plain": [
              "<IPython.core.display.Javascript object>"
            ]
          },
          "metadata": {
            "tags": []
          }
        },
        {
          "output_type": "stream",
          "text": [
            "True          0    1\n",
            "Predicted           \n",
            "0          2343  238\n",
            "1           844  247\n",
            "MATHEW CORRELATION COEFF\n",
            "***************************\n",
            "0.18111315604038639\n",
            "ROC_AUC\n",
            "***************************\n",
            "0.6222262477396899\n"
          ],
          "name": "stdout"
        }
      ]
    },
    {
      "cell_type": "code",
      "metadata": {
        "id": "nTkt5738mwYd",
        "colab_type": "code",
        "outputId": "4ecd68dc-a3a8-4ea5-bf18-385b8ea1a8b8",
        "colab": {
          "base_uri": "https://localhost:8080/",
          "height": 17
        }
      },
      "source": [
        "feat = pd.DataFrame({'importance':xg.feature_importances_, 'features':x_train.columns}).sort_values(by='importance', ascending=False)"
      ],
      "execution_count": 0,
      "outputs": [
        {
          "output_type": "display_data",
          "data": {
            "application/javascript": [
              "\n",
              "        if (window._pyforest_update_imports_cell) { window._pyforest_update_imports_cell('import numpy as np\\nfrom sklearn.model_selection import train_test_split\\nimport lightgbm as lgb\\nimport pandas as pd\\nimport xgboost as xgb'); }\n",
              "    "
            ],
            "text/plain": [
              "<IPython.core.display.Javascript object>"
            ]
          },
          "metadata": {
            "tags": []
          }
        }
      ]
    },
    {
      "cell_type": "code",
      "metadata": {
        "id": "pyhQzgtoof07",
        "colab_type": "code",
        "outputId": "d28c4906-2efa-4639-90a7-1635b5185225",
        "colab": {
          "base_uri": "https://localhost:8080/",
          "height": 639
        }
      },
      "source": [
        "pd.set_option('display.max_rows',100)\n",
        "feat.head(20)"
      ],
      "execution_count": 0,
      "outputs": [
        {
          "output_type": "display_data",
          "data": {
            "application/javascript": [
              "\n",
              "        if (window._pyforest_update_imports_cell) { window._pyforest_update_imports_cell('import numpy as np\\nfrom sklearn.model_selection import train_test_split\\nimport lightgbm as lgb\\nimport pandas as pd\\nimport xgboost as xgb'); }\n",
              "    "
            ],
            "text/plain": [
              "<IPython.core.display.Javascript object>"
            ]
          },
          "metadata": {
            "tags": []
          }
        },
        {
          "output_type": "execute_result",
          "data": {
            "text/html": [
              "<div>\n",
              "<style scoped>\n",
              "    .dataframe tbody tr th:only-of-type {\n",
              "        vertical-align: middle;\n",
              "    }\n",
              "\n",
              "    .dataframe tbody tr th {\n",
              "        vertical-align: top;\n",
              "    }\n",
              "\n",
              "    .dataframe thead th {\n",
              "        text-align: right;\n",
              "    }\n",
              "</style>\n",
              "<table border=\"1\" class=\"dataframe\">\n",
              "  <thead>\n",
              "    <tr style=\"text-align: right;\">\n",
              "      <th></th>\n",
              "      <th>importance</th>\n",
              "      <th>features</th>\n",
              "    </tr>\n",
              "  </thead>\n",
              "  <tbody>\n",
              "    <tr>\n",
              "      <th>22</th>\n",
              "      <td>0.098242</td>\n",
              "      <td>company_type_4.0</td>\n",
              "    </tr>\n",
              "    <tr>\n",
              "      <th>1</th>\n",
              "      <td>0.090084</td>\n",
              "      <td>city_development_index</td>\n",
              "    </tr>\n",
              "    <tr>\n",
              "      <th>11</th>\n",
              "      <td>0.070684</td>\n",
              "      <td>enrolled_university_4.0</td>\n",
              "    </tr>\n",
              "    <tr>\n",
              "      <th>28</th>\n",
              "      <td>0.046161</td>\n",
              "      <td>education_level_2.0</td>\n",
              "    </tr>\n",
              "    <tr>\n",
              "      <th>26</th>\n",
              "      <td>0.038637</td>\n",
              "      <td>education_level_0.0</td>\n",
              "    </tr>\n",
              "    <tr>\n",
              "      <th>24</th>\n",
              "      <td>0.034763</td>\n",
              "      <td>relevent_experience_0.0</td>\n",
              "    </tr>\n",
              "    <tr>\n",
              "      <th>40</th>\n",
              "      <td>0.025948</td>\n",
              "      <td>last_new_job_1.0</td>\n",
              "    </tr>\n",
              "    <tr>\n",
              "      <th>2</th>\n",
              "      <td>0.025444</td>\n",
              "      <td>experience</td>\n",
              "    </tr>\n",
              "    <tr>\n",
              "      <th>20</th>\n",
              "      <td>0.024363</td>\n",
              "      <td>company_type_2.0</td>\n",
              "    </tr>\n",
              "    <tr>\n",
              "      <th>44</th>\n",
              "      <td>0.023573</td>\n",
              "      <td>last_new_job_5.0</td>\n",
              "    </tr>\n",
              "    <tr>\n",
              "      <th>39</th>\n",
              "      <td>0.022590</td>\n",
              "      <td>last_new_job_0.0</td>\n",
              "    </tr>\n",
              "    <tr>\n",
              "      <th>4</th>\n",
              "      <td>0.021125</td>\n",
              "      <td>gender_0.0</td>\n",
              "    </tr>\n",
              "    <tr>\n",
              "      <th>8</th>\n",
              "      <td>0.020702</td>\n",
              "      <td>enrolled_university_1.0</td>\n",
              "    </tr>\n",
              "    <tr>\n",
              "      <th>10</th>\n",
              "      <td>0.020624</td>\n",
              "      <td>enrolled_university_3.0</td>\n",
              "    </tr>\n",
              "    <tr>\n",
              "      <th>41</th>\n",
              "      <td>0.020471</td>\n",
              "      <td>last_new_job_2.0</td>\n",
              "    </tr>\n",
              "    <tr>\n",
              "      <th>16</th>\n",
              "      <td>0.020129</td>\n",
              "      <td>major_discipline_4.0</td>\n",
              "    </tr>\n",
              "    <tr>\n",
              "      <th>35</th>\n",
              "      <td>0.019972</td>\n",
              "      <td>company_size_4.0</td>\n",
              "    </tr>\n",
              "    <tr>\n",
              "      <th>7</th>\n",
              "      <td>0.019841</td>\n",
              "      <td>enrolled_university_0.0</td>\n",
              "    </tr>\n",
              "    <tr>\n",
              "      <th>5</th>\n",
              "      <td>0.019643</td>\n",
              "      <td>gender_1.0</td>\n",
              "    </tr>\n",
              "    <tr>\n",
              "      <th>27</th>\n",
              "      <td>0.019603</td>\n",
              "      <td>education_level_1.0</td>\n",
              "    </tr>\n",
              "  </tbody>\n",
              "</table>\n",
              "</div>"
            ],
            "text/plain": [
              "    importance                 features\n",
              "22    0.098242         company_type_4.0\n",
              "1     0.090084   city_development_index\n",
              "11    0.070684  enrolled_university_4.0\n",
              "28    0.046161      education_level_2.0\n",
              "26    0.038637      education_level_0.0\n",
              "24    0.034763  relevent_experience_0.0\n",
              "40    0.025948         last_new_job_1.0\n",
              "2     0.025444               experience\n",
              "20    0.024363         company_type_2.0\n",
              "44    0.023573         last_new_job_5.0\n",
              "39    0.022590         last_new_job_0.0\n",
              "4     0.021125               gender_0.0\n",
              "8     0.020702  enrolled_university_1.0\n",
              "10    0.020624  enrolled_university_3.0\n",
              "41    0.020471         last_new_job_2.0\n",
              "16    0.020129     major_discipline_4.0\n",
              "35    0.019972         company_size_4.0\n",
              "7     0.019841  enrolled_university_0.0\n",
              "5     0.019643               gender_1.0\n",
              "27    0.019603      education_level_1.0"
            ]
          },
          "metadata": {
            "tags": []
          },
          "execution_count": 170
        }
      ]
    },
    {
      "cell_type": "code",
      "metadata": {
        "id": "gW-1DpvnyNd7",
        "colab_type": "code",
        "colab": {}
      },
      "source": [
        "# !pip install bayesian-optimization\n",
        "from bayes_opt import BayesianOptimization\n",
        "from xgboost import XGBClassifier\n",
        "from sklearn.model_selection import cross_val_score\n",
        "\n",
        "pbounds = {\n",
        "    'learning_rate': (0.01, 1.0),\n",
        "    'n_estimators': (100, 1000),\n",
        "    'max_depth': (3,10),\n",
        "    'subsample': (0.5, 1.0),  # Change for big datasets\n",
        "    'colsample': (0.5, 1.0),  # Change for datasets with lots of features\n",
        "    'gamma': (0, 5)}\n",
        "def xgboost_hyper_param(learning_rate,\n",
        "                        n_estimators,\n",
        "                        max_depth,\n",
        "                        subsample,\n",
        "                        colsample,\n",
        "                        gamma):\n",
        "    max_depth = int(max_depth)\n",
        "    n_estimators = int(n_estimators)\n",
        "    clf = XGBClassifier(\n",
        "        max_depth=max_depth,\n",
        "        learning_rate=learning_rate,\n",
        "        n_estimators=n_estimators,\n",
        "        gamma=gamma)\n",
        "    return np.mean(cross_val_score(clf, x_train, y_train, cv=5, scoring='roc_auc'))\n",
        "xg_optimizer = BayesianOptimization(\n",
        "    f=xgboost_hyper_param,\n",
        "    pbounds=pbounds,\n",
        "    random_state=1)\n"
      ],
      "execution_count": 0,
      "outputs": []
    },
    {
      "cell_type": "code",
      "metadata": {
        "id": "69CfPFSXylac",
        "colab_type": "code",
        "outputId": "11361743-04bf-47b2-b2e1-c708d9a44039",
        "colab": {
          "base_uri": "https://localhost:8080/",
          "height": 487
        }
      },
      "source": [
        "xg_optimizer.maximize(init_points=5, n_iter=20)"
      ],
      "execution_count": 0,
      "outputs": [
        {
          "output_type": "stream",
          "text": [
            "|   iter    |  target   | colsample |   gamma   | learni... | max_depth | n_esti... | subsample |\n",
            "-------------------------------------------------------------------------------------------------\n"
          ],
          "name": "stdout"
        },
        {
          "output_type": "display_data",
          "data": {
            "application/javascript": [
              "\n",
              "        if (window._pyforest_update_imports_cell) { window._pyforest_update_imports_cell('import numpy as np\\nfrom sklearn.model_selection import train_test_split\\nimport lightgbm as lgb\\nimport pandas as pd\\nimport xgboost as xgb'); }\n",
              "    "
            ],
            "text/plain": [
              "<IPython.core.display.Javascript object>"
            ]
          },
          "metadata": {
            "tags": []
          }
        },
        {
          "output_type": "stream",
          "text": [
            "| \u001b[0m 1       \u001b[0m | \u001b[0m 0.659   \u001b[0m | \u001b[0m 0.7085  \u001b[0m | \u001b[0m 3.602   \u001b[0m | \u001b[0m 0.01011 \u001b[0m | \u001b[0m 5.116   \u001b[0m | \u001b[0m 232.1   \u001b[0m | \u001b[0m 0.5462  \u001b[0m |\n"
          ],
          "name": "stdout"
        },
        {
          "output_type": "display_data",
          "data": {
            "application/javascript": [
              "\n",
              "        if (window._pyforest_update_imports_cell) { window._pyforest_update_imports_cell('import numpy as np\\nfrom sklearn.model_selection import train_test_split\\nimport lightgbm as lgb\\nimport pandas as pd\\nimport xgboost as xgb'); }\n",
              "    "
            ],
            "text/plain": [
              "<IPython.core.display.Javascript object>"
            ]
          },
          "metadata": {
            "tags": []
          }
        },
        {
          "output_type": "stream",
          "text": [
            "| \u001b[0m 2       \u001b[0m | \u001b[0m 0.6194  \u001b[0m | \u001b[0m 0.5931  \u001b[0m | \u001b[0m 1.728   \u001b[0m | \u001b[0m 0.4028  \u001b[0m | \u001b[0m 6.772   \u001b[0m | \u001b[0m 477.3   \u001b[0m | \u001b[0m 0.8426  \u001b[0m |\n"
          ],
          "name": "stdout"
        },
        {
          "output_type": "display_data",
          "data": {
            "application/javascript": [
              "\n",
              "        if (window._pyforest_update_imports_cell) { window._pyforest_update_imports_cell('import numpy as np\\nfrom sklearn.model_selection import train_test_split\\nimport lightgbm as lgb\\nimport pandas as pd\\nimport xgboost as xgb'); }\n",
              "    "
            ],
            "text/plain": [
              "<IPython.core.display.Javascript object>"
            ]
          },
          "metadata": {
            "tags": []
          }
        },
        {
          "output_type": "stream",
          "text": [
            "| \u001b[95m 3       \u001b[0m | \u001b[95m 0.6625  \u001b[0m | \u001b[95m 0.6022  \u001b[0m | \u001b[95m 4.391   \u001b[0m | \u001b[95m 0.03711 \u001b[0m | \u001b[95m 7.693   \u001b[0m | \u001b[95m 475.6   \u001b[0m | \u001b[95m 0.7793  \u001b[0m |\n"
          ],
          "name": "stdout"
        },
        {
          "output_type": "display_data",
          "data": {
            "application/javascript": [
              "\n",
              "        if (window._pyforest_update_imports_cell) { window._pyforest_update_imports_cell('import numpy as np\\nfrom sklearn.model_selection import train_test_split\\nimport lightgbm as lgb\\nimport pandas as pd\\nimport xgboost as xgb'); }\n",
              "    "
            ],
            "text/plain": [
              "<IPython.core.display.Javascript object>"
            ]
          },
          "metadata": {
            "tags": []
          }
        },
        {
          "output_type": "stream",
          "text": [
            "| \u001b[0m 4       \u001b[0m | \u001b[0m 0.5827  \u001b[0m | \u001b[0m 0.5702  \u001b[0m | \u001b[0m 0.9905  \u001b[0m | \u001b[0m 0.8027  \u001b[0m | \u001b[0m 9.778   \u001b[0m | \u001b[0m 382.1   \u001b[0m | \u001b[0m 0.8462  \u001b[0m |\n"
          ],
          "name": "stdout"
        },
        {
          "output_type": "display_data",
          "data": {
            "application/javascript": [
              "\n",
              "        if (window._pyforest_update_imports_cell) { window._pyforest_update_imports_cell('import numpy as np\\nfrom sklearn.model_selection import train_test_split\\nimport lightgbm as lgb\\nimport pandas as pd\\nimport xgboost as xgb'); }\n",
              "    "
            ],
            "text/plain": [
              "<IPython.core.display.Javascript object>"
            ]
          },
          "metadata": {
            "tags": []
          }
        },
        {
          "output_type": "stream",
          "text": [
            "| \u001b[0m 5       \u001b[0m | \u001b[0m 0.6596  \u001b[0m | \u001b[0m 0.9382  \u001b[0m | \u001b[0m 4.473   \u001b[0m | \u001b[0m 0.09419 \u001b[0m | \u001b[0m 3.273   \u001b[0m | \u001b[0m 252.8   \u001b[0m | \u001b[0m 0.9391  \u001b[0m |\n"
          ],
          "name": "stdout"
        },
        {
          "output_type": "display_data",
          "data": {
            "application/javascript": [
              "\n",
              "        if (window._pyforest_update_imports_cell) { window._pyforest_update_imports_cell('import numpy as np\\nfrom sklearn.model_selection import train_test_split\\nimport lightgbm as lgb\\nimport pandas as pd\\nimport xgboost as xgb'); }\n",
              "    "
            ],
            "text/plain": [
              "<IPython.core.display.Javascript object>"
            ]
          },
          "metadata": {
            "tags": []
          }
        },
        {
          "output_type": "stream",
          "text": [
            "| \u001b[0m 6       \u001b[0m | \u001b[0m 0.6609  \u001b[0m | \u001b[0m 1.0     \u001b[0m | \u001b[0m 5.0     \u001b[0m | \u001b[0m 0.01    \u001b[0m | \u001b[0m 10.0    \u001b[0m | \u001b[0m 1e+03   \u001b[0m | \u001b[0m 0.5     \u001b[0m |\n"
          ],
          "name": "stdout"
        },
        {
          "output_type": "display_data",
          "data": {
            "application/javascript": [
              "\n",
              "        if (window._pyforest_update_imports_cell) { window._pyforest_update_imports_cell('import numpy as np\\nfrom sklearn.model_selection import train_test_split\\nimport lightgbm as lgb\\nimport pandas as pd\\nimport xgboost as xgb'); }\n",
              "    "
            ],
            "text/plain": [
              "<IPython.core.display.Javascript object>"
            ]
          },
          "metadata": {
            "tags": []
          }
        },
        {
          "output_type": "stream",
          "text": [
            "| \u001b[0m 7       \u001b[0m | \u001b[0m 0.6609  \u001b[0m | \u001b[0m 1.0     \u001b[0m | \u001b[0m 5.0     \u001b[0m | \u001b[0m 0.01    \u001b[0m | \u001b[0m 10.0    \u001b[0m | \u001b[0m 766.0   \u001b[0m | \u001b[0m 0.5     \u001b[0m |\n"
          ],
          "name": "stdout"
        },
        {
          "output_type": "display_data",
          "data": {
            "application/javascript": [
              "\n",
              "        if (window._pyforest_update_imports_cell) { window._pyforest_update_imports_cell('import numpy as np\\nfrom sklearn.model_selection import train_test_split\\nimport lightgbm as lgb\\nimport pandas as pd\\nimport xgboost as xgb'); }\n",
              "    "
            ],
            "text/plain": [
              "<IPython.core.display.Javascript object>"
            ]
          },
          "metadata": {
            "tags": []
          }
        },
        {
          "output_type": "stream",
          "text": [
            "| \u001b[0m 8       \u001b[0m | \u001b[0m 0.6614  \u001b[0m | \u001b[0m 0.9675  \u001b[0m | \u001b[0m 2.189   \u001b[0m | \u001b[0m 0.09871 \u001b[0m | \u001b[0m 3.248   \u001b[0m | \u001b[0m 100.1   \u001b[0m | \u001b[0m 0.7445  \u001b[0m |\n"
          ],
          "name": "stdout"
        },
        {
          "output_type": "display_data",
          "data": {
            "application/javascript": [
              "\n",
              "        if (window._pyforest_update_imports_cell) { window._pyforest_update_imports_cell('import numpy as np\\nfrom sklearn.model_selection import train_test_split\\nimport lightgbm as lgb\\nimport pandas as pd\\nimport xgboost as xgb'); }\n",
              "    "
            ],
            "text/plain": [
              "<IPython.core.display.Javascript object>"
            ]
          },
          "metadata": {
            "tags": []
          }
        },
        {
          "output_type": "stream",
          "text": [
            "| \u001b[0m 9       \u001b[0m | \u001b[0m 0.6587  \u001b[0m | \u001b[0m 0.5     \u001b[0m | \u001b[0m 5.0     \u001b[0m | \u001b[0m 0.01    \u001b[0m | \u001b[0m 3.0     \u001b[0m | \u001b[0m 883.8   \u001b[0m | \u001b[0m 0.5     \u001b[0m |\n"
          ],
          "name": "stdout"
        },
        {
          "output_type": "display_data",
          "data": {
            "application/javascript": [
              "\n",
              "        if (window._pyforest_update_imports_cell) { window._pyforest_update_imports_cell('import numpy as np\\nfrom sklearn.model_selection import train_test_split\\nimport lightgbm as lgb\\nimport pandas as pd\\nimport xgboost as xgb'); }\n",
              "    "
            ],
            "text/plain": [
              "<IPython.core.display.Javascript object>"
            ]
          },
          "metadata": {
            "tags": []
          }
        },
        {
          "output_type": "stream",
          "text": [
            "| \u001b[0m 10      \u001b[0m | \u001b[0m 0.6609  \u001b[0m | \u001b[0m 0.5     \u001b[0m | \u001b[0m 5.0     \u001b[0m | \u001b[0m 0.01    \u001b[0m | \u001b[0m 10.0    \u001b[0m | \u001b[0m 627.2   \u001b[0m | \u001b[0m 0.5     \u001b[0m |\n"
          ],
          "name": "stdout"
        },
        {
          "output_type": "display_data",
          "data": {
            "application/javascript": [
              "\n",
              "        if (window._pyforest_update_imports_cell) { window._pyforest_update_imports_cell('import numpy as np\\nfrom sklearn.model_selection import train_test_split\\nimport lightgbm as lgb\\nimport pandas as pd\\nimport xgboost as xgb'); }\n",
              "    "
            ],
            "text/plain": [
              "<IPython.core.display.Javascript object>"
            ]
          },
          "metadata": {
            "tags": []
          }
        },
        {
          "output_type": "stream",
          "text": [
            "| \u001b[0m 11      \u001b[0m | \u001b[0m 0.6614  \u001b[0m | \u001b[0m 1.0     \u001b[0m | \u001b[0m 5.0     \u001b[0m | \u001b[0m 0.01    \u001b[0m | \u001b[0m 10.0    \u001b[0m | \u001b[0m 554.8   \u001b[0m | \u001b[0m 0.5     \u001b[0m |\n"
          ],
          "name": "stdout"
        },
        {
          "output_type": "display_data",
          "data": {
            "application/javascript": [
              "\n",
              "        if (window._pyforest_update_imports_cell) { window._pyforest_update_imports_cell('import numpy as np\\nfrom sklearn.model_selection import train_test_split\\nimport lightgbm as lgb\\nimport pandas as pd\\nimport xgboost as xgb'); }\n",
              "    "
            ],
            "text/plain": [
              "<IPython.core.display.Javascript object>"
            ]
          },
          "metadata": {
            "tags": []
          }
        },
        {
          "output_type": "stream",
          "text": [
            "| \u001b[0m 12      \u001b[0m | \u001b[0m 0.6338  \u001b[0m | \u001b[0m 0.7013  \u001b[0m | \u001b[0m 4.978   \u001b[0m | \u001b[0m 0.3825  \u001b[0m | \u001b[0m 9.924   \u001b[0m | \u001b[0m 938.7   \u001b[0m | \u001b[0m 0.8359  \u001b[0m |\n"
          ],
          "name": "stdout"
        },
        {
          "output_type": "display_data",
          "data": {
            "application/javascript": [
              "\n",
              "        if (window._pyforest_update_imports_cell) { window._pyforest_update_imports_cell('import numpy as np\\nfrom sklearn.model_selection import train_test_split\\nimport lightgbm as lgb\\nimport pandas as pd\\nimport xgboost as xgb'); }\n",
              "    "
            ],
            "text/plain": [
              "<IPython.core.display.Javascript object>"
            ]
          },
          "metadata": {
            "tags": []
          }
        },
        {
          "output_type": "stream",
          "text": [
            "| \u001b[0m 13      \u001b[0m | \u001b[0m 0.6371  \u001b[0m | \u001b[0m 0.698   \u001b[0m | \u001b[0m 4.961   \u001b[0m | \u001b[0m 0.3674  \u001b[0m | \u001b[0m 9.81    \u001b[0m | \u001b[0m 157.2   \u001b[0m | \u001b[0m 0.9485  \u001b[0m |\n"
          ],
          "name": "stdout"
        },
        {
          "output_type": "display_data",
          "data": {
            "application/javascript": [
              "\n",
              "        if (window._pyforest_update_imports_cell) { window._pyforest_update_imports_cell('import numpy as np\\nfrom sklearn.model_selection import train_test_split\\nimport lightgbm as lgb\\nimport pandas as pd\\nimport xgboost as xgb'); }\n",
              "    "
            ],
            "text/plain": [
              "<IPython.core.display.Javascript object>"
            ]
          },
          "metadata": {
            "tags": []
          }
        },
        {
          "output_type": "stream",
          "text": [
            "| \u001b[0m 14      \u001b[0m | \u001b[0m 0.6591  \u001b[0m | \u001b[0m 0.6711  \u001b[0m | \u001b[0m 4.878   \u001b[0m | \u001b[0m 0.2845  \u001b[0m | \u001b[0m 3.089   \u001b[0m | \u001b[0m 692.2   \u001b[0m | \u001b[0m 0.7102  \u001b[0m |\n"
          ],
          "name": "stdout"
        },
        {
          "output_type": "display_data",
          "data": {
            "application/javascript": [
              "\n",
              "        if (window._pyforest_update_imports_cell) { window._pyforest_update_imports_cell('import numpy as np\\nfrom sklearn.model_selection import train_test_split\\nimport lightgbm as lgb\\nimport pandas as pd\\nimport xgboost as xgb'); }\n",
              "    "
            ],
            "text/plain": [
              "<IPython.core.display.Javascript object>"
            ]
          },
          "metadata": {
            "tags": []
          }
        },
        {
          "output_type": "stream",
          "text": [
            "| \u001b[0m 15      \u001b[0m | \u001b[0m 0.6201  \u001b[0m | \u001b[0m 0.7425  \u001b[0m | \u001b[0m 4.806   \u001b[0m | \u001b[0m 0.6106  \u001b[0m | \u001b[0m 9.87    \u001b[0m | \u001b[0m 833.2   \u001b[0m | \u001b[0m 0.7153  \u001b[0m |\n"
          ],
          "name": "stdout"
        },
        {
          "output_type": "display_data",
          "data": {
            "application/javascript": [
              "\n",
              "        if (window._pyforest_update_imports_cell) { window._pyforest_update_imports_cell('import numpy as np\\nfrom sklearn.model_selection import train_test_split\\nimport lightgbm as lgb\\nimport pandas as pd\\nimport xgboost as xgb'); }\n",
              "    "
            ],
            "text/plain": [
              "<IPython.core.display.Javascript object>"
            ]
          },
          "metadata": {
            "tags": []
          }
        },
        {
          "output_type": "stream",
          "text": [
            "| \u001b[0m 16      \u001b[0m | \u001b[0m 0.5906  \u001b[0m | \u001b[0m 0.7813  \u001b[0m | \u001b[0m 0.1355  \u001b[0m | \u001b[0m 0.5946  \u001b[0m | \u001b[0m 3.088   \u001b[0m | \u001b[0m 991.2   \u001b[0m | \u001b[0m 0.6139  \u001b[0m |\n"
          ],
          "name": "stdout"
        },
        {
          "output_type": "display_data",
          "data": {
            "application/javascript": [
              "\n",
              "        if (window._pyforest_update_imports_cell) { window._pyforest_update_imports_cell('import numpy as np\\nfrom sklearn.model_selection import train_test_split\\nimport lightgbm as lgb\\nimport pandas as pd\\nimport xgboost as xgb'); }\n",
              "    "
            ],
            "text/plain": [
              "<IPython.core.display.Javascript object>"
            ]
          },
          "metadata": {
            "tags": []
          }
        },
        {
          "output_type": "stream",
          "text": [
            "| \u001b[0m 17      \u001b[0m | \u001b[0m 0.639   \u001b[0m | \u001b[0m 0.9581  \u001b[0m | \u001b[0m 4.894   \u001b[0m | \u001b[0m 0.4106  \u001b[0m | \u001b[0m 9.653   \u001b[0m | \u001b[0m 284.9   \u001b[0m | \u001b[0m 0.6491  \u001b[0m |\n"
          ],
          "name": "stdout"
        },
        {
          "output_type": "display_data",
          "data": {
            "application/javascript": [
              "\n",
              "        if (window._pyforest_update_imports_cell) { window._pyforest_update_imports_cell('import numpy as np\\nfrom sklearn.model_selection import train_test_split\\nimport lightgbm as lgb\\nimport pandas as pd\\nimport xgboost as xgb'); }\n",
              "    "
            ],
            "text/plain": [
              "<IPython.core.display.Javascript object>"
            ]
          },
          "metadata": {
            "tags": []
          }
        },
        {
          "output_type": "stream",
          "text": [
            "| \u001b[0m 18      \u001b[0m | \u001b[0m 0.6411  \u001b[0m | \u001b[0m 0.7802  \u001b[0m | \u001b[0m 4.803   \u001b[0m | \u001b[0m 0.3403  \u001b[0m | \u001b[0m 9.907   \u001b[0m | \u001b[0m 711.8   \u001b[0m | \u001b[0m 0.7774  \u001b[0m |\n"
          ],
          "name": "stdout"
        },
        {
          "output_type": "display_data",
          "data": {
            "application/javascript": [
              "\n",
              "        if (window._pyforest_update_imports_cell) { window._pyforest_update_imports_cell('import numpy as np\\nfrom sklearn.model_selection import train_test_split\\nimport lightgbm as lgb\\nimport pandas as pd\\nimport xgboost as xgb'); }\n",
              "    "
            ],
            "text/plain": [
              "<IPython.core.display.Javascript object>"
            ]
          },
          "metadata": {
            "tags": []
          }
        },
        {
          "output_type": "stream",
          "text": [
            "| \u001b[0m 19      \u001b[0m | \u001b[0m 0.6606  \u001b[0m | \u001b[0m 0.7322  \u001b[0m | \u001b[0m 4.983   \u001b[0m | \u001b[0m 0.2141  \u001b[0m | \u001b[0m 3.438   \u001b[0m | \u001b[0m 434.4   \u001b[0m | \u001b[0m 0.998   \u001b[0m |\n"
          ],
          "name": "stdout"
        },
        {
          "output_type": "display_data",
          "data": {
            "application/javascript": [
              "\n",
              "        if (window._pyforest_update_imports_cell) { window._pyforest_update_imports_cell('import numpy as np\\nfrom sklearn.model_selection import train_test_split\\nimport lightgbm as lgb\\nimport pandas as pd\\nimport xgboost as xgb'); }\n",
              "    "
            ],
            "text/plain": [
              "<IPython.core.display.Javascript object>"
            ]
          },
          "metadata": {
            "tags": []
          }
        },
        {
          "output_type": "stream",
          "text": [
            "| \u001b[0m 20      \u001b[0m | \u001b[0m 0.6429  \u001b[0m | \u001b[0m 0.6348  \u001b[0m | \u001b[0m 4.857   \u001b[0m | \u001b[0m 0.8914  \u001b[0m | \u001b[0m 3.465   \u001b[0m | \u001b[0m 588.1   \u001b[0m | \u001b[0m 0.7109  \u001b[0m |\n"
          ],
          "name": "stdout"
        },
        {
          "output_type": "display_data",
          "data": {
            "application/javascript": [
              "\n",
              "        if (window._pyforest_update_imports_cell) { window._pyforest_update_imports_cell('import numpy as np\\nfrom sklearn.model_selection import train_test_split\\nimport lightgbm as lgb\\nimport pandas as pd\\nimport xgboost as xgb'); }\n",
              "    "
            ],
            "text/plain": [
              "<IPython.core.display.Javascript object>"
            ]
          },
          "metadata": {
            "tags": []
          }
        },
        {
          "output_type": "stream",
          "text": [
            "| \u001b[0m 21      \u001b[0m | \u001b[0m 0.607   \u001b[0m | \u001b[0m 0.9153  \u001b[0m | \u001b[0m 4.535   \u001b[0m | \u001b[0m 0.6477  \u001b[0m | \u001b[0m 9.851   \u001b[0m | \u001b[0m 101.9   \u001b[0m | \u001b[0m 0.5663  \u001b[0m |\n"
          ],
          "name": "stdout"
        },
        {
          "output_type": "display_data",
          "data": {
            "application/javascript": [
              "\n",
              "        if (window._pyforest_update_imports_cell) { window._pyforest_update_imports_cell('import numpy as np\\nfrom sklearn.model_selection import train_test_split\\nimport lightgbm as lgb\\nimport pandas as pd\\nimport xgboost as xgb'); }\n",
              "    "
            ],
            "text/plain": [
              "<IPython.core.display.Javascript object>"
            ]
          },
          "metadata": {
            "tags": []
          }
        },
        {
          "output_type": "stream",
          "text": [
            "| \u001b[0m 22      \u001b[0m | \u001b[0m 0.6458  \u001b[0m | \u001b[0m 0.9655  \u001b[0m | \u001b[0m 4.467   \u001b[0m | \u001b[0m 0.9294  \u001b[0m | \u001b[0m 3.485   \u001b[0m | \u001b[0m 189.4   \u001b[0m | \u001b[0m 0.9312  \u001b[0m |\n"
          ],
          "name": "stdout"
        },
        {
          "output_type": "display_data",
          "data": {
            "application/javascript": [
              "\n",
              "        if (window._pyforest_update_imports_cell) { window._pyforest_update_imports_cell('import numpy as np\\nfrom sklearn.model_selection import train_test_split\\nimport lightgbm as lgb\\nimport pandas as pd\\nimport xgboost as xgb'); }\n",
              "    "
            ],
            "text/plain": [
              "<IPython.core.display.Javascript object>"
            ]
          },
          "metadata": {
            "tags": []
          }
        },
        {
          "output_type": "stream",
          "text": [
            "| \u001b[0m 23      \u001b[0m | \u001b[0m 0.6587  \u001b[0m | \u001b[0m 0.8187  \u001b[0m | \u001b[0m 0.002136\u001b[0m | \u001b[0m 0.1073  \u001b[0m | \u001b[0m 3.034   \u001b[0m | \u001b[0m 143.2   \u001b[0m | \u001b[0m 0.8785  \u001b[0m |\n"
          ],
          "name": "stdout"
        },
        {
          "output_type": "display_data",
          "data": {
            "application/javascript": [
              "\n",
              "        if (window._pyforest_update_imports_cell) { window._pyforest_update_imports_cell('import numpy as np\\nfrom sklearn.model_selection import train_test_split\\nimport lightgbm as lgb\\nimport pandas as pd\\nimport xgboost as xgb'); }\n",
              "    "
            ],
            "text/plain": [
              "<IPython.core.display.Javascript object>"
            ]
          },
          "metadata": {
            "tags": []
          }
        },
        {
          "output_type": "stream",
          "text": [
            "| \u001b[0m 24      \u001b[0m | \u001b[0m 0.5929  \u001b[0m | \u001b[0m 0.6773  \u001b[0m | \u001b[0m 4.524   \u001b[0m | \u001b[0m 0.8593  \u001b[0m | \u001b[0m 9.764   \u001b[0m | \u001b[0m 431.5   \u001b[0m | \u001b[0m 0.9463  \u001b[0m |\n"
          ],
          "name": "stdout"
        },
        {
          "output_type": "display_data",
          "data": {
            "application/javascript": [
              "\n",
              "        if (window._pyforest_update_imports_cell) { window._pyforest_update_imports_cell('import numpy as np\\nfrom sklearn.model_selection import train_test_split\\nimport lightgbm as lgb\\nimport pandas as pd\\nimport xgboost as xgb'); }\n",
              "    "
            ],
            "text/plain": [
              "<IPython.core.display.Javascript object>"
            ]
          },
          "metadata": {
            "tags": []
          }
        },
        {
          "output_type": "stream",
          "text": [
            "| \u001b[0m 25      \u001b[0m | \u001b[0m 0.6547  \u001b[0m | \u001b[0m 0.7123  \u001b[0m | \u001b[0m 4.965   \u001b[0m | \u001b[0m 0.5721  \u001b[0m | \u001b[0m 3.026   \u001b[0m | \u001b[0m 336.0   \u001b[0m | \u001b[0m 0.7211  \u001b[0m |\n",
            "=================================================================================================\n"
          ],
          "name": "stdout"
        }
      ]
    },
    {
      "cell_type": "code",
      "metadata": {
        "id": "dFlaC1Q880DZ",
        "colab_type": "code",
        "outputId": "611b17d3-946b-4791-b576-e1c01ab9045a",
        "colab": {
          "base_uri": "https://localhost:8080/",
          "height": 118
        }
      },
      "source": [
        "for i,n in xg_optimizer.max[\"params\"].items():\n",
        "    print(i,int(round(n)))"
      ],
      "execution_count": 0,
      "outputs": [
        {
          "output_type": "stream",
          "text": [
            "colsample 1\n",
            "gamma 4\n",
            "learning_rate 0\n",
            "max_depth 8\n",
            "n_estimators 476\n",
            "subsample 1\n"
          ],
          "name": "stdout"
        }
      ]
    },
    {
      "cell_type": "markdown",
      "metadata": {
        "id": "5CScg0P-Qvpe",
        "colab_type": "text"
      },
      "source": [
        "# SEQUENTIAL NEURAL NETWORK"
      ]
    },
    {
      "cell_type": "code",
      "metadata": {
        "id": "vC1qeYGvYyre",
        "colab_type": "code",
        "outputId": "e9d5607a-0b12-4abb-b556-fbf124d57e07",
        "colab": {
          "base_uri": "https://localhost:8080/",
          "height": 17
        }
      },
      "source": [
        "x_train, x_val, y_train, y_val = split(new_train1)"
      ],
      "execution_count": 0,
      "outputs": [
        {
          "output_type": "display_data",
          "data": {
            "application/javascript": [
              "\n",
              "        if (window._pyforest_update_imports_cell) { window._pyforest_update_imports_cell('import pandas as pd\\nimport lightgbm as lgb\\nfrom sklearn.model_selection import train_test_split\\nimport numpy as np'); }\n",
              "    "
            ],
            "text/plain": [
              "<IPython.core.display.Javascript object>"
            ]
          },
          "metadata": {
            "tags": []
          }
        }
      ]
    },
    {
      "cell_type": "code",
      "metadata": {
        "id": "-lVOoZN0QZmi",
        "colab_type": "code",
        "outputId": "96b28a20-fe2f-449a-888a-154f09bbd567",
        "colab": {
          "base_uri": "https://localhost:8080/",
          "height": 34
        }
      },
      "source": [
        "from keras.models import Sequential\n",
        "from keras.layers import Activation, Dense, Dropout, BatchNormalization"
      ],
      "execution_count": 0,
      "outputs": [
        {
          "output_type": "stream",
          "text": [
            "Using TensorFlow backend.\n"
          ],
          "name": "stderr"
        }
      ]
    },
    {
      "cell_type": "code",
      "metadata": {
        "id": "xeboML4-Qh0d",
        "colab_type": "code",
        "colab": {}
      },
      "source": [
        "model = Sequential()\n",
        "model.add(Dense(128, activation='relu', input_shape=(x_train.shape[1],)))\n",
        "model.add(BatchNormalization())\n",
        "model.add(Dropout(0.1))\n",
        "# model.add(Dense(512, activation='relu'))\n",
        "# model.add(BatchNormalization())\n",
        "# model.add(Dropout(0.1))\n",
        "# model.add(Dense(512, activation='relu'))\n",
        "# model.add(BatchNormalization())\n",
        "# model.add(Dropout(0.2))\n",
        "# model.add(Dense(256, activation='relu'))\n",
        "# model.add(BatchNormalization())\n",
        "# model.add(Dropout(0.2))\n",
        "model.add(Dense(256, activation='relu'))\n",
        "model.add(BatchNormalization())\n",
        "model.add(Dropout(0.2))\n",
        "model.add(Dense(1, activation='sigmoid'))\n"
      ],
      "execution_count": 0,
      "outputs": []
    },
    {
      "cell_type": "code",
      "metadata": {
        "id": "vLiiKWw-Qkui",
        "colab_type": "code",
        "outputId": "6af04057-bd72-4ce2-88b2-b01d699a99f8",
        "colab": {
          "base_uri": "https://localhost:8080/",
          "height": 386
        }
      },
      "source": [
        "model.summary()"
      ],
      "execution_count": 0,
      "outputs": [
        {
          "output_type": "stream",
          "text": [
            "Model: \"sequential_1\"\n",
            "_________________________________________________________________\n",
            "Layer (type)                 Output Shape              Param #   \n",
            "=================================================================\n",
            "dense_1 (Dense)              (None, 128)               3968      \n",
            "_________________________________________________________________\n",
            "batch_normalization_1 (Batch (None, 128)               512       \n",
            "_________________________________________________________________\n",
            "dropout_1 (Dropout)          (None, 128)               0         \n",
            "_________________________________________________________________\n",
            "dense_2 (Dense)              (None, 256)               33024     \n",
            "_________________________________________________________________\n",
            "batch_normalization_2 (Batch (None, 256)               1024      \n",
            "_________________________________________________________________\n",
            "dropout_2 (Dropout)          (None, 256)               0         \n",
            "_________________________________________________________________\n",
            "dense_3 (Dense)              (None, 1)                 257       \n",
            "=================================================================\n",
            "Total params: 38,785\n",
            "Trainable params: 38,017\n",
            "Non-trainable params: 768\n",
            "_________________________________________________________________\n"
          ],
          "name": "stdout"
        }
      ]
    },
    {
      "cell_type": "code",
      "metadata": {
        "id": "dSxgC82sQm8J",
        "colab_type": "code",
        "colab": {}
      },
      "source": [
        "from keras import optimizers\n",
        "import keras\n",
        "\n",
        "model.compile(loss='binary_crossentropy',\n",
        "              optimizer=keras.optimizers.Adam(lr=2e-3),\n",
        "              metrics=[keras.metrics.AUC(name='auc')])\n",
        "\n",
        "from keras.callbacks import ModelCheckpoint,EarlyStopping\n",
        "checkpoint = ModelCheckpoint('nn_weights.hdf5', monitor='val_loss', verbose=1, save_best_only=True, mode='auto')\n",
        "es=EarlyStopping(monitor='val_loss', patience=100)"
      ],
      "execution_count": 0,
      "outputs": []
    },
    {
      "cell_type": "code",
      "metadata": {
        "id": "4kp1NaexQrvx",
        "colab_type": "code",
        "outputId": "36d95269-18d2-4284-9c9a-d9b4a2a3d8c4",
        "colab": {
          "base_uri": "https://localhost:8080/",
          "height": 1000
        }
      },
      "source": [
        "\n",
        "history = model.fit(x_train, y_train,\n",
        "                    batch_size=32,\n",
        "                    epochs=300,callbacks=[es,checkpoint],\n",
        "                    verbose=1,\n",
        "                    validation_data=(x_val,y_val), class_weight={0:1, 1:6})"
      ],
      "execution_count": 0,
      "outputs": [
        {
          "output_type": "stream",
          "text": [
            "Train on 14687 samples, validate on 3672 samples\n",
            "Epoch 1/300\n",
            "14687/14687 [==============================] - 2s 115us/step - loss: 1.0989 - auc: 0.6396 - val_loss: 0.6805 - val_auc: 0.6345\n",
            "\n",
            "Epoch 00001: val_loss improved from inf to 0.68048, saving model to nn_weights.hdf5\n",
            "Epoch 2/300\n",
            "14687/14687 [==============================] - 1s 85us/step - loss: 1.0982 - auc: 0.6416 - val_loss: 0.6486 - val_auc: 0.6290\n",
            "\n",
            "Epoch 00002: val_loss improved from 0.68048 to 0.64864, saving model to nn_weights.hdf5\n",
            "Epoch 3/300\n",
            "14687/14687 [==============================] - 1s 85us/step - loss: 1.0976 - auc: 0.6416 - val_loss: 0.6421 - val_auc: 0.6425\n",
            "\n",
            "Epoch 00003: val_loss improved from 0.64864 to 0.64213, saving model to nn_weights.hdf5\n",
            "Epoch 4/300\n",
            "14687/14687 [==============================] - 1s 83us/step - loss: 1.0996 - auc: 0.6385 - val_loss: 0.6176 - val_auc: 0.6347\n",
            "\n",
            "Epoch 00004: val_loss improved from 0.64213 to 0.61758, saving model to nn_weights.hdf5\n",
            "Epoch 5/300\n",
            "14687/14687 [==============================] - 1s 84us/step - loss: 1.0956 - auc: 0.6436 - val_loss: 0.6291 - val_auc: 0.6386\n",
            "\n",
            "Epoch 00005: val_loss did not improve from 0.61758\n",
            "Epoch 6/300\n",
            "14687/14687 [==============================] - 1s 85us/step - loss: 1.0993 - auc: 0.6396 - val_loss: 0.7670 - val_auc: 0.6361\n",
            "\n",
            "Epoch 00006: val_loss did not improve from 0.61758\n",
            "Epoch 7/300\n",
            "14687/14687 [==============================] - 1s 85us/step - loss: 1.1005 - auc: 0.6365 - val_loss: 0.6849 - val_auc: 0.6419\n",
            "\n",
            "Epoch 00007: val_loss did not improve from 0.61758\n",
            "Epoch 8/300\n",
            "14687/14687 [==============================] - 1s 86us/step - loss: 1.0981 - auc: 0.6409 - val_loss: 0.6024 - val_auc: 0.6363\n",
            "\n",
            "Epoch 00008: val_loss improved from 0.61758 to 0.60238, saving model to nn_weights.hdf5\n",
            "Epoch 9/300\n",
            "14687/14687 [==============================] - 1s 85us/step - loss: 1.1011 - auc: 0.6363 - val_loss: 0.6207 - val_auc: 0.6321\n",
            "\n",
            "Epoch 00009: val_loss did not improve from 0.60238\n",
            "Epoch 10/300\n",
            "14687/14687 [==============================] - 2s 116us/step - loss: 1.0971 - auc: 0.6434 - val_loss: 0.6702 - val_auc: 0.6326\n",
            "\n",
            "Epoch 00010: val_loss did not improve from 0.60238\n",
            "Epoch 11/300\n",
            "14687/14687 [==============================] - 1s 85us/step - loss: 1.0931 - auc: 0.6464 - val_loss: 0.6981 - val_auc: 0.6294\n",
            "\n",
            "Epoch 00011: val_loss did not improve from 0.60238\n",
            "Epoch 12/300\n",
            "14687/14687 [==============================] - 1s 86us/step - loss: 1.0965 - auc: 0.6420 - val_loss: 0.6282 - val_auc: 0.6403\n",
            "\n",
            "Epoch 00012: val_loss did not improve from 0.60238\n",
            "Epoch 13/300\n",
            "14687/14687 [==============================] - 1s 86us/step - loss: 1.1012 - auc: 0.6377 - val_loss: 0.6437 - val_auc: 0.6354\n",
            "\n",
            "Epoch 00013: val_loss did not improve from 0.60238\n",
            "Epoch 14/300\n",
            "14687/14687 [==============================] - 1s 85us/step - loss: 1.0996 - auc: 0.6376 - val_loss: 0.7310 - val_auc: 0.6238\n",
            "\n",
            "Epoch 00014: val_loss did not improve from 0.60238\n",
            "Epoch 15/300\n",
            "14687/14687 [==============================] - 1s 85us/step - loss: 1.0948 - auc: 0.6437 - val_loss: 0.6460 - val_auc: 0.6293\n",
            "\n",
            "Epoch 00015: val_loss did not improve from 0.60238\n",
            "Epoch 16/300\n",
            "14687/14687 [==============================] - 1s 86us/step - loss: 1.0956 - auc: 0.6439 - val_loss: 0.5395 - val_auc: 0.6273\n",
            "\n",
            "Epoch 00016: val_loss improved from 0.60238 to 0.53953, saving model to nn_weights.hdf5\n",
            "Epoch 17/300\n",
            "14687/14687 [==============================] - 1s 85us/step - loss: 1.0956 - auc: 0.6442 - val_loss: 0.6640 - val_auc: 0.6366\n",
            "\n",
            "Epoch 00017: val_loss did not improve from 0.53953\n",
            "Epoch 18/300\n",
            "14687/14687 [==============================] - 1s 86us/step - loss: 1.0951 - auc: 0.6450 - val_loss: 0.5810 - val_auc: 0.6333\n",
            "\n",
            "Epoch 00018: val_loss did not improve from 0.53953\n",
            "Epoch 19/300\n",
            "14687/14687 [==============================] - 1s 87us/step - loss: 1.0977 - auc: 0.6419 - val_loss: 0.6374 - val_auc: 0.6407\n",
            "\n",
            "Epoch 00019: val_loss did not improve from 0.53953\n",
            "Epoch 20/300\n",
            "14687/14687 [==============================] - 1s 86us/step - loss: 1.0982 - auc: 0.6408 - val_loss: 0.6890 - val_auc: 0.6254\n",
            "\n",
            "Epoch 00020: val_loss did not improve from 0.53953\n",
            "Epoch 21/300\n",
            "14687/14687 [==============================] - 1s 86us/step - loss: 1.0954 - auc: 0.6430 - val_loss: 0.6263 - val_auc: 0.6400\n",
            "\n",
            "Epoch 00021: val_loss did not improve from 0.53953\n",
            "Epoch 22/300\n",
            "14687/14687 [==============================] - 1s 87us/step - loss: 1.0957 - auc: 0.6431 - val_loss: 0.5919 - val_auc: 0.6342\n",
            "\n",
            "Epoch 00022: val_loss did not improve from 0.53953\n",
            "Epoch 23/300\n",
            "14687/14687 [==============================] - 1s 85us/step - loss: 1.0977 - auc: 0.6432 - val_loss: 0.6419 - val_auc: 0.6374\n",
            "\n",
            "Epoch 00023: val_loss did not improve from 0.53953\n",
            "Epoch 24/300\n",
            "14687/14687 [==============================] - 1s 86us/step - loss: 1.0992 - auc: 0.6402 - val_loss: 0.6153 - val_auc: 0.6328\n",
            "\n",
            "Epoch 00024: val_loss did not improve from 0.53953\n",
            "Epoch 25/300\n",
            "14687/14687 [==============================] - 1s 86us/step - loss: 1.0942 - auc: 0.6455 - val_loss: 0.6683 - val_auc: 0.6361\n",
            "\n",
            "Epoch 00025: val_loss did not improve from 0.53953\n",
            "Epoch 26/300\n",
            "14687/14687 [==============================] - 1s 86us/step - loss: 1.0985 - auc: 0.6399 - val_loss: 0.6599 - val_auc: 0.6361\n",
            "\n",
            "Epoch 00026: val_loss did not improve from 0.53953\n",
            "Epoch 27/300\n",
            "14687/14687 [==============================] - 1s 86us/step - loss: 1.0939 - auc: 0.6465 - val_loss: 0.6588 - val_auc: 0.6361\n",
            "\n",
            "Epoch 00027: val_loss did not improve from 0.53953\n",
            "Epoch 28/300\n",
            "14687/14687 [==============================] - 1s 86us/step - loss: 1.1026 - auc: 0.6342 - val_loss: 0.6632 - val_auc: 0.6306\n",
            "\n",
            "Epoch 00028: val_loss did not improve from 0.53953\n",
            "Epoch 29/300\n",
            "14687/14687 [==============================] - 1s 87us/step - loss: 1.0968 - auc: 0.6393 - val_loss: 0.6145 - val_auc: 0.6340\n",
            "\n",
            "Epoch 00029: val_loss did not improve from 0.53953\n",
            "Epoch 30/300\n",
            "14687/14687 [==============================] - 1s 87us/step - loss: 1.0929 - auc: 0.6467 - val_loss: 0.6705 - val_auc: 0.6207\n",
            "\n",
            "Epoch 00030: val_loss did not improve from 0.53953\n",
            "Epoch 31/300\n",
            "14687/14687 [==============================] - 1s 86us/step - loss: 1.0972 - auc: 0.6419 - val_loss: 0.6709 - val_auc: 0.6350\n",
            "\n",
            "Epoch 00031: val_loss did not improve from 0.53953\n",
            "Epoch 32/300\n",
            "14687/14687 [==============================] - 1s 87us/step - loss: 1.0954 - auc: 0.6441 - val_loss: 0.7151 - val_auc: 0.6328\n",
            "\n",
            "Epoch 00032: val_loss did not improve from 0.53953\n",
            "Epoch 33/300\n",
            "14687/14687 [==============================] - 1s 86us/step - loss: 1.0935 - auc: 0.6467 - val_loss: 0.5852 - val_auc: 0.6327\n",
            "\n",
            "Epoch 00033: val_loss did not improve from 0.53953\n",
            "Epoch 34/300\n",
            "14687/14687 [==============================] - 1s 86us/step - loss: 1.0942 - auc: 0.6445 - val_loss: 0.6403 - val_auc: 0.6371\n",
            "\n",
            "Epoch 00034: val_loss did not improve from 0.53953\n",
            "Epoch 35/300\n",
            "14687/14687 [==============================] - 1s 88us/step - loss: 1.0914 - auc: 0.6477 - val_loss: 0.5956 - val_auc: 0.6349\n",
            "\n",
            "Epoch 00035: val_loss did not improve from 0.53953\n",
            "Epoch 36/300\n",
            "14687/14687 [==============================] - 1s 86us/step - loss: 1.0958 - auc: 0.6437 - val_loss: 0.6879 - val_auc: 0.6365\n",
            "\n",
            "Epoch 00036: val_loss did not improve from 0.53953\n",
            "Epoch 37/300\n",
            "14687/14687 [==============================] - 1s 85us/step - loss: 1.0962 - auc: 0.6406 - val_loss: 0.6732 - val_auc: 0.6219\n",
            "\n",
            "Epoch 00037: val_loss did not improve from 0.53953\n",
            "Epoch 38/300\n",
            "14687/14687 [==============================] - 1s 87us/step - loss: 1.0923 - auc: 0.6458 - val_loss: 0.7033 - val_auc: 0.6370\n",
            "\n",
            "Epoch 00038: val_loss did not improve from 0.53953\n",
            "Epoch 39/300\n",
            "14687/14687 [==============================] - 1s 86us/step - loss: 1.0944 - auc: 0.6436 - val_loss: 0.6236 - val_auc: 0.6338\n",
            "\n",
            "Epoch 00039: val_loss did not improve from 0.53953\n",
            "Epoch 40/300\n",
            "14687/14687 [==============================] - 1s 86us/step - loss: 1.0930 - auc: 0.6465 - val_loss: 0.6913 - val_auc: 0.6295\n",
            "\n",
            "Epoch 00040: val_loss did not improve from 0.53953\n",
            "Epoch 41/300\n",
            "14687/14687 [==============================] - 1s 84us/step - loss: 1.0954 - auc: 0.6424 - val_loss: 0.6573 - val_auc: 0.6301\n",
            "\n",
            "Epoch 00041: val_loss did not improve from 0.53953\n",
            "Epoch 42/300\n",
            "14687/14687 [==============================] - 1s 86us/step - loss: 1.0960 - auc: 0.6415 - val_loss: 0.6426 - val_auc: 0.6342\n",
            "\n",
            "Epoch 00042: val_loss did not improve from 0.53953\n",
            "Epoch 43/300\n",
            "14687/14687 [==============================] - 1s 86us/step - loss: 1.0964 - auc: 0.6418 - val_loss: 0.6736 - val_auc: 0.6324\n",
            "\n",
            "Epoch 00043: val_loss did not improve from 0.53953\n",
            "Epoch 44/300\n",
            "14687/14687 [==============================] - 1s 87us/step - loss: 1.0975 - auc: 0.6414 - val_loss: 0.6336 - val_auc: 0.6367\n",
            "\n",
            "Epoch 00044: val_loss did not improve from 0.53953\n",
            "Epoch 45/300\n",
            "14687/14687 [==============================] - 1s 86us/step - loss: 1.0908 - auc: 0.6508 - val_loss: 0.6125 - val_auc: 0.6237\n",
            "\n",
            "Epoch 00045: val_loss did not improve from 0.53953\n",
            "Epoch 46/300\n",
            "14687/14687 [==============================] - 1s 86us/step - loss: 1.0935 - auc: 0.6451 - val_loss: 0.6593 - val_auc: 0.6404\n",
            "\n",
            "Epoch 00046: val_loss did not improve from 0.53953\n",
            "Epoch 47/300\n",
            "14687/14687 [==============================] - 1s 86us/step - loss: 1.0912 - auc: 0.6482 - val_loss: 0.7272 - val_auc: 0.6294\n",
            "\n",
            "Epoch 00047: val_loss did not improve from 0.53953\n",
            "Epoch 48/300\n",
            "14687/14687 [==============================] - 1s 86us/step - loss: 1.0926 - auc: 0.6482 - val_loss: 0.5688 - val_auc: 0.6111\n",
            "\n",
            "Epoch 00048: val_loss did not improve from 0.53953\n",
            "Epoch 49/300\n",
            "14687/14687 [==============================] - 1s 85us/step - loss: 1.0952 - auc: 0.6428 - val_loss: 0.7112 - val_auc: 0.6308\n",
            "\n",
            "Epoch 00049: val_loss did not improve from 0.53953\n",
            "Epoch 50/300\n",
            "14687/14687 [==============================] - 1s 86us/step - loss: 1.0902 - auc: 0.6504 - val_loss: 0.5868 - val_auc: 0.6168\n",
            "\n",
            "Epoch 00050: val_loss did not improve from 0.53953\n",
            "Epoch 51/300\n",
            "14687/14687 [==============================] - 1s 86us/step - loss: 1.0947 - auc: 0.6441 - val_loss: 0.6423 - val_auc: 0.6267\n",
            "\n",
            "Epoch 00051: val_loss did not improve from 0.53953\n",
            "Epoch 52/300\n",
            "14687/14687 [==============================] - 1s 89us/step - loss: 1.0977 - auc: 0.6418 - val_loss: 0.6206 - val_auc: 0.6324\n",
            "\n",
            "Epoch 00052: val_loss did not improve from 0.53953\n",
            "Epoch 53/300\n",
            "14687/14687 [==============================] - 1s 85us/step - loss: 1.0945 - auc: 0.6433 - val_loss: 0.6255 - val_auc: 0.6357\n",
            "\n",
            "Epoch 00053: val_loss did not improve from 0.53953\n",
            "Epoch 54/300\n",
            "14687/14687 [==============================] - 1s 86us/step - loss: 1.0904 - auc: 0.6474 - val_loss: 0.6000 - val_auc: 0.6367\n",
            "\n",
            "Epoch 00054: val_loss did not improve from 0.53953\n",
            "Epoch 55/300\n",
            "14687/14687 [==============================] - 1s 85us/step - loss: 1.0952 - auc: 0.6408 - val_loss: 0.7032 - val_auc: 0.6275\n",
            "\n",
            "Epoch 00055: val_loss did not improve from 0.53953\n",
            "Epoch 56/300\n",
            "14687/14687 [==============================] - 1s 86us/step - loss: 1.0969 - auc: 0.6405 - val_loss: 0.6549 - val_auc: 0.6303\n",
            "\n",
            "Epoch 00056: val_loss did not improve from 0.53953\n",
            "Epoch 57/300\n",
            "14687/14687 [==============================] - 1s 85us/step - loss: 1.0941 - auc: 0.6446 - val_loss: 0.6528 - val_auc: 0.6159\n",
            "\n",
            "Epoch 00057: val_loss did not improve from 0.53953\n",
            "Epoch 58/300\n",
            "14687/14687 [==============================] - 1s 86us/step - loss: 1.0891 - auc: 0.6495 - val_loss: 0.6425 - val_auc: 0.6393\n",
            "\n",
            "Epoch 00058: val_loss did not improve from 0.53953\n",
            "Epoch 59/300\n",
            "14687/14687 [==============================] - 1s 86us/step - loss: 1.0942 - auc: 0.6441 - val_loss: 0.6442 - val_auc: 0.6398\n",
            "\n",
            "Epoch 00059: val_loss did not improve from 0.53953\n",
            "Epoch 60/300\n",
            "14687/14687 [==============================] - 1s 85us/step - loss: 1.0931 - auc: 0.6458 - val_loss: 0.6873 - val_auc: 0.6275\n",
            "\n",
            "Epoch 00060: val_loss did not improve from 0.53953\n",
            "Epoch 61/300\n",
            "14687/14687 [==============================] - 1s 87us/step - loss: 1.0960 - auc: 0.6437 - val_loss: 0.6689 - val_auc: 0.6375\n",
            "\n",
            "Epoch 00061: val_loss did not improve from 0.53953\n",
            "Epoch 62/300\n",
            "14687/14687 [==============================] - 1s 86us/step - loss: 1.0904 - auc: 0.6482 - val_loss: 0.5686 - val_auc: 0.6317\n",
            "\n",
            "Epoch 00062: val_loss did not improve from 0.53953\n",
            "Epoch 63/300\n",
            "14687/14687 [==============================] - 1s 85us/step - loss: 1.0953 - auc: 0.6416 - val_loss: 0.5949 - val_auc: 0.6294\n",
            "\n",
            "Epoch 00063: val_loss did not improve from 0.53953\n",
            "Epoch 64/300\n",
            "14687/14687 [==============================] - 1s 86us/step - loss: 1.0922 - auc: 0.6488 - val_loss: 0.6404 - val_auc: 0.6395\n",
            "\n",
            "Epoch 00064: val_loss did not improve from 0.53953\n",
            "Epoch 65/300\n",
            "14687/14687 [==============================] - 1s 86us/step - loss: 1.0911 - auc: 0.6463 - val_loss: 0.6549 - val_auc: 0.6354\n",
            "\n",
            "Epoch 00065: val_loss did not improve from 0.53953\n",
            "Epoch 66/300\n",
            "14687/14687 [==============================] - 1s 85us/step - loss: 1.0922 - auc: 0.6464 - val_loss: 0.6150 - val_auc: 0.6311\n",
            "\n",
            "Epoch 00066: val_loss did not improve from 0.53953\n",
            "Epoch 67/300\n",
            "14687/14687 [==============================] - 1s 86us/step - loss: 1.0971 - auc: 0.6415 - val_loss: 0.6884 - val_auc: 0.6245\n",
            "\n",
            "Epoch 00067: val_loss did not improve from 0.53953\n",
            "Epoch 68/300\n",
            "14687/14687 [==============================] - 1s 86us/step - loss: 1.0946 - auc: 0.6481 - val_loss: 0.6174 - val_auc: 0.6089\n",
            "\n",
            "Epoch 00068: val_loss did not improve from 0.53953\n",
            "Epoch 69/300\n",
            "14687/14687 [==============================] - 1s 87us/step - loss: 1.0900 - auc: 0.6497 - val_loss: 0.6545 - val_auc: 0.6330\n",
            "\n",
            "Epoch 00069: val_loss did not improve from 0.53953\n",
            "Epoch 70/300\n",
            "14687/14687 [==============================] - 1s 86us/step - loss: 1.0867 - auc: 0.6542 - val_loss: 0.6667 - val_auc: 0.6254\n",
            "\n",
            "Epoch 00070: val_loss did not improve from 0.53953\n",
            "Epoch 71/300\n",
            "14687/14687 [==============================] - 1s 85us/step - loss: 1.0921 - auc: 0.6480 - val_loss: 0.6644 - val_auc: 0.6328\n",
            "\n",
            "Epoch 00071: val_loss did not improve from 0.53953\n",
            "Epoch 72/300\n",
            "14687/14687 [==============================] - 1s 87us/step - loss: 1.0906 - auc: 0.6495 - val_loss: 0.5802 - val_auc: 0.6387\n",
            "\n",
            "Epoch 00072: val_loss did not improve from 0.53953\n",
            "Epoch 73/300\n",
            "14687/14687 [==============================] - 1s 86us/step - loss: 1.0885 - auc: 0.6510 - val_loss: 0.6775 - val_auc: 0.6249\n",
            "\n",
            "Epoch 00073: val_loss did not improve from 0.53953\n",
            "Epoch 74/300\n",
            "14687/14687 [==============================] - 1s 86us/step - loss: 1.0949 - auc: 0.6458 - val_loss: 0.6691 - val_auc: 0.6422\n",
            "\n",
            "Epoch 00074: val_loss did not improve from 0.53953\n",
            "Epoch 75/300\n",
            "14687/14687 [==============================] - 1s 85us/step - loss: 1.0914 - auc: 0.6503 - val_loss: 0.5467 - val_auc: 0.6003\n",
            "\n",
            "Epoch 00075: val_loss did not improve from 0.53953\n",
            "Epoch 76/300\n",
            "14687/14687 [==============================] - 1s 87us/step - loss: 1.0912 - auc: 0.6489 - val_loss: 0.6833 - val_auc: 0.6247\n",
            "\n",
            "Epoch 00076: val_loss did not improve from 0.53953\n",
            "Epoch 77/300\n",
            "14687/14687 [==============================] - 1s 88us/step - loss: 1.0907 - auc: 0.6485 - val_loss: 0.5988 - val_auc: 0.6162\n",
            "\n",
            "Epoch 00077: val_loss did not improve from 0.53953\n",
            "Epoch 78/300\n",
            "14687/14687 [==============================] - 1s 86us/step - loss: 1.0943 - auc: 0.6456 - val_loss: 0.7301 - val_auc: 0.6387\n",
            "\n",
            "Epoch 00078: val_loss did not improve from 0.53953\n",
            "Epoch 79/300\n",
            "14687/14687 [==============================] - 1s 86us/step - loss: 1.0908 - auc: 0.6490 - val_loss: 0.8075 - val_auc: 0.6337\n",
            "\n",
            "Epoch 00079: val_loss did not improve from 0.53953\n",
            "Epoch 80/300\n",
            "14687/14687 [==============================] - 1s 86us/step - loss: 1.0884 - auc: 0.6534 - val_loss: 0.7526 - val_auc: 0.6299\n",
            "\n",
            "Epoch 00080: val_loss did not improve from 0.53953\n",
            "Epoch 81/300\n",
            "14687/14687 [==============================] - 1s 86us/step - loss: 1.0938 - auc: 0.6462 - val_loss: 0.7108 - val_auc: 0.6218\n",
            "\n",
            "Epoch 00081: val_loss did not improve from 0.53953\n",
            "Epoch 82/300\n",
            "14687/14687 [==============================] - 1s 85us/step - loss: 1.0916 - auc: 0.6498 - val_loss: 0.7457 - val_auc: 0.6121\n",
            "\n",
            "Epoch 00082: val_loss did not improve from 0.53953\n",
            "Epoch 83/300\n",
            "14687/14687 [==============================] - 1s 88us/step - loss: 1.0877 - auc: 0.6518 - val_loss: 0.6155 - val_auc: 0.6292\n",
            "\n",
            "Epoch 00083: val_loss did not improve from 0.53953\n",
            "Epoch 84/300\n",
            "14687/14687 [==============================] - 1s 90us/step - loss: 1.0908 - auc: 0.6472 - val_loss: 0.7951 - val_auc: 0.6317\n",
            "\n",
            "Epoch 00084: val_loss did not improve from 0.53953\n",
            "Epoch 85/300\n",
            "14687/14687 [==============================] - 1s 90us/step - loss: 1.0940 - auc: 0.6454 - val_loss: 0.7385 - val_auc: 0.6361\n",
            "\n",
            "Epoch 00085: val_loss did not improve from 0.53953\n",
            "Epoch 86/300\n",
            "14687/14687 [==============================] - 1s 92us/step - loss: 1.0949 - auc: 0.6416 - val_loss: 0.6424 - val_auc: 0.6262\n",
            "\n",
            "Epoch 00086: val_loss did not improve from 0.53953\n",
            "Epoch 87/300\n",
            "14687/14687 [==============================] - 1s 90us/step - loss: 1.0966 - auc: 0.6408 - val_loss: 0.6341 - val_auc: 0.6285\n",
            "\n",
            "Epoch 00087: val_loss did not improve from 0.53953\n",
            "Epoch 88/300\n",
            "14687/14687 [==============================] - 1s 89us/step - loss: 1.0947 - auc: 0.6456 - val_loss: 0.7001 - val_auc: 0.6322\n",
            "\n",
            "Epoch 00088: val_loss did not improve from 0.53953\n",
            "Epoch 89/300\n",
            "14687/14687 [==============================] - 1s 90us/step - loss: 1.0903 - auc: 0.6512 - val_loss: 0.8068 - val_auc: 0.6303\n",
            "\n",
            "Epoch 00089: val_loss did not improve from 0.53953\n",
            "Epoch 90/300\n",
            "14687/14687 [==============================] - 1s 91us/step - loss: 1.0922 - auc: 0.6484 - val_loss: 0.7538 - val_auc: 0.6284\n",
            "\n",
            "Epoch 00090: val_loss did not improve from 0.53953\n",
            "Epoch 91/300\n",
            "14687/14687 [==============================] - 1s 88us/step - loss: 1.0848 - auc: 0.6549 - val_loss: 0.6862 - val_auc: 0.6373\n",
            "\n",
            "Epoch 00091: val_loss did not improve from 0.53953\n",
            "Epoch 92/300\n",
            "14687/14687 [==============================] - 1s 86us/step - loss: 1.0921 - auc: 0.6468 - val_loss: 0.7224 - val_auc: 0.6364\n",
            "\n",
            "Epoch 00092: val_loss did not improve from 0.53953\n",
            "Epoch 93/300\n",
            "14687/14687 [==============================] - 1s 86us/step - loss: 1.0937 - auc: 0.6457 - val_loss: 0.8286 - val_auc: 0.6303\n",
            "\n",
            "Epoch 00093: val_loss did not improve from 0.53953\n",
            "Epoch 94/300\n",
            "14687/14687 [==============================] - 2s 126us/step - loss: 1.0955 - auc: 0.6404 - val_loss: 0.7370 - val_auc: 0.6383\n",
            "\n",
            "Epoch 00094: val_loss did not improve from 0.53953\n",
            "Epoch 95/300\n",
            "14687/14687 [==============================] - 2s 127us/step - loss: 1.0939 - auc: 0.6413 - val_loss: 0.8105 - val_auc: 0.6299\n",
            "\n",
            "Epoch 00095: val_loss did not improve from 0.53953\n",
            "Epoch 96/300\n",
            "14687/14687 [==============================] - 2s 127us/step - loss: 1.0913 - auc: 0.6481 - val_loss: 0.7651 - val_auc: 0.6269\n",
            "\n",
            "Epoch 00096: val_loss did not improve from 0.53953\n",
            "Epoch 97/300\n",
            "14687/14687 [==============================] - 2s 127us/step - loss: 1.0904 - auc: 0.6477 - val_loss: 0.8017 - val_auc: 0.6285\n",
            "\n",
            "Epoch 00097: val_loss did not improve from 0.53953\n",
            "Epoch 98/300\n",
            "14687/14687 [==============================] - 1s 88us/step - loss: 1.0972 - auc: 0.6409 - val_loss: 0.7129 - val_auc: 0.6349\n",
            "\n",
            "Epoch 00098: val_loss did not improve from 0.53953\n",
            "Epoch 99/300\n",
            "14687/14687 [==============================] - 1s 87us/step - loss: 1.0946 - auc: 0.6446 - val_loss: 0.6718 - val_auc: 0.6349\n",
            "\n",
            "Epoch 00099: val_loss did not improve from 0.53953\n",
            "Epoch 100/300\n",
            "14687/14687 [==============================] - 1s 85us/step - loss: 1.0950 - auc: 0.6446 - val_loss: 0.6770 - val_auc: 0.6362\n",
            "\n",
            "Epoch 00100: val_loss did not improve from 0.53953\n",
            "Epoch 101/300\n",
            "14687/14687 [==============================] - 1s 87us/step - loss: 1.0952 - auc: 0.6445 - val_loss: 0.5925 - val_auc: 0.6357\n",
            "\n",
            "Epoch 00101: val_loss did not improve from 0.53953\n",
            "Epoch 102/300\n",
            "14687/14687 [==============================] - 1s 85us/step - loss: 1.0990 - auc: 0.6394 - val_loss: 0.5909 - val_auc: 0.6350\n",
            "\n",
            "Epoch 00102: val_loss did not improve from 0.53953\n",
            "Epoch 103/300\n",
            "14687/14687 [==============================] - 1s 87us/step - loss: 1.0923 - auc: 0.6485 - val_loss: 0.7104 - val_auc: 0.6297\n",
            "\n",
            "Epoch 00103: val_loss did not improve from 0.53953\n",
            "Epoch 104/300\n",
            "14687/14687 [==============================] - 1s 88us/step - loss: 1.0872 - auc: 0.6515 - val_loss: 0.6233 - val_auc: 0.6398\n",
            "\n",
            "Epoch 00104: val_loss did not improve from 0.53953\n",
            "Epoch 105/300\n",
            "14687/14687 [==============================] - 1s 85us/step - loss: 1.0893 - auc: 0.6509 - val_loss: 0.6235 - val_auc: 0.6292\n",
            "\n",
            "Epoch 00105: val_loss did not improve from 0.53953\n",
            "Epoch 106/300\n",
            "14687/14687 [==============================] - 1s 85us/step - loss: 1.0900 - auc: 0.6494 - val_loss: 0.6406 - val_auc: 0.6354\n",
            "\n",
            "Epoch 00106: val_loss did not improve from 0.53953\n",
            "Epoch 107/300\n",
            "14687/14687 [==============================] - 1s 85us/step - loss: 1.0921 - auc: 0.6467 - val_loss: 0.6395 - val_auc: 0.6354\n",
            "\n",
            "Epoch 00107: val_loss did not improve from 0.53953\n",
            "Epoch 108/300\n",
            "14687/14687 [==============================] - 1s 85us/step - loss: 1.0896 - auc: 0.6505 - val_loss: 0.6591 - val_auc: 0.6325\n",
            "\n",
            "Epoch 00108: val_loss did not improve from 0.53953\n",
            "Epoch 109/300\n",
            "14687/14687 [==============================] - 1s 88us/step - loss: 1.0921 - auc: 0.6450 - val_loss: 0.6495 - val_auc: 0.6312\n",
            "\n",
            "Epoch 00109: val_loss did not improve from 0.53953\n",
            "Epoch 110/300\n",
            "14687/14687 [==============================] - 1s 85us/step - loss: 1.0898 - auc: 0.6479 - val_loss: 0.6734 - val_auc: 0.6162\n",
            "\n",
            "Epoch 00110: val_loss did not improve from 0.53953\n",
            "Epoch 111/300\n",
            "14687/14687 [==============================] - 1s 85us/step - loss: 1.0927 - auc: 0.6464 - val_loss: 0.6080 - val_auc: 0.6108\n",
            "\n",
            "Epoch 00111: val_loss did not improve from 0.53953\n",
            "Epoch 112/300\n",
            "14687/14687 [==============================] - 1s 86us/step - loss: 1.0923 - auc: 0.6476 - val_loss: 0.6017 - val_auc: 0.6328\n",
            "\n",
            "Epoch 00112: val_loss did not improve from 0.53953\n",
            "Epoch 113/300\n",
            "14687/14687 [==============================] - 1s 85us/step - loss: 1.0874 - auc: 0.6522 - val_loss: 0.6165 - val_auc: 0.6382\n",
            "\n",
            "Epoch 00113: val_loss did not improve from 0.53953\n",
            "Epoch 114/300\n",
            "14687/14687 [==============================] - 1s 86us/step - loss: 1.0873 - auc: 0.6531 - val_loss: 0.6356 - val_auc: 0.6335\n",
            "\n",
            "Epoch 00114: val_loss did not improve from 0.53953\n",
            "Epoch 115/300\n",
            "14687/14687 [==============================] - 1s 84us/step - loss: 1.0890 - auc: 0.6480 - val_loss: 0.6004 - val_auc: 0.6401\n",
            "\n",
            "Epoch 00115: val_loss did not improve from 0.53953\n",
            "Epoch 116/300\n",
            "14687/14687 [==============================] - 1s 85us/step - loss: 1.0858 - auc: 0.6540 - val_loss: 0.5989 - val_auc: 0.6320\n",
            "\n",
            "Epoch 00116: val_loss did not improve from 0.53953\n"
          ],
          "name": "stdout"
        }
      ]
    },
    {
      "cell_type": "code",
      "metadata": {
        "id": "zzs4M1U4Q98g",
        "colab_type": "code",
        "colab": {}
      },
      "source": [
        "y_pred = model.predict(x_val)"
      ],
      "execution_count": 0,
      "outputs": []
    },
    {
      "cell_type": "code",
      "metadata": {
        "id": "IRqA5da_SBmh",
        "colab_type": "code",
        "outputId": "9425b4a9-fde8-4100-94ac-071e805a57b2",
        "colab": {
          "base_uri": "https://localhost:8080/",
          "height": 17
        }
      },
      "source": [
        "nn_pred = np.where(y_pred<=0.5,0,1)"
      ],
      "execution_count": 0,
      "outputs": [
        {
          "output_type": "display_data",
          "data": {
            "application/javascript": [
              "\n",
              "        if (window._pyforest_update_imports_cell) { window._pyforest_update_imports_cell('import pandas as pd\\nimport lightgbm as lgb\\nfrom sklearn.model_selection import train_test_split\\nimport numpy as np'); }\n",
              "    "
            ],
            "text/plain": [
              "<IPython.core.display.Javascript object>"
            ]
          },
          "metadata": {
            "tags": []
          }
        }
      ]
    },
    {
      "cell_type": "code",
      "metadata": {
        "id": "x-9arlamR4f4",
        "colab_type": "code",
        "outputId": "8f67b0ef-f955-438c-ffbd-746deb4d445b",
        "colab": {
          "base_uri": "https://localhost:8080/",
          "height": 403
        }
      },
      "source": [
        "evaluate_model(y_val, nn_pred)"
      ],
      "execution_count": 0,
      "outputs": [
        {
          "output_type": "stream",
          "text": [
            "CLASSIFICATION REPORT\n",
            "***************************\n",
            "              precision    recall  f1-score   support\n",
            "\n",
            "           0       0.89      0.79      0.84      3187\n",
            "           1       0.22      0.39      0.28       485\n",
            "\n",
            "    accuracy                           0.73      3672\n",
            "   macro avg       0.56      0.59      0.56      3672\n",
            "weighted avg       0.80      0.73      0.76      3672\n",
            "\n",
            "CONFUSION MATRIX\n",
            "****************************\n"
          ],
          "name": "stdout"
        },
        {
          "output_type": "display_data",
          "data": {
            "application/javascript": [
              "\n",
              "        if (window._pyforest_update_imports_cell) { window._pyforest_update_imports_cell('import pandas as pd\\nimport lightgbm as lgb\\nfrom sklearn.model_selection import train_test_split\\nimport numpy as np'); }\n",
              "    "
            ],
            "text/plain": [
              "<IPython.core.display.Javascript object>"
            ]
          },
          "metadata": {
            "tags": []
          }
        },
        {
          "output_type": "stream",
          "text": [
            "True          0    1\n",
            "Predicted           \n",
            "0          2505  297\n",
            "1           682  188\n",
            "MATHEW CORRELATION COEFF\n",
            "***************************\n",
            "0.13826245528162823\n",
            "ROC_AUC\n",
            "***************************\n",
            "0.5868172569620786\n"
          ],
          "name": "stdout"
        }
      ]
    },
    {
      "cell_type": "code",
      "metadata": {
        "id": "IkOxkqoBmMCj",
        "colab_type": "code",
        "colab": {}
      },
      "source": [
        "from pycaret.classification import *\n"
      ],
      "execution_count": 0,
      "outputs": []
    },
    {
      "cell_type": "markdown",
      "metadata": {
        "id": "T0GOP3u-PIZ1",
        "colab_type": "text"
      },
      "source": [
        "# FEATURE ENGINEERING"
      ]
    },
    {
      "cell_type": "code",
      "metadata": {
        "id": "qqhBbAQqO_nZ",
        "colab_type": "code",
        "colab": {}
      },
      "source": [
        "def split(df):\n",
        "  x_train, x_val, y_train, y_val = train_test_split(df.drop(['target','enrollee_id'], axis=1), \\\n",
        "                                                  df['target'].astype('int'),\n",
        "                                                    test_size=0.20,shuffle=True,\n",
        "                                                    random_state=0,\n",
        "                                                    stratify=df['target'])\n",
        "  return x_train, x_val, y_train, y_val"
      ],
      "execution_count": 0,
      "outputs": []
    },
    {
      "cell_type": "code",
      "metadata": {
        "id": "DIY-agkbPYvH",
        "colab_type": "code",
        "colab": {}
      },
      "source": [
        "from sklearn.metrics import classification_report, confusion_matrix, accuracy_score\n",
        "from sklearn.metrics import matthews_corrcoef as mcc\n",
        "from sklearn.metrics import roc_auc_score\n",
        "\n",
        "def evaluate_model(y_true, y_pred):\n",
        "  print('CLASSIFICATION REPORT')\n",
        "  print('***************************')\n",
        "  print(classification_report(y_true,y_pred))\n",
        "  print('CONFUSION MATRIX')\n",
        "  print('****************************')\n",
        "  cm = confusion_matrix(y_true, y_pred)\n",
        "  cm_df = pd.DataFrame(cm.T, index=[0,1], columns=[0,1])\n",
        "  cm_df.index.name = 'Predicted'\n",
        "  cm_df.columns.name = 'True'\n",
        "  print(cm_df)\n",
        "  print('MATHEW CORRELATION COEFF')\n",
        "  print('***************************')\n",
        "  print( mcc(y_true, y_pred))\n",
        "  print('ROC_AUC')\n",
        "  print('***************************')\n",
        "  print(roc_auc_score(y_true,y_pred))\n",
        "\n",
        "  \n"
      ],
      "execution_count": 0,
      "outputs": []
    },
    {
      "cell_type": "code",
      "metadata": {
        "id": "KHbGro34WHgy",
        "colab_type": "code",
        "outputId": "e9620d2c-17b5-462d-cd66-0224c574d99d",
        "colab": {
          "base_uri": "https://localhost:8080/",
          "height": 17
        }
      },
      "source": [
        "x_train, x_val, y_train, y_val = split(new_train)"
      ],
      "execution_count": 0,
      "outputs": [
        {
          "output_type": "display_data",
          "data": {
            "application/javascript": [
              "\n",
              "        if (window._pyforest_update_imports_cell) { window._pyforest_update_imports_cell('import numpy as np\\nfrom sklearn.model_selection import train_test_split\\nimport lightgbm as lgb\\nimport pandas as pd\\nimport xgboost as xgb'); }\n",
              "    "
            ],
            "text/plain": [
              "<IPython.core.display.Javascript object>"
            ]
          },
          "metadata": {
            "tags": []
          }
        }
      ]
    },
    {
      "cell_type": "code",
      "metadata": {
        "id": "25vIpwXqa3on",
        "colab_type": "code",
        "outputId": "1819484d-3c66-4a24-9df3-d2591f11da17",
        "colab": {
          "base_uri": "https://localhost:8080/",
          "height": 17
        }
      },
      "source": [
        "x_train1 = pd.concat([x_train, y_train], axis=1)"
      ],
      "execution_count": 0,
      "outputs": [
        {
          "output_type": "display_data",
          "data": {
            "application/javascript": [
              "\n",
              "        if (window._pyforest_update_imports_cell) { window._pyforest_update_imports_cell('import numpy as np\\nfrom sklearn.model_selection import train_test_split\\nimport lightgbm as lgb\\nimport pandas as pd\\nimport xgboost as xgb'); }\n",
              "    "
            ],
            "text/plain": [
              "<IPython.core.display.Javascript object>"
            ]
          },
          "metadata": {
            "tags": []
          }
        }
      ]
    },
    {
      "cell_type": "markdown",
      "metadata": {
        "id": "dTkug3FxkG7p",
        "colab_type": "text"
      },
      "source": [
        "probability for categorical value in training set"
      ]
    },
    {
      "cell_type": "code",
      "metadata": {
        "id": "cFLsmLMNajVe",
        "colab_type": "code",
        "colab": {}
      },
      "source": [
        "\n",
        "city_dict = x_train1.groupby(['city']).agg({'target':'mean'}).to_dict()['target']\n",
        "# las_dict = x_train1.groupby(['last_new_job']).agg({'target':'mean'}).to_dict()['target']\n",
        "edu = x_train1.groupby(['education_level']).agg({'target':'mean'}).to_dict()['target']\n",
        "exp = x_train1.groupby(['experience']).agg({'target':'mean'}).to_dict()['target']\n",
        "# comp = x_train1.groupby(['company_type']).agg({'target':'mean'}).to_dict()['target']\n"
      ],
      "execution_count": 0,
      "outputs": []
    },
    {
      "cell_type": "code",
      "metadata": {
        "id": "_0Ayf1Lha1SR",
        "colab_type": "code",
        "colab": {}
      },
      "source": [
        "def prob_feat(df):\n",
        "  df['city_prob'] = df['city'].replace(city_dict)\n",
        "  # df['company_typ_prob'] = df['company_type'].replace(comp)\n",
        "  df['exp_prob'] = df['experience'].replace(exp)\n",
        "  df['edu_prob'] = df['education_level'].replace(edu)\n",
        "  # df['last_new_prob'] = df['last_new_job'].replace(las_dict)\n",
        "  return df"
      ],
      "execution_count": 0,
      "outputs": []
    },
    {
      "cell_type": "code",
      "metadata": {
        "id": "82WYe6FFbPxd",
        "colab_type": "code",
        "colab": {}
      },
      "source": [
        "new_train = prob_feat(new_train)\n",
        "new_test = prob_feat(new_test)"
      ],
      "execution_count": 0,
      "outputs": []
    },
    {
      "cell_type": "code",
      "metadata": {
        "id": "gM83roKvbyDm",
        "colab_type": "code",
        "outputId": "d9e66949-2d9e-41ff-a5f4-21bc4b01f16e",
        "colab": {
          "base_uri": "https://localhost:8080/",
          "height": 215
        }
      },
      "source": [
        "new_train.head()"
      ],
      "execution_count": 0,
      "outputs": [
        {
          "output_type": "execute_result",
          "data": {
            "text/html": [
              "<div>\n",
              "<style scoped>\n",
              "    .dataframe tbody tr th:only-of-type {\n",
              "        vertical-align: middle;\n",
              "    }\n",
              "\n",
              "    .dataframe tbody tr th {\n",
              "        vertical-align: top;\n",
              "    }\n",
              "\n",
              "    .dataframe thead th {\n",
              "        text-align: right;\n",
              "    }\n",
              "</style>\n",
              "<table border=\"1\" class=\"dataframe\">\n",
              "  <thead>\n",
              "    <tr style=\"text-align: right;\">\n",
              "      <th></th>\n",
              "      <th>enrollee_id</th>\n",
              "      <th>city</th>\n",
              "      <th>city_development_index</th>\n",
              "      <th>gender</th>\n",
              "      <th>relevent_experience</th>\n",
              "      <th>enrolled_university</th>\n",
              "      <th>education_level</th>\n",
              "      <th>major_discipline</th>\n",
              "      <th>experience</th>\n",
              "      <th>company_size</th>\n",
              "      <th>company_type</th>\n",
              "      <th>last_new_job</th>\n",
              "      <th>training_hours</th>\n",
              "      <th>comp_size_mean</th>\n",
              "      <th>target</th>\n",
              "      <th>city_prob</th>\n",
              "      <th>exp_prob</th>\n",
              "      <th>edu_prob</th>\n",
              "    </tr>\n",
              "  </thead>\n",
              "  <tbody>\n",
              "    <tr>\n",
              "      <th>0</th>\n",
              "      <td>23798.0</td>\n",
              "      <td>42.0</td>\n",
              "      <td>0.689</td>\n",
              "      <td>1.0</td>\n",
              "      <td>0.0</td>\n",
              "      <td>4.0</td>\n",
              "      <td>2.0</td>\n",
              "      <td>5.0</td>\n",
              "      <td>3.0</td>\n",
              "      <td>3.0</td>\n",
              "      <td>5.0</td>\n",
              "      <td>1.0</td>\n",
              "      <td>106.0</td>\n",
              "      <td>300.0</td>\n",
              "      <td>0</td>\n",
              "      <td>0.120482</td>\n",
              "      <td>0.170893</td>\n",
              "      <td>0.144264</td>\n",
              "    </tr>\n",
              "    <tr>\n",
              "      <th>1</th>\n",
              "      <td>29166.0</td>\n",
              "      <td>113.0</td>\n",
              "      <td>0.923</td>\n",
              "      <td>1.0</td>\n",
              "      <td>0.0</td>\n",
              "      <td>4.0</td>\n",
              "      <td>2.0</td>\n",
              "      <td>5.0</td>\n",
              "      <td>14.0</td>\n",
              "      <td>0.0</td>\n",
              "      <td>1.0</td>\n",
              "      <td>1.0</td>\n",
              "      <td>69.0</td>\n",
              "      <td>5.0</td>\n",
              "      <td>0</td>\n",
              "      <td>0.114286</td>\n",
              "      <td>0.133612</td>\n",
              "      <td>0.144264</td>\n",
              "    </tr>\n",
              "    <tr>\n",
              "      <th>2</th>\n",
              "      <td>46.0</td>\n",
              "      <td>49.0</td>\n",
              "      <td>0.910</td>\n",
              "      <td>1.0</td>\n",
              "      <td>0.0</td>\n",
              "      <td>4.0</td>\n",
              "      <td>2.0</td>\n",
              "      <td>5.0</td>\n",
              "      <td>6.0</td>\n",
              "      <td>2.0</td>\n",
              "      <td>4.0</td>\n",
              "      <td>2.0</td>\n",
              "      <td>4.0</td>\n",
              "      <td>75.0</td>\n",
              "      <td>0</td>\n",
              "      <td>0.086924</td>\n",
              "      <td>0.135428</td>\n",
              "      <td>0.144264</td>\n",
              "    </tr>\n",
              "    <tr>\n",
              "      <th>3</th>\n",
              "      <td>18527.0</td>\n",
              "      <td>94.0</td>\n",
              "      <td>0.666</td>\n",
              "      <td>1.0</td>\n",
              "      <td>0.0</td>\n",
              "      <td>4.0</td>\n",
              "      <td>2.0</td>\n",
              "      <td>5.0</td>\n",
              "      <td>14.0</td>\n",
              "      <td>2.0</td>\n",
              "      <td>5.0</td>\n",
              "      <td>1.0</td>\n",
              "      <td>26.0</td>\n",
              "      <td>75.0</td>\n",
              "      <td>0</td>\n",
              "      <td>0.082353</td>\n",
              "      <td>0.133612</td>\n",
              "      <td>0.144264</td>\n",
              "    </tr>\n",
              "    <tr>\n",
              "      <th>4</th>\n",
              "      <td>21751.0</td>\n",
              "      <td>3.0</td>\n",
              "      <td>0.887</td>\n",
              "      <td>1.0</td>\n",
              "      <td>1.0</td>\n",
              "      <td>4.0</td>\n",
              "      <td>3.0</td>\n",
              "      <td>5.0</td>\n",
              "      <td>8.0</td>\n",
              "      <td>4.0</td>\n",
              "      <td>5.0</td>\n",
              "      <td>2.0</td>\n",
              "      <td>88.0</td>\n",
              "      <td>3033.0</td>\n",
              "      <td>1</td>\n",
              "      <td>0.153846</td>\n",
              "      <td>0.103333</td>\n",
              "      <td>0.117748</td>\n",
              "    </tr>\n",
              "  </tbody>\n",
              "</table>\n",
              "</div>"
            ],
            "text/plain": [
              "   enrollee_id   city  city_development_index  ...  city_prob  exp_prob  edu_prob\n",
              "0      23798.0   42.0                   0.689  ...   0.120482  0.170893  0.144264\n",
              "1      29166.0  113.0                   0.923  ...   0.114286  0.133612  0.144264\n",
              "2         46.0   49.0                   0.910  ...   0.086924  0.135428  0.144264\n",
              "3      18527.0   94.0                   0.666  ...   0.082353  0.133612  0.144264\n",
              "4      21751.0    3.0                   0.887  ...   0.153846  0.103333  0.117748\n",
              "\n",
              "[5 rows x 18 columns]"
            ]
          },
          "metadata": {
            "tags": []
          },
          "execution_count": 214
        }
      ]
    },
    {
      "cell_type": "code",
      "metadata": {
        "id": "lhiJPUImlO-3",
        "colab_type": "code",
        "colab": {}
      },
      "source": [
        "new_train['is_train']=1\n",
        "new_test['is_train']=0"
      ],
      "execution_count": 0,
      "outputs": []
    },
    {
      "cell_type": "code",
      "metadata": {
        "id": "rtPznAh47K91",
        "colab_type": "code",
        "outputId": "f9a70e0f-02fd-48da-bb73-102f7bbe931b",
        "colab": {
          "base_uri": "https://localhost:8080/",
          "height": 17
        }
      },
      "source": [
        "df = pd.concat([new_train, new_test], axis=0)"
      ],
      "execution_count": 0,
      "outputs": [
        {
          "output_type": "display_data",
          "data": {
            "application/javascript": [
              "\n",
              "        if (window._pyforest_update_imports_cell) { window._pyforest_update_imports_cell('import numpy as np\\nfrom sklearn.model_selection import train_test_split\\nimport lightgbm as lgb\\nimport pandas as pd\\nimport xgboost as xgb'); }\n",
              "    "
            ],
            "text/plain": [
              "<IPython.core.display.Javascript object>"
            ]
          },
          "metadata": {
            "tags": []
          }
        }
      ]
    },
    {
      "cell_type": "code",
      "metadata": {
        "id": "-hGrDRG5s9rt",
        "colab_type": "code",
        "colab": {}
      },
      "source": [
        "# no. of hourse spent on training for each company\n",
        "df['avg_comp_training'] = df.groupby(['company_size', 'company_type'])['training_hours'].transform('mean')\n",
        "\n",
        "# ratio individual person on company avg training hours\n",
        "df['ratio_training'] = df['training_hours']/df['avg_comp_training']"
      ],
      "execution_count": 0,
      "outputs": []
    },
    {
      "cell_type": "code",
      "metadata": {
        "id": "NNuD6SwU2Bpp",
        "colab_type": "code",
        "colab": {}
      },
      "source": [
        "city = df.groupby(['city','city_development_index']).agg({'gender':'count'}).reset_index().sort_values(by=['city_development_index'], ascending=False)"
      ],
      "execution_count": 0,
      "outputs": []
    },
    {
      "cell_type": "code",
      "metadata": {
        "id": "FRRIg6uN2dEI",
        "colab_type": "code",
        "colab": {}
      },
      "source": [
        "city['rank'] = [x for x in range(1,city.shape[0]+1)]"
      ],
      "execution_count": 0,
      "outputs": []
    },
    {
      "cell_type": "code",
      "metadata": {
        "id": "AFEaZm992gRQ",
        "colab_type": "code",
        "colab": {}
      },
      "source": [
        "df = df.merge(city[['city','rank']], on=['city'])"
      ],
      "execution_count": 0,
      "outputs": []
    },
    {
      "cell_type": "code",
      "metadata": {
        "id": "W_NKcpOX-H8C",
        "colab_type": "code",
        "colab": {}
      },
      "source": [
        "df['agg_rank'] = df.groupby(['company_type','company_size'])['rank'].transform('sum')"
      ],
      "execution_count": 0,
      "outputs": []
    },
    {
      "cell_type": "code",
      "metadata": {
        "id": "MCJ0z7Sn7Q0A",
        "colab_type": "code",
        "colab": {}
      },
      "source": [
        " # no of branches for each company\n",
        "df['branches'] = df.groupby(['company_type','company_size'])['city'].transform('count')"
      ],
      "execution_count": 0,
      "outputs": []
    },
    {
      "cell_type": "code",
      "metadata": {
        "id": "1lBjZxOy77TI",
        "colab_type": "code",
        "colab": {}
      },
      "source": [
        "# number of people\n",
        "df['countofpeople'] = df.groupby(['company_size', 'company_type'])['gender'].transform('count')"
      ],
      "execution_count": 0,
      "outputs": []
    },
    {
      "cell_type": "code",
      "metadata": {
        "id": "juREW6G_8pic",
        "colab_type": "code",
        "colab": {}
      },
      "source": [
        "# ratio of available count on mean\n",
        "df['ratio_count'] = df['countofpeople'] / df['comp_size_mean']"
      ],
      "execution_count": 0,
      "outputs": []
    },
    {
      "cell_type": "code",
      "metadata": {
        "id": "GhvMBxJz9HUs",
        "colab_type": "code",
        "colab": {}
      },
      "source": [
        "# average experience of employee wrt job seq\n",
        "df['avg_experience_job'] = df.groupby(['last_new_job','company_size', 'company_type'])['experience'].transform('mean')"
      ],
      "execution_count": 0,
      "outputs": []
    },
    {
      "cell_type": "code",
      "metadata": {
        "id": "F5L0D_KG_Aqj",
        "colab_type": "code",
        "colab": {}
      },
      "source": [
        "# ratio of experience on the companies avg experience for each job sequence\n",
        "df['ratio_on_avg_exp'] = df['experience'] / df['avg_experience_job']"
      ],
      "execution_count": 0,
      "outputs": []
    },
    {
      "cell_type": "code",
      "metadata": {
        "id": "rvrFS21u9tiV",
        "colab_type": "code",
        "colab": {}
      },
      "source": [
        "# education level gender experience in each company\n",
        "df['avg_gender_exp'] = df.groupby(['gender','education_level','company_size', 'company_type'])['experience'].transform('mean')"
      ],
      "execution_count": 0,
      "outputs": []
    },
    {
      "cell_type": "code",
      "metadata": {
        "id": "9DP4wbfT_cLK",
        "colab_type": "code",
        "colab": {}
      },
      "source": [
        "# ratio of experience on the companies avg experience for each gender\n",
        "df['ratio_on_gender_exp'] = df['experience'] / df['avg_gender_exp']"
      ],
      "execution_count": 0,
      "outputs": []
    },
    {
      "cell_type": "code",
      "metadata": {
        "id": "yidO6-an-AGE",
        "colab_type": "code",
        "colab": {}
      },
      "source": [
        "# training hours spent on each city wrt comp\n",
        "df['avg_ct_training'] = df.groupby(['city','company_size', 'company_type'])['training_hours'].transform('mean')"
      ],
      "execution_count": 0,
      "outputs": []
    },
    {
      "cell_type": "code",
      "metadata": {
        "id": "AA8bbgAU-PKl",
        "colab_type": "code",
        "colab": {}
      },
      "source": [
        "# ratio of training hours on the companies avg training for each city\n",
        "df['ratio_on_ct_training'] = df['training_hours'] / df['avg_ct_training']"
      ],
      "execution_count": 0,
      "outputs": []
    },
    {
      "cell_type": "code",
      "metadata": {
        "id": "wwtYAzwj_4Z_",
        "colab_type": "code",
        "colab": {}
      },
      "source": [
        "# training hours for each level with in org\n",
        "df['avg_edu_training'] = df.groupby(['education_level','company_size', 'company_type'])['training_hours'].transform('mean')\n"
      ],
      "execution_count": 0,
      "outputs": []
    },
    {
      "cell_type": "code",
      "metadata": {
        "id": "nYiSiBGz_-0R",
        "colab_type": "code",
        "colab": {}
      },
      "source": [
        "# ratio of training hours spent on avg training hours spent for each edu level\n",
        "df['ratio_edu_training'] = df['training_hours'] / df['avg_edu_training']"
      ],
      "execution_count": 0,
      "outputs": []
    },
    {
      "cell_type": "code",
      "metadata": {
        "id": "dKVdfXKftD5d",
        "colab_type": "code",
        "colab": {}
      },
      "source": [
        "df['avg_re_edu_exp'] = df.groupby(['relevent_experience','education_level','company_size', 'company_type'])['experience'].transform('mean')"
      ],
      "execution_count": 0,
      "outputs": []
    },
    {
      "cell_type": "code",
      "metadata": {
        "id": "vI9x1dbStNXY",
        "colab_type": "code",
        "colab": {}
      },
      "source": [
        "df['avg_ct_edu_exp'] = df.groupby(['city','education_level','company_size', 'company_type'])['experience'].transform('mean')"
      ],
      "execution_count": 0,
      "outputs": []
    },
    {
      "cell_type": "code",
      "metadata": {
        "id": "Lb5cP7uitYHe",
        "colab_type": "code",
        "colab": {}
      },
      "source": [
        "df['avg_gender_ct_edu_exp'] = df.groupby(['gender','city','education_level','company_size', 'company_type'])['experience'].transform('mean')"
      ],
      "execution_count": 0,
      "outputs": []
    },
    {
      "cell_type": "code",
      "metadata": {
        "id": "7HawqG2xtd9p",
        "colab_type": "code",
        "colab": {}
      },
      "source": [
        "df['avg_gender_training'] = df.groupby(['gender','company_size', 'company_type'])['training_hours'].transform('mean')"
      ],
      "execution_count": 0,
      "outputs": []
    },
    {
      "cell_type": "code",
      "metadata": {
        "id": "HTr599BkzzUn",
        "colab_type": "code",
        "colab": {}
      },
      "source": [
        "new_train1 = df[df['is_train']==1].drop(['is_train'], axis=1)\n",
        "new_test1 = df[df['is_train']==0].drop(['is_train'], axis=1)"
      ],
      "execution_count": 0,
      "outputs": []
    },
    {
      "cell_type": "code",
      "metadata": {
        "id": "jhsOcnX7z6wC",
        "colab_type": "code",
        "outputId": "621fed97-f419-4fe1-e010-fe25502f4738",
        "colab": {
          "base_uri": "https://localhost:8080/",
          "height": 17
        }
      },
      "source": [
        "new_train2 = pd.get_dummies(data=new_train1, columns=['gender',\n",
        " 'enrolled_university',\n",
        " 'major_discipline',\n",
        " 'company_type',\n",
        " 'relevent_experience',\n",
        " 'education_level',\n",
        " 'company_size',\n",
        " 'last_new_job'])\n",
        "\n",
        "new_test2 = pd.get_dummies(data=new_test1, columns=['gender',\n",
        " 'enrolled_university',\n",
        " 'major_discipline',\n",
        " 'company_type',\n",
        " 'relevent_experience',\n",
        " 'education_level',\n",
        " 'company_size',\n",
        " 'last_new_job'])"
      ],
      "execution_count": 0,
      "outputs": [
        {
          "output_type": "display_data",
          "data": {
            "application/javascript": [
              "\n",
              "        if (window._pyforest_update_imports_cell) { window._pyforest_update_imports_cell('import numpy as np\\nfrom sklearn.model_selection import train_test_split\\nimport lightgbm as lgb\\nimport pandas as pd\\nimport xgboost as xgb'); }\n",
              "    "
            ],
            "text/plain": [
              "<IPython.core.display.Javascript object>"
            ]
          },
          "metadata": {
            "tags": []
          }
        },
        {
          "output_type": "display_data",
          "data": {
            "application/javascript": [
              "\n",
              "        if (window._pyforest_update_imports_cell) { window._pyforest_update_imports_cell('import numpy as np\\nfrom sklearn.model_selection import train_test_split\\nimport lightgbm as lgb\\nimport pandas as pd\\nimport xgboost as xgb'); }\n",
              "    "
            ],
            "text/plain": [
              "<IPython.core.display.Javascript object>"
            ]
          },
          "metadata": {
            "tags": []
          }
        }
      ]
    },
    {
      "cell_type": "code",
      "metadata": {
        "id": "7Wc4G_0fu1Y9",
        "colab_type": "code",
        "outputId": "0fb24704-6c93-45eb-8091-309127222191",
        "colab": {
          "base_uri": "https://localhost:8080/",
          "height": 17
        }
      },
      "source": [
        "x_train, x_val, y_train, y_val = split(new_train2)"
      ],
      "execution_count": 0,
      "outputs": [
        {
          "output_type": "display_data",
          "data": {
            "application/javascript": [
              "\n",
              "        if (window._pyforest_update_imports_cell) { window._pyforest_update_imports_cell('import numpy as np\\nfrom sklearn.model_selection import train_test_split\\nimport lightgbm as lgb\\nimport pandas as pd\\nimport xgboost as xgb'); }\n",
              "    "
            ],
            "text/plain": [
              "<IPython.core.display.Javascript object>"
            ]
          },
          "metadata": {
            "tags": []
          }
        }
      ]
    },
    {
      "cell_type": "code",
      "metadata": {
        "id": "PNl9ZqmtvEZV",
        "colab_type": "code",
        "outputId": "5de25d91-8bf1-422b-d959-14a3e04f25c6",
        "colab": {
          "base_uri": "https://localhost:8080/",
          "height": 1000
        }
      },
      "source": [
        "xg = xgb.XGBClassifier(random_state=0, scale_pos_weight=6)\n",
        "xg.fit(x_train, y_train, eval_set=[(x_val,y_val)], eval_metric='auc')"
      ],
      "execution_count": 0,
      "outputs": [
        {
          "output_type": "display_data",
          "data": {
            "application/javascript": [
              "\n",
              "        if (window._pyforest_update_imports_cell) { window._pyforest_update_imports_cell('import numpy as np\\nfrom sklearn.model_selection import train_test_split\\nimport lightgbm as lgb\\nimport pandas as pd\\nimport xgboost as xgb'); }\n",
              "    "
            ],
            "text/plain": [
              "<IPython.core.display.Javascript object>"
            ]
          },
          "metadata": {
            "tags": []
          }
        },
        {
          "output_type": "stream",
          "text": [
            "[0]\tvalidation_0-auc:0.620207\n",
            "[1]\tvalidation_0-auc:0.629101\n",
            "[2]\tvalidation_0-auc:0.631248\n",
            "[3]\tvalidation_0-auc:0.63992\n",
            "[4]\tvalidation_0-auc:0.63897\n",
            "[5]\tvalidation_0-auc:0.64143\n",
            "[6]\tvalidation_0-auc:0.643469\n",
            "[7]\tvalidation_0-auc:0.645693\n",
            "[8]\tvalidation_0-auc:0.64688\n",
            "[9]\tvalidation_0-auc:0.647982\n",
            "[10]\tvalidation_0-auc:0.649258\n",
            "[11]\tvalidation_0-auc:0.649774\n",
            "[12]\tvalidation_0-auc:0.649606\n",
            "[13]\tvalidation_0-auc:0.650114\n",
            "[14]\tvalidation_0-auc:0.651014\n",
            "[15]\tvalidation_0-auc:0.651397\n",
            "[16]\tvalidation_0-auc:0.650701\n",
            "[17]\tvalidation_0-auc:0.651252\n",
            "[18]\tvalidation_0-auc:0.650698\n",
            "[19]\tvalidation_0-auc:0.651024\n",
            "[20]\tvalidation_0-auc:0.650081\n",
            "[21]\tvalidation_0-auc:0.649691\n",
            "[22]\tvalidation_0-auc:0.649967\n",
            "[23]\tvalidation_0-auc:0.650386\n",
            "[24]\tvalidation_0-auc:0.649996\n",
            "[25]\tvalidation_0-auc:0.650927\n",
            "[26]\tvalidation_0-auc:0.650885\n",
            "[27]\tvalidation_0-auc:0.651587\n",
            "[28]\tvalidation_0-auc:0.651708\n",
            "[29]\tvalidation_0-auc:0.651882\n",
            "[30]\tvalidation_0-auc:0.651964\n",
            "[31]\tvalidation_0-auc:0.654008\n",
            "[32]\tvalidation_0-auc:0.654268\n",
            "[33]\tvalidation_0-auc:0.653864\n",
            "[34]\tvalidation_0-auc:0.654559\n",
            "[35]\tvalidation_0-auc:0.655103\n",
            "[36]\tvalidation_0-auc:0.654806\n",
            "[37]\tvalidation_0-auc:0.654894\n",
            "[38]\tvalidation_0-auc:0.654306\n",
            "[39]\tvalidation_0-auc:0.653895\n",
            "[40]\tvalidation_0-auc:0.654165\n",
            "[41]\tvalidation_0-auc:0.653086\n",
            "[42]\tvalidation_0-auc:0.65308\n",
            "[43]\tvalidation_0-auc:0.652443\n",
            "[44]\tvalidation_0-auc:0.652614\n",
            "[45]\tvalidation_0-auc:0.652373\n",
            "[46]\tvalidation_0-auc:0.652008\n",
            "[47]\tvalidation_0-auc:0.652417\n",
            "[48]\tvalidation_0-auc:0.651579\n",
            "[49]\tvalidation_0-auc:0.652091\n",
            "[50]\tvalidation_0-auc:0.651605\n",
            "[51]\tvalidation_0-auc:0.65239\n",
            "[52]\tvalidation_0-auc:0.65218\n",
            "[53]\tvalidation_0-auc:0.652318\n",
            "[54]\tvalidation_0-auc:0.652006\n",
            "[55]\tvalidation_0-auc:0.65176\n",
            "[56]\tvalidation_0-auc:0.651986\n",
            "[57]\tvalidation_0-auc:0.652101\n",
            "[58]\tvalidation_0-auc:0.652062\n",
            "[59]\tvalidation_0-auc:0.651759\n",
            "[60]\tvalidation_0-auc:0.65203\n",
            "[61]\tvalidation_0-auc:0.651991\n",
            "[62]\tvalidation_0-auc:0.652427\n",
            "[63]\tvalidation_0-auc:0.652292\n",
            "[64]\tvalidation_0-auc:0.652312\n",
            "[65]\tvalidation_0-auc:0.652577\n",
            "[66]\tvalidation_0-auc:0.651911\n",
            "[67]\tvalidation_0-auc:0.651455\n",
            "[68]\tvalidation_0-auc:0.651141\n",
            "[69]\tvalidation_0-auc:0.650688\n",
            "[70]\tvalidation_0-auc:0.650043\n",
            "[71]\tvalidation_0-auc:0.650148\n",
            "[72]\tvalidation_0-auc:0.65037\n",
            "[73]\tvalidation_0-auc:0.650839\n",
            "[74]\tvalidation_0-auc:0.65104\n",
            "[75]\tvalidation_0-auc:0.650717\n",
            "[76]\tvalidation_0-auc:0.650785\n",
            "[77]\tvalidation_0-auc:0.650789\n",
            "[78]\tvalidation_0-auc:0.65088\n",
            "[79]\tvalidation_0-auc:0.650848\n",
            "[80]\tvalidation_0-auc:0.650388\n",
            "[81]\tvalidation_0-auc:0.649768\n",
            "[82]\tvalidation_0-auc:0.64985\n",
            "[83]\tvalidation_0-auc:0.649673\n",
            "[84]\tvalidation_0-auc:0.649805\n",
            "[85]\tvalidation_0-auc:0.64994\n",
            "[86]\tvalidation_0-auc:0.649811\n",
            "[87]\tvalidation_0-auc:0.649438\n",
            "[88]\tvalidation_0-auc:0.649551\n",
            "[89]\tvalidation_0-auc:0.64927\n",
            "[90]\tvalidation_0-auc:0.649584\n",
            "[91]\tvalidation_0-auc:0.649246\n",
            "[92]\tvalidation_0-auc:0.648912\n",
            "[93]\tvalidation_0-auc:0.649048\n",
            "[94]\tvalidation_0-auc:0.649249\n",
            "[95]\tvalidation_0-auc:0.64874\n",
            "[96]\tvalidation_0-auc:0.649097\n",
            "[97]\tvalidation_0-auc:0.649054\n",
            "[98]\tvalidation_0-auc:0.649374\n",
            "[99]\tvalidation_0-auc:0.649096\n"
          ],
          "name": "stdout"
        },
        {
          "output_type": "execute_result",
          "data": {
            "text/plain": [
              "XGBClassifier(base_score=0.5, booster='gbtree', colsample_bylevel=1,\n",
              "              colsample_bynode=1, colsample_bytree=1, gamma=0,\n",
              "              learning_rate=0.1, max_delta_step=0, max_depth=3,\n",
              "              min_child_weight=1, missing=None, n_estimators=100, n_jobs=1,\n",
              "              nthread=None, objective='binary:logistic', random_state=0,\n",
              "              reg_alpha=0, reg_lambda=1, scale_pos_weight=6, seed=None,\n",
              "              silent=None, subsample=1, verbosity=1)"
            ]
          },
          "metadata": {
            "tags": []
          },
          "execution_count": 255
        }
      ]
    },
    {
      "cell_type": "code",
      "metadata": {
        "id": "Jp0hlfbmC3v-",
        "colab_type": "code",
        "outputId": "5c42f7e4-fca1-44c7-95d0-ca2f1052d0d2",
        "colab": {
          "base_uri": "https://localhost:8080/",
          "height": 403
        }
      },
      "source": [
        "evaluate_model(y_val, xg.predict(x_val))"
      ],
      "execution_count": 0,
      "outputs": [
        {
          "output_type": "stream",
          "text": [
            "CLASSIFICATION REPORT\n",
            "***************************\n",
            "              precision    recall  f1-score   support\n",
            "\n",
            "           0       0.90      0.73      0.81      3187\n",
            "           1       0.22      0.49      0.30       485\n",
            "\n",
            "    accuracy                           0.70      3672\n",
            "   macro avg       0.56      0.61      0.56      3672\n",
            "weighted avg       0.81      0.70      0.74      3672\n",
            "\n",
            "CONFUSION MATRIX\n",
            "****************************\n"
          ],
          "name": "stdout"
        },
        {
          "output_type": "display_data",
          "data": {
            "application/javascript": [
              "\n",
              "        if (window._pyforest_update_imports_cell) { window._pyforest_update_imports_cell('import numpy as np\\nfrom sklearn.model_selection import train_test_split\\nimport lightgbm as lgb\\nimport pandas as pd\\nimport xgboost as xgb'); }\n",
              "    "
            ],
            "text/plain": [
              "<IPython.core.display.Javascript object>"
            ]
          },
          "metadata": {
            "tags": []
          }
        },
        {
          "output_type": "stream",
          "text": [
            "True          0    1\n",
            "Predicted           \n",
            "0          2338  247\n",
            "1           849  238\n",
            "MATHEW CORRELATION COEFF\n",
            "***************************\n",
            "0.16637890072400727\n",
            "ROC_AUC\n",
            "***************************\n",
            "0.61216346044983\n"
          ],
          "name": "stdout"
        }
      ]
    },
    {
      "cell_type": "code",
      "metadata": {
        "id": "cZgbtGT7vuH2",
        "colab_type": "code",
        "outputId": "de57395a-1224-4e1c-8adf-664886118159",
        "colab": {
          "base_uri": "https://localhost:8080/",
          "height": 17
        }
      },
      "source": [
        "feat = pd.DataFrame({'feature':x_train.columns,'importance':xg.feature_importances_}).sort_values(by=['importance'], ascending=False)"
      ],
      "execution_count": 0,
      "outputs": [
        {
          "output_type": "display_data",
          "data": {
            "application/javascript": [
              "\n",
              "        if (window._pyforest_update_imports_cell) { window._pyforest_update_imports_cell('import numpy as np\\nfrom sklearn.model_selection import train_test_split\\nimport lightgbm as lgb\\nimport pandas as pd\\nimport xgboost as xgb'); }\n",
              "    "
            ],
            "text/plain": [
              "<IPython.core.display.Javascript object>"
            ]
          },
          "metadata": {
            "tags": []
          }
        }
      ]
    },
    {
      "cell_type": "code",
      "metadata": {
        "id": "ZXwLOF7gyMe0",
        "colab_type": "code",
        "outputId": "6e43ac42-2a38-4dd0-e675-0f326b10b63e",
        "colab": {
          "base_uri": "https://localhost:8080/",
          "height": 1000
        }
      },
      "source": [
        "feat"
      ],
      "execution_count": 0,
      "outputs": [
        {
          "output_type": "execute_result",
          "data": {
            "text/html": [
              "<div>\n",
              "<style scoped>\n",
              "    .dataframe tbody tr th:only-of-type {\n",
              "        vertical-align: middle;\n",
              "    }\n",
              "\n",
              "    .dataframe tbody tr th {\n",
              "        vertical-align: top;\n",
              "    }\n",
              "\n",
              "    .dataframe thead th {\n",
              "        text-align: right;\n",
              "    }\n",
              "</style>\n",
              "<table border=\"1\" class=\"dataframe\">\n",
              "  <thead>\n",
              "    <tr style=\"text-align: right;\">\n",
              "      <th></th>\n",
              "      <th>feature</th>\n",
              "      <th>importance</th>\n",
              "    </tr>\n",
              "  </thead>\n",
              "  <tbody>\n",
              "    <tr>\n",
              "      <th>5</th>\n",
              "      <td>city_prob</td>\n",
              "      <td>0.107930</td>\n",
              "    </tr>\n",
              "    <tr>\n",
              "      <th>45</th>\n",
              "      <td>company_type_4.0</td>\n",
              "      <td>0.082956</td>\n",
              "    </tr>\n",
              "    <tr>\n",
              "      <th>47</th>\n",
              "      <td>relevent_experience_0.0</td>\n",
              "      <td>0.064500</td>\n",
              "    </tr>\n",
              "    <tr>\n",
              "      <th>4</th>\n",
              "      <td>comp_size_mean</td>\n",
              "      <td>0.057489</td>\n",
              "    </tr>\n",
              "    <tr>\n",
              "      <th>34</th>\n",
              "      <td>enrolled_university_4.0</td>\n",
              "      <td>0.042970</td>\n",
              "    </tr>\n",
              "    <tr>\n",
              "      <th>63</th>\n",
              "      <td>last_new_job_1.0</td>\n",
              "      <td>0.031396</td>\n",
              "    </tr>\n",
              "    <tr>\n",
              "      <th>24</th>\n",
              "      <td>avg_ct_edu_exp</td>\n",
              "      <td>0.030252</td>\n",
              "    </tr>\n",
              "    <tr>\n",
              "      <th>7</th>\n",
              "      <td>edu_prob</td>\n",
              "      <td>0.029240</td>\n",
              "    </tr>\n",
              "    <tr>\n",
              "      <th>12</th>\n",
              "      <td>branches</td>\n",
              "      <td>0.026258</td>\n",
              "    </tr>\n",
              "    <tr>\n",
              "      <th>16</th>\n",
              "      <td>ratio_on_avg_exp</td>\n",
              "      <td>0.026067</td>\n",
              "    </tr>\n",
              "    <tr>\n",
              "      <th>23</th>\n",
              "      <td>avg_re_edu_exp</td>\n",
              "      <td>0.024426</td>\n",
              "    </tr>\n",
              "    <tr>\n",
              "      <th>28</th>\n",
              "      <td>gender_1.0</td>\n",
              "      <td>0.024288</td>\n",
              "    </tr>\n",
              "    <tr>\n",
              "      <th>18</th>\n",
              "      <td>ratio_on_gender_exp</td>\n",
              "      <td>0.024237</td>\n",
              "    </tr>\n",
              "    <tr>\n",
              "      <th>11</th>\n",
              "      <td>agg_rank</td>\n",
              "      <td>0.023069</td>\n",
              "    </tr>\n",
              "    <tr>\n",
              "      <th>6</th>\n",
              "      <td>exp_prob</td>\n",
              "      <td>0.020673</td>\n",
              "    </tr>\n",
              "    <tr>\n",
              "      <th>21</th>\n",
              "      <td>avg_edu_training</td>\n",
              "      <td>0.020320</td>\n",
              "    </tr>\n",
              "    <tr>\n",
              "      <th>64</th>\n",
              "      <td>last_new_job_2.0</td>\n",
              "      <td>0.020254</td>\n",
              "    </tr>\n",
              "    <tr>\n",
              "      <th>14</th>\n",
              "      <td>ratio_count</td>\n",
              "      <td>0.019990</td>\n",
              "    </tr>\n",
              "    <tr>\n",
              "      <th>44</th>\n",
              "      <td>company_type_3.0</td>\n",
              "      <td>0.019151</td>\n",
              "    </tr>\n",
              "    <tr>\n",
              "      <th>15</th>\n",
              "      <td>avg_experience_job</td>\n",
              "      <td>0.018976</td>\n",
              "    </tr>\n",
              "    <tr>\n",
              "      <th>25</th>\n",
              "      <td>avg_gender_ct_edu_exp</td>\n",
              "      <td>0.018532</td>\n",
              "    </tr>\n",
              "    <tr>\n",
              "      <th>19</th>\n",
              "      <td>avg_ct_training</td>\n",
              "      <td>0.018355</td>\n",
              "    </tr>\n",
              "    <tr>\n",
              "      <th>22</th>\n",
              "      <td>ratio_edu_training</td>\n",
              "      <td>0.017507</td>\n",
              "    </tr>\n",
              "    <tr>\n",
              "      <th>62</th>\n",
              "      <td>last_new_job_0.0</td>\n",
              "      <td>0.017311</td>\n",
              "    </tr>\n",
              "    <tr>\n",
              "      <th>56</th>\n",
              "      <td>company_size_2.0</td>\n",
              "      <td>0.016707</td>\n",
              "    </tr>\n",
              "    <tr>\n",
              "      <th>1</th>\n",
              "      <td>city_development_index</td>\n",
              "      <td>0.016531</td>\n",
              "    </tr>\n",
              "    <tr>\n",
              "      <th>8</th>\n",
              "      <td>avg_comp_training</td>\n",
              "      <td>0.015910</td>\n",
              "    </tr>\n",
              "    <tr>\n",
              "      <th>58</th>\n",
              "      <td>company_size_4.0</td>\n",
              "      <td>0.014580</td>\n",
              "    </tr>\n",
              "    <tr>\n",
              "      <th>17</th>\n",
              "      <td>avg_gender_exp</td>\n",
              "      <td>0.014144</td>\n",
              "    </tr>\n",
              "    <tr>\n",
              "      <th>0</th>\n",
              "      <td>city</td>\n",
              "      <td>0.013816</td>\n",
              "    </tr>\n",
              "    <tr>\n",
              "      <th>3</th>\n",
              "      <td>training_hours</td>\n",
              "      <td>0.013796</td>\n",
              "    </tr>\n",
              "    <tr>\n",
              "      <th>10</th>\n",
              "      <td>rank</td>\n",
              "      <td>0.013612</td>\n",
              "    </tr>\n",
              "    <tr>\n",
              "      <th>20</th>\n",
              "      <td>ratio_on_ct_training</td>\n",
              "      <td>0.013235</td>\n",
              "    </tr>\n",
              "    <tr>\n",
              "      <th>9</th>\n",
              "      <td>ratio_training</td>\n",
              "      <td>0.013169</td>\n",
              "    </tr>\n",
              "    <tr>\n",
              "      <th>42</th>\n",
              "      <td>company_type_1.0</td>\n",
              "      <td>0.012218</td>\n",
              "    </tr>\n",
              "    <tr>\n",
              "      <th>26</th>\n",
              "      <td>avg_gender_training</td>\n",
              "      <td>0.012214</td>\n",
              "    </tr>\n",
              "    <tr>\n",
              "      <th>40</th>\n",
              "      <td>major_discipline_5.0</td>\n",
              "      <td>0.011276</td>\n",
              "    </tr>\n",
              "    <tr>\n",
              "      <th>38</th>\n",
              "      <td>major_discipline_3.0</td>\n",
              "      <td>0.010197</td>\n",
              "    </tr>\n",
              "    <tr>\n",
              "      <th>66</th>\n",
              "      <td>last_new_job_4.0</td>\n",
              "      <td>0.010155</td>\n",
              "    </tr>\n",
              "    <tr>\n",
              "      <th>27</th>\n",
              "      <td>gender_0.0</td>\n",
              "      <td>0.007951</td>\n",
              "    </tr>\n",
              "    <tr>\n",
              "      <th>30</th>\n",
              "      <td>enrolled_university_0.0</td>\n",
              "      <td>0.002847</td>\n",
              "    </tr>\n",
              "    <tr>\n",
              "      <th>39</th>\n",
              "      <td>major_discipline_4.0</td>\n",
              "      <td>0.001495</td>\n",
              "    </tr>\n",
              "    <tr>\n",
              "      <th>55</th>\n",
              "      <td>company_size_1.0</td>\n",
              "      <td>0.000000</td>\n",
              "    </tr>\n",
              "    <tr>\n",
              "      <th>13</th>\n",
              "      <td>countofpeople</td>\n",
              "      <td>0.000000</td>\n",
              "    </tr>\n",
              "    <tr>\n",
              "      <th>57</th>\n",
              "      <td>company_size_3.0</td>\n",
              "      <td>0.000000</td>\n",
              "    </tr>\n",
              "    <tr>\n",
              "      <th>60</th>\n",
              "      <td>company_size_6.0</td>\n",
              "      <td>0.000000</td>\n",
              "    </tr>\n",
              "    <tr>\n",
              "      <th>59</th>\n",
              "      <td>company_size_5.0</td>\n",
              "      <td>0.000000</td>\n",
              "    </tr>\n",
              "    <tr>\n",
              "      <th>53</th>\n",
              "      <td>education_level_4.0</td>\n",
              "      <td>0.000000</td>\n",
              "    </tr>\n",
              "    <tr>\n",
              "      <th>61</th>\n",
              "      <td>company_size_7.0</td>\n",
              "      <td>0.000000</td>\n",
              "    </tr>\n",
              "    <tr>\n",
              "      <th>2</th>\n",
              "      <td>experience</td>\n",
              "      <td>0.000000</td>\n",
              "    </tr>\n",
              "    <tr>\n",
              "      <th>65</th>\n",
              "      <td>last_new_job_3.0</td>\n",
              "      <td>0.000000</td>\n",
              "    </tr>\n",
              "    <tr>\n",
              "      <th>54</th>\n",
              "      <td>company_size_0.0</td>\n",
              "      <td>0.000000</td>\n",
              "    </tr>\n",
              "    <tr>\n",
              "      <th>49</th>\n",
              "      <td>education_level_0.0</td>\n",
              "      <td>0.000000</td>\n",
              "    </tr>\n",
              "    <tr>\n",
              "      <th>52</th>\n",
              "      <td>education_level_3.0</td>\n",
              "      <td>0.000000</td>\n",
              "    </tr>\n",
              "    <tr>\n",
              "      <th>51</th>\n",
              "      <td>education_level_2.0</td>\n",
              "      <td>0.000000</td>\n",
              "    </tr>\n",
              "    <tr>\n",
              "      <th>50</th>\n",
              "      <td>education_level_1.0</td>\n",
              "      <td>0.000000</td>\n",
              "    </tr>\n",
              "    <tr>\n",
              "      <th>31</th>\n",
              "      <td>enrolled_university_1.0</td>\n",
              "      <td>0.000000</td>\n",
              "    </tr>\n",
              "    <tr>\n",
              "      <th>48</th>\n",
              "      <td>relevent_experience_1.0</td>\n",
              "      <td>0.000000</td>\n",
              "    </tr>\n",
              "    <tr>\n",
              "      <th>46</th>\n",
              "      <td>company_type_5.0</td>\n",
              "      <td>0.000000</td>\n",
              "    </tr>\n",
              "    <tr>\n",
              "      <th>43</th>\n",
              "      <td>company_type_2.0</td>\n",
              "      <td>0.000000</td>\n",
              "    </tr>\n",
              "    <tr>\n",
              "      <th>41</th>\n",
              "      <td>company_type_0.0</td>\n",
              "      <td>0.000000</td>\n",
              "    </tr>\n",
              "    <tr>\n",
              "      <th>37</th>\n",
              "      <td>major_discipline_2.0</td>\n",
              "      <td>0.000000</td>\n",
              "    </tr>\n",
              "    <tr>\n",
              "      <th>36</th>\n",
              "      <td>major_discipline_1.0</td>\n",
              "      <td>0.000000</td>\n",
              "    </tr>\n",
              "    <tr>\n",
              "      <th>35</th>\n",
              "      <td>major_discipline_0.0</td>\n",
              "      <td>0.000000</td>\n",
              "    </tr>\n",
              "    <tr>\n",
              "      <th>29</th>\n",
              "      <td>gender_2.0</td>\n",
              "      <td>0.000000</td>\n",
              "    </tr>\n",
              "    <tr>\n",
              "      <th>33</th>\n",
              "      <td>enrolled_university_3.0</td>\n",
              "      <td>0.000000</td>\n",
              "    </tr>\n",
              "    <tr>\n",
              "      <th>32</th>\n",
              "      <td>enrolled_university_2.0</td>\n",
              "      <td>0.000000</td>\n",
              "    </tr>\n",
              "    <tr>\n",
              "      <th>67</th>\n",
              "      <td>last_new_job_5.0</td>\n",
              "      <td>0.000000</td>\n",
              "    </tr>\n",
              "  </tbody>\n",
              "</table>\n",
              "</div>"
            ],
            "text/plain": [
              "                    feature  importance\n",
              "5                 city_prob    0.107930\n",
              "45         company_type_4.0    0.082956\n",
              "47  relevent_experience_0.0    0.064500\n",
              "4            comp_size_mean    0.057489\n",
              "34  enrolled_university_4.0    0.042970\n",
              "63         last_new_job_1.0    0.031396\n",
              "24           avg_ct_edu_exp    0.030252\n",
              "7                  edu_prob    0.029240\n",
              "12                 branches    0.026258\n",
              "16         ratio_on_avg_exp    0.026067\n",
              "23           avg_re_edu_exp    0.024426\n",
              "28               gender_1.0    0.024288\n",
              "18      ratio_on_gender_exp    0.024237\n",
              "11                 agg_rank    0.023069\n",
              "6                  exp_prob    0.020673\n",
              "21         avg_edu_training    0.020320\n",
              "64         last_new_job_2.0    0.020254\n",
              "14              ratio_count    0.019990\n",
              "44         company_type_3.0    0.019151\n",
              "15       avg_experience_job    0.018976\n",
              "25    avg_gender_ct_edu_exp    0.018532\n",
              "19          avg_ct_training    0.018355\n",
              "22       ratio_edu_training    0.017507\n",
              "62         last_new_job_0.0    0.017311\n",
              "56         company_size_2.0    0.016707\n",
              "1    city_development_index    0.016531\n",
              "8         avg_comp_training    0.015910\n",
              "58         company_size_4.0    0.014580\n",
              "17           avg_gender_exp    0.014144\n",
              "0                      city    0.013816\n",
              "3            training_hours    0.013796\n",
              "10                     rank    0.013612\n",
              "20     ratio_on_ct_training    0.013235\n",
              "9            ratio_training    0.013169\n",
              "42         company_type_1.0    0.012218\n",
              "26      avg_gender_training    0.012214\n",
              "40     major_discipline_5.0    0.011276\n",
              "38     major_discipline_3.0    0.010197\n",
              "66         last_new_job_4.0    0.010155\n",
              "27               gender_0.0    0.007951\n",
              "30  enrolled_university_0.0    0.002847\n",
              "39     major_discipline_4.0    0.001495\n",
              "55         company_size_1.0    0.000000\n",
              "13            countofpeople    0.000000\n",
              "57         company_size_3.0    0.000000\n",
              "60         company_size_6.0    0.000000\n",
              "59         company_size_5.0    0.000000\n",
              "53      education_level_4.0    0.000000\n",
              "61         company_size_7.0    0.000000\n",
              "2                experience    0.000000\n",
              "65         last_new_job_3.0    0.000000\n",
              "54         company_size_0.0    0.000000\n",
              "49      education_level_0.0    0.000000\n",
              "52      education_level_3.0    0.000000\n",
              "51      education_level_2.0    0.000000\n",
              "50      education_level_1.0    0.000000\n",
              "31  enrolled_university_1.0    0.000000\n",
              "48  relevent_experience_1.0    0.000000\n",
              "46         company_type_5.0    0.000000\n",
              "43         company_type_2.0    0.000000\n",
              "41         company_type_0.0    0.000000\n",
              "37     major_discipline_2.0    0.000000\n",
              "36     major_discipline_1.0    0.000000\n",
              "35     major_discipline_0.0    0.000000\n",
              "29               gender_2.0    0.000000\n",
              "33  enrolled_university_3.0    0.000000\n",
              "32  enrolled_university_2.0    0.000000\n",
              "67         last_new_job_5.0    0.000000"
            ]
          },
          "metadata": {
            "tags": []
          },
          "execution_count": 258
        }
      ]
    },
    {
      "cell_type": "code",
      "metadata": {
        "id": "edyZxZB2wNt9",
        "colab_type": "code",
        "colab": {}
      },
      "source": [
        "y_pred = rf.predict(x_val)"
      ],
      "execution_count": 0,
      "outputs": []
    },
    {
      "cell_type": "code",
      "metadata": {
        "id": "wEXsKvntwhCi",
        "colab_type": "code",
        "outputId": "596619bf-4fcb-48ae-ec31-2d26ca6544fb",
        "colab": {
          "base_uri": "https://localhost:8080/",
          "height": 403
        }
      },
      "source": [
        "evaluate_model(y_val, y_pred)"
      ],
      "execution_count": 0,
      "outputs": [
        {
          "output_type": "stream",
          "text": [
            "CLASSIFICATION REPORT\n",
            "***************************\n",
            "              precision    recall  f1-score   support\n",
            "\n",
            "           0       0.87      0.99      0.93      3187\n",
            "           1       0.32      0.03      0.05       485\n",
            "\n",
            "    accuracy                           0.86      3672\n",
            "   macro avg       0.59      0.51      0.49      3672\n",
            "weighted avg       0.80      0.86      0.81      3672\n",
            "\n",
            "CONFUSION MATRIX\n",
            "****************************\n"
          ],
          "name": "stdout"
        },
        {
          "output_type": "display_data",
          "data": {
            "application/javascript": [
              "\n",
              "        if (window._pyforest_update_imports_cell) { window._pyforest_update_imports_cell('from sklearn.model_selection import train_test_split\\nimport numpy as np\\nimport pandas as pd'); }\n",
              "    "
            ],
            "text/plain": [
              "<IPython.core.display.Javascript object>"
            ]
          },
          "metadata": {
            "tags": []
          }
        },
        {
          "output_type": "stream",
          "text": [
            "True          0    1\n",
            "Predicted           \n",
            "0          3157  471\n",
            "1            30   14\n",
            "MATHEW CORRELATION COEFF\n",
            "***************************\n",
            "0.060531671021620485\n",
            "ROC_AUC\n",
            "***************************\n",
            "0.5097263690443458\n"
          ],
          "name": "stdout"
        }
      ]
    },
    {
      "cell_type": "code",
      "metadata": {
        "id": "8VPLKvkm0ctt",
        "colab_type": "code",
        "outputId": "82511189-05fe-4fbd-ff96-f636a20f33fc",
        "colab": {
          "base_uri": "https://localhost:8080/",
          "height": 17
        }
      },
      "source": [
        "x_train, x_val, y_train, y_val = split(new_train1)"
      ],
      "execution_count": 0,
      "outputs": [
        {
          "output_type": "display_data",
          "data": {
            "application/javascript": [
              "\n",
              "        if (window._pyforest_update_imports_cell) { window._pyforest_update_imports_cell('from sklearn.model_selection import train_test_split\\nimport numpy as np\\nimport pandas as pd'); }\n",
              "    "
            ],
            "text/plain": [
              "<IPython.core.display.Javascript object>"
            ]
          },
          "metadata": {
            "tags": []
          }
        }
      ]
    },
    {
      "cell_type": "code",
      "metadata": {
        "id": "wrC80dWPwvh8",
        "colab_type": "code",
        "colab": {}
      },
      "source": [
        "import lightgbm as lgb\n",
        "\n",
        "model_lgbm  = lgb.LGBMClassifier(class_weight='balanced',objective='binary')"
      ],
      "execution_count": 0,
      "outputs": []
    },
    {
      "cell_type": "code",
      "metadata": {
        "id": "q5U4PeZaxQ9o",
        "colab_type": "code",
        "colab": {}
      },
      "source": [
        "CAT = CATEGORICAL_COL+ORDINAL"
      ],
      "execution_count": 0,
      "outputs": []
    },
    {
      "cell_type": "code",
      "metadata": {
        "id": "-_xkzWIfxImR",
        "colab_type": "code",
        "outputId": "b265b13c-58cb-4639-cf0b-cc508bf4e268",
        "colab": {
          "base_uri": "https://localhost:8080/",
          "height": 1000
        }
      },
      "source": [
        "model_lgbm.fit(x_train, y_train, eval_set=(x_val,y_val), eval_metric='auc')"
      ],
      "execution_count": 0,
      "outputs": [
        {
          "output_type": "stream",
          "text": [
            "[1]\tvalid_0's auc: 0.628668\tvalid_0's binary_logloss: 0.683759\n",
            "[2]\tvalid_0's auc: 0.632946\tvalid_0's binary_logloss: 0.675783\n",
            "[3]\tvalid_0's auc: 0.638379\tvalid_0's binary_logloss: 0.668985\n",
            "[4]\tvalid_0's auc: 0.638958\tvalid_0's binary_logloss: 0.663646\n",
            "[5]\tvalid_0's auc: 0.645767\tvalid_0's binary_logloss: 0.658142\n",
            "[6]\tvalid_0's auc: 0.644171\tvalid_0's binary_logloss: 0.653539\n",
            "[7]\tvalid_0's auc: 0.642648\tvalid_0's binary_logloss: 0.650306\n",
            "[8]\tvalid_0's auc: 0.646148\tvalid_0's binary_logloss: 0.64628\n",
            "[9]\tvalid_0's auc: 0.645468\tvalid_0's binary_logloss: 0.643405\n",
            "[10]\tvalid_0's auc: 0.644962\tvalid_0's binary_logloss: 0.640608\n",
            "[11]\tvalid_0's auc: 0.645294\tvalid_0's binary_logloss: 0.638826\n",
            "[12]\tvalid_0's auc: 0.645787\tvalid_0's binary_logloss: 0.636752\n",
            "[13]\tvalid_0's auc: 0.646028\tvalid_0's binary_logloss: 0.635137\n",
            "[14]\tvalid_0's auc: 0.645441\tvalid_0's binary_logloss: 0.634269\n",
            "[15]\tvalid_0's auc: 0.645603\tvalid_0's binary_logloss: 0.632462\n",
            "[16]\tvalid_0's auc: 0.644498\tvalid_0's binary_logloss: 0.631405\n",
            "[17]\tvalid_0's auc: 0.644208\tvalid_0's binary_logloss: 0.629907\n",
            "[18]\tvalid_0's auc: 0.644348\tvalid_0's binary_logloss: 0.628527\n",
            "[19]\tvalid_0's auc: 0.645036\tvalid_0's binary_logloss: 0.626548\n",
            "[20]\tvalid_0's auc: 0.645297\tvalid_0's binary_logloss: 0.625358\n",
            "[21]\tvalid_0's auc: 0.644562\tvalid_0's binary_logloss: 0.624549\n",
            "[22]\tvalid_0's auc: 0.645377\tvalid_0's binary_logloss: 0.62345\n",
            "[23]\tvalid_0's auc: 0.644459\tvalid_0's binary_logloss: 0.622428\n",
            "[24]\tvalid_0's auc: 0.645448\tvalid_0's binary_logloss: 0.621376\n",
            "[25]\tvalid_0's auc: 0.647288\tvalid_0's binary_logloss: 0.619799\n",
            "[26]\tvalid_0's auc: 0.646234\tvalid_0's binary_logloss: 0.618768\n",
            "[27]\tvalid_0's auc: 0.644756\tvalid_0's binary_logloss: 0.617855\n",
            "[28]\tvalid_0's auc: 0.645447\tvalid_0's binary_logloss: 0.61685\n",
            "[29]\tvalid_0's auc: 0.646269\tvalid_0's binary_logloss: 0.615985\n",
            "[30]\tvalid_0's auc: 0.645852\tvalid_0's binary_logloss: 0.615222\n",
            "[31]\tvalid_0's auc: 0.644184\tvalid_0's binary_logloss: 0.614938\n",
            "[32]\tvalid_0's auc: 0.643339\tvalid_0's binary_logloss: 0.614113\n",
            "[33]\tvalid_0's auc: 0.644837\tvalid_0's binary_logloss: 0.612993\n",
            "[34]\tvalid_0's auc: 0.644055\tvalid_0's binary_logloss: 0.612235\n",
            "[35]\tvalid_0's auc: 0.643742\tvalid_0's binary_logloss: 0.611457\n",
            "[36]\tvalid_0's auc: 0.643894\tvalid_0's binary_logloss: 0.61068\n",
            "[37]\tvalid_0's auc: 0.643375\tvalid_0's binary_logloss: 0.609707\n",
            "[38]\tvalid_0's auc: 0.642349\tvalid_0's binary_logloss: 0.609097\n",
            "[39]\tvalid_0's auc: 0.642118\tvalid_0's binary_logloss: 0.608561\n",
            "[40]\tvalid_0's auc: 0.642115\tvalid_0's binary_logloss: 0.607854\n",
            "[41]\tvalid_0's auc: 0.642691\tvalid_0's binary_logloss: 0.60709\n",
            "[42]\tvalid_0's auc: 0.643249\tvalid_0's binary_logloss: 0.606145\n",
            "[43]\tvalid_0's auc: 0.643083\tvalid_0's binary_logloss: 0.605238\n",
            "[44]\tvalid_0's auc: 0.642403\tvalid_0's binary_logloss: 0.604854\n",
            "[45]\tvalid_0's auc: 0.643268\tvalid_0's binary_logloss: 0.603697\n",
            "[46]\tvalid_0's auc: 0.643065\tvalid_0's binary_logloss: 0.602982\n",
            "[47]\tvalid_0's auc: 0.642453\tvalid_0's binary_logloss: 0.602426\n",
            "[48]\tvalid_0's auc: 0.641641\tvalid_0's binary_logloss: 0.601772\n",
            "[49]\tvalid_0's auc: 0.641358\tvalid_0's binary_logloss: 0.601028\n",
            "[50]\tvalid_0's auc: 0.641424\tvalid_0's binary_logloss: 0.600654\n",
            "[51]\tvalid_0's auc: 0.64055\tvalid_0's binary_logloss: 0.599874\n",
            "[52]\tvalid_0's auc: 0.641726\tvalid_0's binary_logloss: 0.59875\n",
            "[53]\tvalid_0's auc: 0.641835\tvalid_0's binary_logloss: 0.597861\n",
            "[54]\tvalid_0's auc: 0.641786\tvalid_0's binary_logloss: 0.596887\n",
            "[55]\tvalid_0's auc: 0.642248\tvalid_0's binary_logloss: 0.595974\n",
            "[56]\tvalid_0's auc: 0.643079\tvalid_0's binary_logloss: 0.5948\n",
            "[57]\tvalid_0's auc: 0.642788\tvalid_0's binary_logloss: 0.594453\n",
            "[58]\tvalid_0's auc: 0.64152\tvalid_0's binary_logloss: 0.593986\n",
            "[59]\tvalid_0's auc: 0.641652\tvalid_0's binary_logloss: 0.593527\n",
            "[60]\tvalid_0's auc: 0.64059\tvalid_0's binary_logloss: 0.593181\n",
            "[61]\tvalid_0's auc: 0.641181\tvalid_0's binary_logloss: 0.591687\n",
            "[62]\tvalid_0's auc: 0.640666\tvalid_0's binary_logloss: 0.591144\n",
            "[63]\tvalid_0's auc: 0.640985\tvalid_0's binary_logloss: 0.590466\n",
            "[64]\tvalid_0's auc: 0.641621\tvalid_0's binary_logloss: 0.589508\n",
            "[65]\tvalid_0's auc: 0.640918\tvalid_0's binary_logloss: 0.589162\n",
            "[66]\tvalid_0's auc: 0.640076\tvalid_0's binary_logloss: 0.588832\n",
            "[67]\tvalid_0's auc: 0.640026\tvalid_0's binary_logloss: 0.588127\n",
            "[68]\tvalid_0's auc: 0.638885\tvalid_0's binary_logloss: 0.58789\n",
            "[69]\tvalid_0's auc: 0.637324\tvalid_0's binary_logloss: 0.587739\n",
            "[70]\tvalid_0's auc: 0.637053\tvalid_0's binary_logloss: 0.587058\n",
            "[71]\tvalid_0's auc: 0.636658\tvalid_0's binary_logloss: 0.586566\n",
            "[72]\tvalid_0's auc: 0.636865\tvalid_0's binary_logloss: 0.58597\n",
            "[73]\tvalid_0's auc: 0.636845\tvalid_0's binary_logloss: 0.584984\n",
            "[74]\tvalid_0's auc: 0.637533\tvalid_0's binary_logloss: 0.583685\n",
            "[75]\tvalid_0's auc: 0.637125\tvalid_0's binary_logloss: 0.583433\n",
            "[76]\tvalid_0's auc: 0.63714\tvalid_0's binary_logloss: 0.582759\n",
            "[77]\tvalid_0's auc: 0.637125\tvalid_0's binary_logloss: 0.582247\n",
            "[78]\tvalid_0's auc: 0.636765\tvalid_0's binary_logloss: 0.581849\n",
            "[79]\tvalid_0's auc: 0.637062\tvalid_0's binary_logloss: 0.581127\n",
            "[80]\tvalid_0's auc: 0.636793\tvalid_0's binary_logloss: 0.580571\n",
            "[81]\tvalid_0's auc: 0.637257\tvalid_0's binary_logloss: 0.579979\n",
            "[82]\tvalid_0's auc: 0.637106\tvalid_0's binary_logloss: 0.579152\n",
            "[83]\tvalid_0's auc: 0.63746\tvalid_0's binary_logloss: 0.577958\n",
            "[84]\tvalid_0's auc: 0.63702\tvalid_0's binary_logloss: 0.577382\n",
            "[85]\tvalid_0's auc: 0.636367\tvalid_0's binary_logloss: 0.576882\n",
            "[86]\tvalid_0's auc: 0.636605\tvalid_0's binary_logloss: 0.576187\n",
            "[87]\tvalid_0's auc: 0.636136\tvalid_0's binary_logloss: 0.575757\n",
            "[88]\tvalid_0's auc: 0.635973\tvalid_0's binary_logloss: 0.575116\n",
            "[89]\tvalid_0's auc: 0.635272\tvalid_0's binary_logloss: 0.574628\n",
            "[90]\tvalid_0's auc: 0.635269\tvalid_0's binary_logloss: 0.574045\n",
            "[91]\tvalid_0's auc: 0.635276\tvalid_0's binary_logloss: 0.573717\n",
            "[92]\tvalid_0's auc: 0.63494\tvalid_0's binary_logloss: 0.573166\n",
            "[93]\tvalid_0's auc: 0.634236\tvalid_0's binary_logloss: 0.572818\n",
            "[94]\tvalid_0's auc: 0.63457\tvalid_0's binary_logloss: 0.572184\n",
            "[95]\tvalid_0's auc: 0.633732\tvalid_0's binary_logloss: 0.571801\n",
            "[96]\tvalid_0's auc: 0.633447\tvalid_0's binary_logloss: 0.571222\n",
            "[97]\tvalid_0's auc: 0.634114\tvalid_0's binary_logloss: 0.570364\n",
            "[98]\tvalid_0's auc: 0.634394\tvalid_0's binary_logloss: 0.569808\n",
            "[99]\tvalid_0's auc: 0.633909\tvalid_0's binary_logloss: 0.569288\n",
            "[100]\tvalid_0's auc: 0.633389\tvalid_0's binary_logloss: 0.568798\n"
          ],
          "name": "stdout"
        },
        {
          "output_type": "execute_result",
          "data": {
            "text/plain": [
              "LGBMClassifier(boosting_type='gbdt', class_weight='balanced',\n",
              "               colsample_bytree=1.0, importance_type='split', learning_rate=0.1,\n",
              "               max_depth=-1, min_child_samples=20, min_child_weight=0.001,\n",
              "               min_split_gain=0.0, n_estimators=100, n_jobs=-1, num_leaves=31,\n",
              "               objective='binary', random_state=None, reg_alpha=0.0,\n",
              "               reg_lambda=0.0, silent=True, subsample=1.0,\n",
              "               subsample_for_bin=200000, subsample_freq=0)"
            ]
          },
          "metadata": {
            "tags": []
          },
          "execution_count": 262
        }
      ]
    },
    {
      "cell_type": "code",
      "metadata": {
        "id": "l5X-oJrpxMsH",
        "colab_type": "code",
        "outputId": "128821c8-884d-4ccd-e237-ebb5f0c76121",
        "colab": {
          "base_uri": "https://localhost:8080/",
          "height": 403
        }
      },
      "source": [
        "evaluate_model(y_val, model_lgbm.predict(x_val))"
      ],
      "execution_count": 0,
      "outputs": [
        {
          "output_type": "stream",
          "text": [
            "CLASSIFICATION REPORT\n",
            "***************************\n",
            "              precision    recall  f1-score   support\n",
            "\n",
            "           0       0.90      0.76      0.82      3187\n",
            "           1       0.22      0.46      0.30       485\n",
            "\n",
            "    accuracy                           0.72      3672\n",
            "   macro avg       0.56      0.61      0.56      3672\n",
            "weighted avg       0.81      0.72      0.75      3672\n",
            "\n",
            "CONFUSION MATRIX\n",
            "****************************\n"
          ],
          "name": "stdout"
        },
        {
          "output_type": "display_data",
          "data": {
            "application/javascript": [
              "\n",
              "        if (window._pyforest_update_imports_cell) { window._pyforest_update_imports_cell('import numpy as np\\nfrom sklearn.model_selection import train_test_split\\nimport lightgbm as lgb\\nimport pandas as pd\\nimport xgboost as xgb'); }\n",
              "    "
            ],
            "text/plain": [
              "<IPython.core.display.Javascript object>"
            ]
          },
          "metadata": {
            "tags": []
          }
        },
        {
          "output_type": "stream",
          "text": [
            "True          0    1\n",
            "Predicted           \n",
            "0          2418  264\n",
            "1           769  221\n",
            "MATHEW CORRELATION COEFF\n",
            "***************************\n",
            "0.16356629549090668\n",
            "ROC_AUC\n",
            "***************************\n",
            "0.6071886756442894\n"
          ],
          "name": "stdout"
        }
      ]
    },
    {
      "cell_type": "code",
      "metadata": {
        "id": "zIQsbBF2xc5G",
        "colab_type": "code",
        "outputId": "64515007-a8ce-417f-d6c1-81295d273bbd",
        "colab": {
          "base_uri": "https://localhost:8080/",
          "height": 562
        }
      },
      "source": [
        "lgb.plot_importance(model_lgbm, height=0.5,ignore_zero=True, figsize=(20,10))"
      ],
      "execution_count": 0,
      "outputs": [
        {
          "output_type": "execute_result",
          "data": {
            "text/plain": [
              "<matplotlib.axes._subplots.AxesSubplot at 0x7f5f37755c50>"
            ]
          },
          "metadata": {
            "tags": []
          },
          "execution_count": 264
        },
        {
          "output_type": "display_data",
          "data": {
            "image/png": "[encoded data removed]",
            "text/plain": [
              "<Figure size 1440x720 with 1 Axes>"
            ]
          },
          "metadata": {
            "tags": [],
            "needs_background": "light"
          }
        }
      ]
    },
    {
      "cell_type": "code",
      "metadata": {
        "id": "FBNT0HCA159D",
        "colab_type": "code",
        "colab": {}
      },
      "source": [
        "train.to_csv('train.csv', index=False)\n",
        "test.to_csv('test.csv', index=False)"
      ],
      "execution_count": 0,
      "outputs": []
    },
    {
      "cell_type": "code",
      "metadata": {
        "id": "Qsy9XnDuEsrT",
        "colab_type": "code",
        "colab": {}
      },
      "source": [
        ""
      ],
      "execution_count": 0,
      "outputs": []
    }
  ]
}